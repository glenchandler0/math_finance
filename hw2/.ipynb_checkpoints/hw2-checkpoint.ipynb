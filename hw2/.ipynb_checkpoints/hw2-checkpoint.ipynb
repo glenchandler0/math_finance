{
 "cells": [
  {
   "cell_type": "markdown",
   "metadata": {
    "slideshow": {
     "slide_type": "-"
    }
   },
   "source": [
    "# HW2 \\#4\n",
    "\n",
    "**Glen Chandler**"
   ]
  },
  {
   "cell_type": "code",
   "execution_count": null,
   "metadata": {
    "slideshow": {
     "slide_type": "fragment"
    }
   },
   "outputs": [],
   "source": [
    "%pylab inline\n",
    "import os\n",
    "from ipypublish import nb_setup\n",
    "import pandas as pd\n",
    "from datetime import datetime\n",
    "import pandas_datareader.data as web"
   ]
  },
  {
   "cell_type": "markdown",
   "metadata": {},
   "source": [
    "### Collecting 6 years of GOOG data"
   ]
  },
  {
   "cell_type": "code",
   "execution_count": null,
   "metadata": {},
   "outputs": [],
   "source": [
    "stkdata = web.DataReader(\"NKE\",  \"yahoo\", datetime(2012,12,31), datetime(2018,12,31))\n",
    "stkp = stkdata[\"Adj Close\"]"
   ]
  },
  {
   "cell_type": "code",
   "execution_count": null,
   "metadata": {},
   "outputs": [],
   "source": [
    "stkdata.head()"
   ]
  },
  {
   "cell_type": "code",
   "execution_count": null,
   "metadata": {},
   "outputs": [],
   "source": [
    "rets = stkp.pct_change()"
   ]
  },
  {
   "cell_type": "markdown",
   "metadata": {},
   "source": [
    "## 4.a"
   ]
  },
  {
   "cell_type": "code",
   "execution_count": null,
   "metadata": {},
   "outputs": [],
   "source": [
    "mean_daily_ret = rets.mean()\n",
    "mean_yearly_ret = rets.mean() * 252.0\n",
    "\n",
    "print(\"Mean Daily Return: \", mean_daily_ret)\n",
    "print(\"Mean Yearly Return: \", mean_yearly_ret)"
   ]
  },
  {
   "cell_type": "markdown",
   "metadata": {},
   "source": [
    "## 4.b"
   ]
  },
  {
   "cell_type": "code",
   "execution_count": null,
   "metadata": {},
   "outputs": [],
   "source": [
    "daily_stddev = rets.std()\n",
    "yearly_stddev = rets.std() * sqrt(252.0)\n",
    "\n",
    "print(\"Daily standard deviation: \", daily_stddev)\n",
    "print(\"Yearly standard deviation: \", yearly_stddev)"
   ]
  },
  {
   "cell_type": "markdown",
   "metadata": {},
   "source": [
    "## 4.c"
   ]
  },
  {
   "cell_type": "code",
   "execution_count": null,
   "metadata": {},
   "outputs": [],
   "source": [
    "one_year_mean = rets[0:252].mean()\n",
    "one_year_stddev = rets[0:252].std()\n",
    "print(\"one year mean: \", one_year_mean)\n",
    "print(\"one year stddev: \", one_year_stddev)\n",
    "\n",
    "random_draws_1yr = numpy.random.normal(one_year_mean, one_year_stddev, 1511)\n",
    "\n",
    "hist(random_draws_1yr,50)\n",
    "grid()"
   ]
  },
  {
   "cell_type": "markdown",
   "metadata": {},
   "source": [
    "## 4.d"
   ]
  },
  {
   "cell_type": "code",
   "execution_count": null,
   "metadata": {},
   "outputs": [],
   "source": [
    "five_year_mean = rets[0:252*5].mean()\n",
    "five_year_stddev = rets[0:252*5].std()\n",
    "print(\"five year mean: \", five_year_mean)\n",
    "print(\"five year stddev: \", five_year_stddev)\n",
    "\n",
    "random_draws_5yr = numpy.random.normal(one_year_mean, one_year_stddev, 252 * 5)\n",
    "\n",
    "hist(random_draws_5yr, 50)\n",
    "grid()"
   ]
  },
  {
   "cell_type": "markdown",
   "metadata": {},
   "source": [
    "When comparing the two distributions, the smaller resolution yields a higher average. This is because the stock I chose is mostly positive. The smaller sample size means that the smaller distribution would be more shifted towards the positive return that is seen for the one year window."
   ]
  },
  {
   "cell_type": "markdown",
   "metadata": {},
   "source": [
    "## 4.e"
   ]
  },
  {
   "cell_type": "code",
   "execution_count": null,
   "metadata": {},
   "outputs": [],
   "source": [
    "#Generate annualized return time series\n",
    "annualized_rets = rets * 252.0"
   ]
  },
  {
   "cell_type": "code",
   "execution_count": null,
   "metadata": {},
   "outputs": [],
   "source": [
    "hist(random_draws_1yr, 50, alpha=0.5)\n",
    "hist(annualized_rets, 50, alpha=0.5)\n",
    "print(\"Blue: Simulated daily return\")\n",
    "print(\"Orange: Annualized returns\")\n",
    "show()"
   ]
  },
  {
   "cell_type": "markdown",
   "metadata": {},
   "source": []
  },
  {
   "cell_type": "markdown",
   "metadata": {},
   "source": [
    "## 4.f"
   ]
  },
  {
   "cell_type": "code",
   "execution_count": null,
   "metadata": {},
   "outputs": [],
   "source": [
    "# Setup variables\n",
    "n = 20\n",
    "mu = mean_daily_ret\n",
    "sigma = daily_stddev\n",
    "\n",
    "# Calculate random variable inequality\n",
    "prob = (-.1) / n\n",
    "z_check_val = (prob - mu) / (sigma / sqrt(n))"
   ]
  },
  {
   "cell_type": "code",
   "execution_count": null,
   "metadata": {},
   "outputs": [],
   "source": [
    "from scipy import stats\n",
    "\n",
    "# Compute z score from z_check_val\n",
    "probability = stats.norm.cdf(z_check_val)\n",
    "print(\"probability: \", probability)"
   ]
  },
  {
   "cell_type": "markdown",
   "metadata": {},
   "source": [
    "## 4.g"
   ]
  },
  {
   "cell_type": "code",
   "execution_count": null,
   "metadata": {},
   "outputs": [],
   "source": [
    "count_occurances = 0\n",
    "for j in range(0, 100000):\n",
    "    temp_sum = 0\n",
    "    for i in range(0, 20):\n",
    "        rand_index = random.randint(1, len(rets))\n",
    "        temp_sum = temp_sum + rets[rand_index]\n",
    "    if(temp_sum <= -0.10):\n",
    "        count_occurances =  count_occurances + 1\n",
    "print(count_occurances/100000)"
   ]
  }
 ],
 "metadata": {
  "anaconda-cloud": {},
  "celltoolbar": "Slideshow",
  "kernelspec": {
   "display_name": "Python 3",
   "language": "python",
   "name": "python3"
  },
  "language_info": {
   "codemirror_mode": {
    "name": "ipython",
    "version": 3
   },
   "file_extension": ".py",
   "mimetype": "text/x-python",
   "name": "python",
   "nbconvert_exporter": "python",
   "pygments_lexer": "ipython3",
   "version": "3.6.7"
  }
 },
 "nbformat": 4,
 "nbformat_minor": 1
}
