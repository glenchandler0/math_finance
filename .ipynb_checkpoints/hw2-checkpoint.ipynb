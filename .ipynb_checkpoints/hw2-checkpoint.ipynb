{
 "cells": [
  {
   "cell_type": "markdown",
   "metadata": {
    "slideshow": {
     "slide_type": "slide"
    }
   },
   "source": [
    "# Using Python for Data in Finance \n",
    "\n",
    "**Sanjiv R Das**"
   ]
  },
  {
   "cell_type": "code",
   "execution_count": null,
   "metadata": {
    "slideshow": {
     "slide_type": "fragment"
    }
   },
   "outputs": [],
   "source": [
    "%pylab inline\n",
    "import os\n",
    "from ipypublish import nb_setup\n",
    "import pandas as pd"
   ]
  },
  {
   "cell_type": "code",
   "execution_count": 3,
   "metadata": {
    "slideshow": {
     "slide_type": "slide"
    }
   },
   "outputs": [
    {
     "ename": "ModuleNotFoundError",
     "evalue": "No module named 'pandas_datareader'",
     "output_type": "error",
     "traceback": [
      "\u001b[0;31m---------------------------------------------------------------------------\u001b[0m",
      "\u001b[0;31mModuleNotFoundError\u001b[0m                       Traceback (most recent call last)",
      "\u001b[0;32m<ipython-input-3-10cfdf43dc40>\u001b[0m in \u001b[0;36m<module>\u001b[0;34m\u001b[0m\n\u001b[1;32m      5\u001b[0m \u001b[0;34m\u001b[0m\u001b[0m\n\u001b[1;32m      6\u001b[0m \u001b[0;32mfrom\u001b[0m \u001b[0mdatetime\u001b[0m \u001b[0;32mimport\u001b[0m \u001b[0mdatetime\u001b[0m\u001b[0;34m\u001b[0m\u001b[0;34m\u001b[0m\u001b[0m\n\u001b[0;32m----> 7\u001b[0;31m \u001b[0;32mimport\u001b[0m \u001b[0mpandas_datareader\u001b[0m\u001b[0;34m.\u001b[0m\u001b[0mdata\u001b[0m \u001b[0;32mas\u001b[0m \u001b[0mweb\u001b[0m\u001b[0;34m\u001b[0m\u001b[0;34m\u001b[0m\u001b[0m\n\u001b[0m\u001b[1;32m      8\u001b[0m \u001b[0mgoog\u001b[0m \u001b[0;34m=\u001b[0m \u001b[0mweb\u001b[0m\u001b[0;34m.\u001b[0m\u001b[0mDataReader\u001b[0m\u001b[0;34m(\u001b[0m\u001b[0;34m\"GOOG\"\u001b[0m\u001b[0;34m,\u001b[0m  \u001b[0;34m\"yahoo\"\u001b[0m\u001b[0;34m,\u001b[0m \u001b[0mdatetime\u001b[0m\u001b[0;34m(\u001b[0m\u001b[0;36m2015\u001b[0m\u001b[0;34m,\u001b[0m\u001b[0;36m1\u001b[0m\u001b[0;34m,\u001b[0m\u001b[0;36m1\u001b[0m\u001b[0;34m)\u001b[0m\u001b[0;34m,\u001b[0m \u001b[0mdatetime\u001b[0m\u001b[0;34m(\u001b[0m\u001b[0;36m2018\u001b[0m\u001b[0;34m,\u001b[0m\u001b[0;36m12\u001b[0m\u001b[0;34m,\u001b[0m\u001b[0;36m31\u001b[0m\u001b[0;34m)\u001b[0m\u001b[0;34m)\u001b[0m\u001b[0;34m\u001b[0m\u001b[0;34m\u001b[0m\u001b[0m\n\u001b[1;32m      9\u001b[0m \u001b[0;34m\u001b[0m\u001b[0m\n",
      "\u001b[0;31mModuleNotFoundError\u001b[0m: No module named 'pandas_datareader'"
     ]
    }
   ],
   "source": [
    "#IMPORTING STOCK DATA USING THE PANDAS MODULE\n",
    "#Install the pandas_datareader module using \"pip install pandas-datareader\"\n",
    "# or conda install pandas-datareader (preferred)\n",
    "#See: https://github.com/pydata/pandas-datareader\n",
    "\n",
    "from datetime import datetime\n",
    "import pandas_datareader.data as web"
   ]
  },
  {
   "cell_type": "code",
   "execution_count": null,
   "metadata": {},
   "outputs": [],
   "source": [
    "goog = web.DataReader(\"GOOG\",  \"yahoo\", datetime(2015,1,1), datetime(2018,12,31))\n",
    "\n",
    "stkp = goog[\"Adj Close\"]\n",
    "print(stkp.head())"
   ]
  },
  {
   "cell_type": "code",
   "execution_count": 61,
   "metadata": {
    "slideshow": {
     "slide_type": "slide"
    }
   },
   "outputs": [
    {
     "data": {
      "text/html": [
       "<div>\n",
       "<style scoped>\n",
       "    .dataframe tbody tr th:only-of-type {\n",
       "        vertical-align: middle;\n",
       "    }\n",
       "\n",
       "    .dataframe tbody tr th {\n",
       "        vertical-align: top;\n",
       "    }\n",
       "\n",
       "    .dataframe thead th {\n",
       "        text-align: right;\n",
       "    }\n",
       "</style>\n",
       "<table border=\"1\" class=\"dataframe\">\n",
       "  <thead>\n",
       "    <tr style=\"text-align: right;\">\n",
       "      <th></th>\n",
       "      <th>High</th>\n",
       "      <th>Low</th>\n",
       "      <th>Open</th>\n",
       "      <th>Close</th>\n",
       "      <th>Volume</th>\n",
       "      <th>Adj Close</th>\n",
       "    </tr>\n",
       "    <tr>\n",
       "      <th>Date</th>\n",
       "      <th></th>\n",
       "      <th></th>\n",
       "      <th></th>\n",
       "      <th></th>\n",
       "      <th></th>\n",
       "      <th></th>\n",
       "    </tr>\n",
       "  </thead>\n",
       "  <tbody>\n",
       "    <tr>\n",
       "      <th>2015-01-02</th>\n",
       "      <td>528.362366</td>\n",
       "      <td>521.231628</td>\n",
       "      <td>526.114746</td>\n",
       "      <td>521.937744</td>\n",
       "      <td>1447600.0</td>\n",
       "      <td>521.937744</td>\n",
       "    </tr>\n",
       "    <tr>\n",
       "      <th>2015-01-05</th>\n",
       "      <td>521.460388</td>\n",
       "      <td>510.252045</td>\n",
       "      <td>520.396240</td>\n",
       "      <td>511.057617</td>\n",
       "      <td>2059800.0</td>\n",
       "      <td>511.057617</td>\n",
       "    </tr>\n",
       "    <tr>\n",
       "      <th>2015-01-06</th>\n",
       "      <td>513.350037</td>\n",
       "      <td>498.307800</td>\n",
       "      <td>512.181458</td>\n",
       "      <td>499.212799</td>\n",
       "      <td>2899900.0</td>\n",
       "      <td>499.212799</td>\n",
       "    </tr>\n",
       "    <tr>\n",
       "      <th>2015-01-07</th>\n",
       "      <td>504.467896</td>\n",
       "      <td>496.915436</td>\n",
       "      <td>504.225220</td>\n",
       "      <td>498.357513</td>\n",
       "      <td>2065100.0</td>\n",
       "      <td>498.357513</td>\n",
       "    </tr>\n",
       "    <tr>\n",
       "      <th>2015-01-08</th>\n",
       "      <td>500.724487</td>\n",
       "      <td>488.312805</td>\n",
       "      <td>495.264526</td>\n",
       "      <td>499.928864</td>\n",
       "      <td>3353600.0</td>\n",
       "      <td>499.928864</td>\n",
       "    </tr>\n",
       "  </tbody>\n",
       "</table>\n",
       "</div>"
      ],
      "text/plain": [
       "                  High         Low        Open       Close     Volume  \\\n",
       "Date                                                                    \n",
       "2015-01-02  528.362366  521.231628  526.114746  521.937744  1447600.0   \n",
       "2015-01-05  521.460388  510.252045  520.396240  511.057617  2059800.0   \n",
       "2015-01-06  513.350037  498.307800  512.181458  499.212799  2899900.0   \n",
       "2015-01-07  504.467896  496.915436  504.225220  498.357513  2065100.0   \n",
       "2015-01-08  500.724487  488.312805  495.264526  499.928864  3353600.0   \n",
       "\n",
       "             Adj Close  \n",
       "Date                    \n",
       "2015-01-02  521.937744  \n",
       "2015-01-05  511.057617  \n",
       "2015-01-06  499.212799  \n",
       "2015-01-07  498.357513  \n",
       "2015-01-08  499.928864  "
      ]
     },
     "execution_count": 61,
     "metadata": {},
     "output_type": "execute_result"
    }
   ],
   "source": [
    "### Display the top of the data frame. \n",
    "\n",
    "goog.head()"
   ]
  },
  {
   "cell_type": "code",
   "execution_count": 62,
   "metadata": {
    "slideshow": {
     "slide_type": "slide"
    }
   },
   "outputs": [
    {
     "data": {
      "text/plain": [
       "DatetimeIndex(['2015-01-02', '2015-01-05', '2015-01-06', '2015-01-07',\n",
       "               '2015-01-08', '2015-01-09', '2015-01-12', '2015-01-13',\n",
       "               '2015-01-14', '2015-01-15',\n",
       "               ...\n",
       "               '2018-12-17', '2018-12-18', '2018-12-19', '2018-12-20',\n",
       "               '2018-12-21', '2018-12-24', '2018-12-26', '2018-12-27',\n",
       "               '2018-12-28', '2018-12-31'],\n",
       "              dtype='datetime64[ns]', name='Date', length=1006, freq=None)"
      ]
     },
     "execution_count": 62,
     "metadata": {},
     "output_type": "execute_result"
    }
   ],
   "source": [
    "### Diaplay row names, i.e., dates. \n",
    "\n",
    "goog.index"
   ]
  },
  {
   "cell_type": "code",
   "execution_count": 63,
   "metadata": {
    "slideshow": {
     "slide_type": "slide"
    }
   },
   "outputs": [
    {
     "data": {
      "image/png": "[encoded data removed]",
      "text/plain": [
       "<Figure size 1080x360 with 1 Axes>"
      ]
     },
     "metadata": {
      "needs_background": "light"
     },
     "output_type": "display_data"
    }
   ],
   "source": [
    "from pandas.plotting import register_matplotlib_converters\n",
    "register_matplotlib_converters()\n",
    "\n",
    "##PLOT THE STOCK PRICE OVER TIME\n",
    "rcParams['figure.figsize'] = 15,5\n",
    "\n",
    "t = goog.index\n",
    "plot(t,stkp)\n",
    "xlabel(\"Date\")\n",
    "ylabel(\"Stock Price\")\n",
    "grid()"
   ]
  },
  {
   "cell_type": "code",
   "execution_count": 64,
   "metadata": {
    "slideshow": {
     "slide_type": "slide"
    }
   },
   "outputs": [
    {
     "name": "stdout",
     "output_type": "stream",
     "text": [
      "1005\n"
     ]
    },
    {
     "data": {
      "image/png": "[encoded data removed]",
      "text/plain": [
       "<Figure size 1080x360 with 1 Axes>"
      ]
     },
     "metadata": {
      "needs_background": "light"
     },
     "output_type": "display_data"
    }
   ],
   "source": [
    "### PLOT RETURNS (contunuously compounded)\n",
    "\n",
    "n = len(t)-1\n",
    "print(n)\n",
    "rets = zeros(n)\n",
    "for j in range(n):\n",
    "    rets[j] = log(stkp[j+1]/stkp[j])\n",
    "plot(rets)\n",
    "ylabel(\"Returns\")\n",
    "grid()"
   ]
  },
  {
   "cell_type": "code",
   "execution_count": 65,
   "metadata": {
    "slideshow": {
     "slide_type": "slide"
    }
   },
   "outputs": [
    {
     "data": {
      "image/png": "[encoded data removed]",
      "text/plain": [
       "<Figure size 1080x360 with 1 Axes>"
      ]
     },
     "metadata": {
      "needs_background": "light"
     },
     "output_type": "display_data"
    }
   ],
   "source": [
    "### Examine the distribution of returns visually using a histogram.\n",
    "\n",
    "hist(rets,50)\n",
    "grid()"
   ]
  },
  {
   "cell_type": "code",
   "execution_count": 66,
   "metadata": {
    "slideshow": {
     "slide_type": "slide"
    }
   },
   "outputs": [
    {
     "data": {
      "text/html": [
       "<div>\n",
       "<style scoped>\n",
       "    .dataframe tbody tr th:only-of-type {\n",
       "        vertical-align: middle;\n",
       "    }\n",
       "\n",
       "    .dataframe tbody tr th {\n",
       "        vertical-align: top;\n",
       "    }\n",
       "\n",
       "    .dataframe thead th {\n",
       "        text-align: right;\n",
       "    }\n",
       "</style>\n",
       "<table border=\"1\" class=\"dataframe\">\n",
       "  <thead>\n",
       "    <tr style=\"text-align: right;\">\n",
       "      <th></th>\n",
       "      <th>High</th>\n",
       "      <th>Low</th>\n",
       "      <th>Open</th>\n",
       "      <th>Close</th>\n",
       "      <th>Volume</th>\n",
       "      <th>Adj Close</th>\n",
       "    </tr>\n",
       "  </thead>\n",
       "  <tbody>\n",
       "    <tr>\n",
       "      <th>count</th>\n",
       "      <td>1006.000000</td>\n",
       "      <td>1006.000000</td>\n",
       "      <td>1006.000000</td>\n",
       "      <td>1006.000000</td>\n",
       "      <td>1.006000e+03</td>\n",
       "      <td>1006.000000</td>\n",
       "    </tr>\n",
       "    <tr>\n",
       "      <th>mean</th>\n",
       "      <td>851.924470</td>\n",
       "      <td>837.053159</td>\n",
       "      <td>844.659912</td>\n",
       "      <td>844.667879</td>\n",
       "      <td>1.779534e+06</td>\n",
       "      <td>844.667879</td>\n",
       "    </tr>\n",
       "    <tr>\n",
       "      <th>std</th>\n",
       "      <td>205.857682</td>\n",
       "      <td>201.527147</td>\n",
       "      <td>203.662324</td>\n",
       "      <td>203.657023</td>\n",
       "      <td>8.810471e+05</td>\n",
       "      <td>203.657023</td>\n",
       "    </tr>\n",
       "    <tr>\n",
       "      <th>min</th>\n",
       "      <td>493.261566</td>\n",
       "      <td>484.891632</td>\n",
       "      <td>491.942810</td>\n",
       "      <td>489.854309</td>\n",
       "      <td>5.272000e+05</td>\n",
       "      <td>489.854309</td>\n",
       "    </tr>\n",
       "    <tr>\n",
       "      <th>25%</th>\n",
       "      <td>713.477493</td>\n",
       "      <td>698.899994</td>\n",
       "      <td>706.997513</td>\n",
       "      <td>706.287491</td>\n",
       "      <td>1.260650e+06</td>\n",
       "      <td>706.287491</td>\n",
       "    </tr>\n",
       "    <tr>\n",
       "      <th>50%</th>\n",
       "      <td>803.729980</td>\n",
       "      <td>793.465027</td>\n",
       "      <td>798.959991</td>\n",
       "      <td>797.459991</td>\n",
       "      <td>1.558900e+06</td>\n",
       "      <td>797.459991</td>\n",
       "    </tr>\n",
       "    <tr>\n",
       "      <th>75%</th>\n",
       "      <td>1040.614716</td>\n",
       "      <td>1017.362503</td>\n",
       "      <td>1027.809998</td>\n",
       "      <td>1028.549957</td>\n",
       "      <td>2.047500e+06</td>\n",
       "      <td>1028.549957</td>\n",
       "    </tr>\n",
       "    <tr>\n",
       "      <th>max</th>\n",
       "      <td>1273.890015</td>\n",
       "      <td>1249.020020</td>\n",
       "      <td>1271.000000</td>\n",
       "      <td>1268.329956</td>\n",
       "      <td>1.116490e+07</td>\n",
       "      <td>1268.329956</td>\n",
       "    </tr>\n",
       "  </tbody>\n",
       "</table>\n",
       "</div>"
      ],
      "text/plain": [
       "              High          Low         Open        Close        Volume  \\\n",
       "count  1006.000000  1006.000000  1006.000000  1006.000000  1.006000e+03   \n",
       "mean    851.924470   837.053159   844.659912   844.667879  1.779534e+06   \n",
       "std     205.857682   201.527147   203.662324   203.657023  8.810471e+05   \n",
       "min     493.261566   484.891632   491.942810   489.854309  5.272000e+05   \n",
       "25%     713.477493   698.899994   706.997513   706.287491  1.260650e+06   \n",
       "50%     803.729980   793.465027   798.959991   797.459991  1.558900e+06   \n",
       "75%    1040.614716  1017.362503  1027.809998  1028.549957  2.047500e+06   \n",
       "max    1273.890015  1249.020020  1271.000000  1268.329956  1.116490e+07   \n",
       "\n",
       "         Adj Close  \n",
       "count  1006.000000  \n",
       "mean    844.667879  \n",
       "std     203.657023  \n",
       "min     489.854309  \n",
       "25%     706.287491  \n",
       "50%     797.459991  \n",
       "75%    1028.549957  \n",
       "max    1268.329956  "
      ]
     },
     "execution_count": 66,
     "metadata": {},
     "output_type": "execute_result"
    }
   ],
   "source": [
    "### Summary Statistics\n",
    "\n",
    "goog.describe()"
   ]
  },
  {
   "cell_type": "code",
   "execution_count": 67,
   "metadata": {
    "slideshow": {
     "slide_type": "slide"
    }
   },
   "outputs": [
    {
     "name": "stdout",
     "output_type": "stream",
     "text": [
      "Skewness =  0.8470060468945968\n",
      "Kurtosis =  11.690621049096224\n",
      "Excess Kurtosis for standard normal =  0.006635617821469708\n"
     ]
    }
   ],
   "source": [
    "### Calculate the Higher-Order Moments\n",
    "\n",
    "import scipy.stats as ss\n",
    "print(\"Skewness = \",ss.skew(rets))\n",
    "print(\"Kurtosis = \",ss.kurtosis(rets))\n",
    "\n",
    "#CHECK IF THIS IS EXCESS KURTOSIS or PLAIN KURTOSIS\n",
    "x = randn(1000000)\n",
    "print(\"Excess Kurtosis for standard normal = \",ss.kurtosis(x))"
   ]
  },
  {
   "cell_type": "markdown",
   "metadata": {
    "slideshow": {
     "slide_type": "slide"
    }
   },
   "source": [
    "## Pulling more data "
   ]
  },
  {
   "cell_type": "code",
   "execution_count": 68,
   "metadata": {
    "slideshow": {
     "slide_type": "fragment"
    }
   },
   "outputs": [
    {
     "data": {
      "text/html": [
       "<div>\n",
       "<style scoped>\n",
       "    .dataframe tbody tr th:only-of-type {\n",
       "        vertical-align: middle;\n",
       "    }\n",
       "\n",
       "    .dataframe tbody tr th {\n",
       "        vertical-align: top;\n",
       "    }\n",
       "\n",
       "    .dataframe thead tr th {\n",
       "        text-align: left;\n",
       "    }\n",
       "\n",
       "    .dataframe thead tr:last-of-type th {\n",
       "        text-align: right;\n",
       "    }\n",
       "</style>\n",
       "<table border=\"1\" class=\"dataframe\">\n",
       "  <thead>\n",
       "    <tr>\n",
       "      <th>Attributes</th>\n",
       "      <th colspan=\"5\" halign=\"left\">High</th>\n",
       "      <th colspan=\"5\" halign=\"left\">Low</th>\n",
       "      <th>...</th>\n",
       "      <th colspan=\"5\" halign=\"left\">Volume</th>\n",
       "      <th colspan=\"5\" halign=\"left\">Adj Close</th>\n",
       "    </tr>\n",
       "    <tr>\n",
       "      <th>Symbols</th>\n",
       "      <th>AAPL</th>\n",
       "      <th>C</th>\n",
       "      <th>CSCO</th>\n",
       "      <th>GOOG</th>\n",
       "      <th>MSFT</th>\n",
       "      <th>AAPL</th>\n",
       "      <th>C</th>\n",
       "      <th>CSCO</th>\n",
       "      <th>GOOG</th>\n",
       "      <th>MSFT</th>\n",
       "      <th>...</th>\n",
       "      <th>AAPL</th>\n",
       "      <th>C</th>\n",
       "      <th>CSCO</th>\n",
       "      <th>GOOG</th>\n",
       "      <th>MSFT</th>\n",
       "      <th>AAPL</th>\n",
       "      <th>C</th>\n",
       "      <th>CSCO</th>\n",
       "      <th>GOOG</th>\n",
       "      <th>MSFT</th>\n",
       "    </tr>\n",
       "    <tr>\n",
       "      <th>Date</th>\n",
       "      <th></th>\n",
       "      <th></th>\n",
       "      <th></th>\n",
       "      <th></th>\n",
       "      <th></th>\n",
       "      <th></th>\n",
       "      <th></th>\n",
       "      <th></th>\n",
       "      <th></th>\n",
       "      <th></th>\n",
       "      <th></th>\n",
       "      <th></th>\n",
       "      <th></th>\n",
       "      <th></th>\n",
       "      <th></th>\n",
       "      <th></th>\n",
       "      <th></th>\n",
       "      <th></th>\n",
       "      <th></th>\n",
       "      <th></th>\n",
       "      <th></th>\n",
       "    </tr>\n",
       "  </thead>\n",
       "  <tbody>\n",
       "    <tr>\n",
       "      <th>2007-01-03</th>\n",
       "      <td>12.368571</td>\n",
       "      <td>562.799988</td>\n",
       "      <td>27.98</td>\n",
       "      <td>236.789917</td>\n",
       "      <td>30.250000</td>\n",
       "      <td>11.700000</td>\n",
       "      <td>547.200012</td>\n",
       "      <td>27.330000</td>\n",
       "      <td>229.065155</td>\n",
       "      <td>29.400000</td>\n",
       "      <td>...</td>\n",
       "      <td>309579900.0</td>\n",
       "      <td>2282100.0</td>\n",
       "      <td>64226000.0</td>\n",
       "      <td>15513200.0</td>\n",
       "      <td>76935100.0</td>\n",
       "      <td>7.982585</td>\n",
       "      <td>515.527100</td>\n",
       "      <td>21.925289</td>\n",
       "      <td>232.284210</td>\n",
       "      <td>22.478832</td>\n",
       "    </tr>\n",
       "    <tr>\n",
       "      <th>2007-01-04</th>\n",
       "      <td>12.278571</td>\n",
       "      <td>561.500000</td>\n",
       "      <td>28.49</td>\n",
       "      <td>240.411362</td>\n",
       "      <td>29.969999</td>\n",
       "      <td>11.974286</td>\n",
       "      <td>547.200012</td>\n",
       "      <td>27.540001</td>\n",
       "      <td>232.661758</td>\n",
       "      <td>29.440001</td>\n",
       "      <td>...</td>\n",
       "      <td>211815100.0</td>\n",
       "      <td>1658600.0</td>\n",
       "      <td>73012100.0</td>\n",
       "      <td>15877700.0</td>\n",
       "      <td>45774500.0</td>\n",
       "      <td>8.159763</td>\n",
       "      <td>513.754211</td>\n",
       "      <td>22.502472</td>\n",
       "      <td>240.068588</td>\n",
       "      <td>22.441185</td>\n",
       "    </tr>\n",
       "    <tr>\n",
       "      <th>2007-01-05</th>\n",
       "      <td>12.314285</td>\n",
       "      <td>550.500000</td>\n",
       "      <td>28.57</td>\n",
       "      <td>242.174881</td>\n",
       "      <td>29.750000</td>\n",
       "      <td>12.057143</td>\n",
       "      <td>544.599976</td>\n",
       "      <td>28.049999</td>\n",
       "      <td>237.510223</td>\n",
       "      <td>29.450001</td>\n",
       "      <td>...</td>\n",
       "      <td>208685400.0</td>\n",
       "      <td>1317800.0</td>\n",
       "      <td>62647800.0</td>\n",
       "      <td>13833500.0</td>\n",
       "      <td>44607200.0</td>\n",
       "      <td>8.101658</td>\n",
       "      <td>511.048340</td>\n",
       "      <td>22.510378</td>\n",
       "      <td>242.020889</td>\n",
       "      <td>22.313211</td>\n",
       "    </tr>\n",
       "    <tr>\n",
       "      <th>2007-01-08</th>\n",
       "      <td>12.361428</td>\n",
       "      <td>551.500000</td>\n",
       "      <td>28.74</td>\n",
       "      <td>243.352234</td>\n",
       "      <td>30.100000</td>\n",
       "      <td>12.182858</td>\n",
       "      <td>543.000000</td>\n",
       "      <td>28.320000</td>\n",
       "      <td>239.542007</td>\n",
       "      <td>29.530001</td>\n",
       "      <td>...</td>\n",
       "      <td>199276700.0</td>\n",
       "      <td>1236900.0</td>\n",
       "      <td>47936500.0</td>\n",
       "      <td>9570600.0</td>\n",
       "      <td>50220200.0</td>\n",
       "      <td>8.141665</td>\n",
       "      <td>513.661072</td>\n",
       "      <td>22.636887</td>\n",
       "      <td>240.227554</td>\n",
       "      <td>22.531523</td>\n",
       "    </tr>\n",
       "    <tr>\n",
       "      <th>2007-01-09</th>\n",
       "      <td>13.282857</td>\n",
       "      <td>551.500000</td>\n",
       "      <td>28.75</td>\n",
       "      <td>242.547470</td>\n",
       "      <td>30.180000</td>\n",
       "      <td>12.164286</td>\n",
       "      <td>541.900024</td>\n",
       "      <td>28.309999</td>\n",
       "      <td>239.045242</td>\n",
       "      <td>29.730000</td>\n",
       "      <td>...</td>\n",
       "      <td>837324600.0</td>\n",
       "      <td>1963000.0</td>\n",
       "      <td>50488300.0</td>\n",
       "      <td>10832700.0</td>\n",
       "      <td>44636600.0</td>\n",
       "      <td>8.817995</td>\n",
       "      <td>509.182159</td>\n",
       "      <td>22.510378</td>\n",
       "      <td>241.181351</td>\n",
       "      <td>22.554110</td>\n",
       "    </tr>\n",
       "  </tbody>\n",
       "</table>\n",
       "<p>5 rows × 30 columns</p>\n",
       "</div>"
      ],
      "text/plain": [
       "Attributes       High                                                  Low  \\\n",
       "Symbols          AAPL           C   CSCO        GOOG       MSFT       AAPL   \n",
       "Date                                                                         \n",
       "2007-01-03  12.368571  562.799988  27.98  236.789917  30.250000  11.700000   \n",
       "2007-01-04  12.278571  561.500000  28.49  240.411362  29.969999  11.974286   \n",
       "2007-01-05  12.314285  550.500000  28.57  242.174881  29.750000  12.057143   \n",
       "2007-01-08  12.361428  551.500000  28.74  243.352234  30.100000  12.182858   \n",
       "2007-01-09  13.282857  551.500000  28.75  242.547470  30.180000  12.164286   \n",
       "\n",
       "Attributes                                                  ...      \\\n",
       "Symbols              C       CSCO        GOOG       MSFT    ...       \n",
       "Date                                                        ...       \n",
       "2007-01-03  547.200012  27.330000  229.065155  29.400000    ...       \n",
       "2007-01-04  547.200012  27.540001  232.661758  29.440001    ...       \n",
       "2007-01-05  544.599976  28.049999  237.510223  29.450001    ...       \n",
       "2007-01-08  543.000000  28.320000  239.542007  29.530001    ...       \n",
       "2007-01-09  541.900024  28.309999  239.045242  29.730000    ...       \n",
       "\n",
       "Attributes       Volume                                                 \\\n",
       "Symbols            AAPL          C        CSCO        GOOG        MSFT   \n",
       "Date                                                                     \n",
       "2007-01-03  309579900.0  2282100.0  64226000.0  15513200.0  76935100.0   \n",
       "2007-01-04  211815100.0  1658600.0  73012100.0  15877700.0  45774500.0   \n",
       "2007-01-05  208685400.0  1317800.0  62647800.0  13833500.0  44607200.0   \n",
       "2007-01-08  199276700.0  1236900.0  47936500.0   9570600.0  50220200.0   \n",
       "2007-01-09  837324600.0  1963000.0  50488300.0  10832700.0  44636600.0   \n",
       "\n",
       "Attributes Adj Close                                                \n",
       "Symbols         AAPL           C       CSCO        GOOG       MSFT  \n",
       "Date                                                                \n",
       "2007-01-03  7.982585  515.527100  21.925289  232.284210  22.478832  \n",
       "2007-01-04  8.159763  513.754211  22.502472  240.068588  22.441185  \n",
       "2007-01-05  8.101658  511.048340  22.510378  242.020889  22.313211  \n",
       "2007-01-08  8.141665  513.661072  22.636887  240.227554  22.531523  \n",
       "2007-01-09  8.817995  509.182159  22.510378  241.181351  22.554110  \n",
       "\n",
       "[5 rows x 30 columns]"
      ]
     },
     "execution_count": 68,
     "metadata": {},
     "output_type": "execute_result"
    }
   ],
   "source": [
    "data = web.DataReader([\"GOOG\",\"AAPL\",\"CSCO\",\"C\",\"MSFT\"], \"yahoo\", datetime(2007,1,1), datetime(2018,12,31))\n",
    "data.head()"
   ]
  },
  {
   "cell_type": "code",
   "execution_count": 69,
   "metadata": {
    "slideshow": {
     "slide_type": "slide"
    }
   },
   "outputs": [
    {
     "data": {
      "text/html": [
       "<div>\n",
       "<style scoped>\n",
       "    .dataframe tbody tr th:only-of-type {\n",
       "        vertical-align: middle;\n",
       "    }\n",
       "\n",
       "    .dataframe tbody tr th {\n",
       "        vertical-align: top;\n",
       "    }\n",
       "\n",
       "    .dataframe thead th {\n",
       "        text-align: right;\n",
       "    }\n",
       "</style>\n",
       "<table border=\"1\" class=\"dataframe\">\n",
       "  <thead>\n",
       "    <tr style=\"text-align: right;\">\n",
       "      <th>Symbols</th>\n",
       "      <th>AAPL</th>\n",
       "      <th>C</th>\n",
       "      <th>CSCO</th>\n",
       "      <th>GOOG</th>\n",
       "      <th>MSFT</th>\n",
       "    </tr>\n",
       "    <tr>\n",
       "      <th>Date</th>\n",
       "      <th></th>\n",
       "      <th></th>\n",
       "      <th></th>\n",
       "      <th></th>\n",
       "      <th></th>\n",
       "    </tr>\n",
       "  </thead>\n",
       "  <tbody>\n",
       "    <tr>\n",
       "      <th>2007-01-03</th>\n",
       "      <td>7.982585</td>\n",
       "      <td>515.527100</td>\n",
       "      <td>21.925289</td>\n",
       "      <td>232.284210</td>\n",
       "      <td>22.478832</td>\n",
       "    </tr>\n",
       "    <tr>\n",
       "      <th>2007-01-04</th>\n",
       "      <td>8.159763</td>\n",
       "      <td>513.754211</td>\n",
       "      <td>22.502472</td>\n",
       "      <td>240.068588</td>\n",
       "      <td>22.441185</td>\n",
       "    </tr>\n",
       "    <tr>\n",
       "      <th>2007-01-05</th>\n",
       "      <td>8.101658</td>\n",
       "      <td>511.048340</td>\n",
       "      <td>22.510378</td>\n",
       "      <td>242.020889</td>\n",
       "      <td>22.313211</td>\n",
       "    </tr>\n",
       "    <tr>\n",
       "      <th>2007-01-08</th>\n",
       "      <td>8.141665</td>\n",
       "      <td>513.661072</td>\n",
       "      <td>22.636887</td>\n",
       "      <td>240.227554</td>\n",
       "      <td>22.531523</td>\n",
       "    </tr>\n",
       "    <tr>\n",
       "      <th>2007-01-09</th>\n",
       "      <td>8.817995</td>\n",
       "      <td>509.182159</td>\n",
       "      <td>22.510378</td>\n",
       "      <td>241.181351</td>\n",
       "      <td>22.554110</td>\n",
       "    </tr>\n",
       "  </tbody>\n",
       "</table>\n",
       "</div>"
      ],
      "text/plain": [
       "Symbols         AAPL           C       CSCO        GOOG       MSFT\n",
       "Date                                                              \n",
       "2007-01-03  7.982585  515.527100  21.925289  232.284210  22.478832\n",
       "2007-01-04  8.159763  513.754211  22.502472  240.068588  22.441185\n",
       "2007-01-05  8.101658  511.048340  22.510378  242.020889  22.313211\n",
       "2007-01-08  8.141665  513.661072  22.636887  240.227554  22.531523\n",
       "2007-01-09  8.817995  509.182159  22.510378  241.181351  22.554110"
      ]
     },
     "execution_count": 69,
     "metadata": {},
     "output_type": "execute_result"
    }
   ],
   "source": [
    "stk = data[\"Adj Close\"]\n",
    "stk.head()"
   ]
  },
  {
   "cell_type": "markdown",
   "metadata": {
    "slideshow": {
     "slide_type": "slide"
    }
   },
   "source": [
    "## Pandas is Awesome\n",
    "\n",
    "This is a useful book to have: \n",
    "http://www3.canisius.edu/~yany/python/Python4DataAnalysis.pdf"
   ]
  },
  {
   "cell_type": "code",
   "execution_count": 70,
   "metadata": {
    "slideshow": {
     "slide_type": "fragment"
    }
   },
   "outputs": [
    {
     "data": {
      "text/plain": [
       "Symbols\n",
       "AAPL      7.982585\n",
       "C       515.527100\n",
       "CSCO     21.925289\n",
       "GOOG    232.284210\n",
       "MSFT     22.478832\n",
       "Name: 2007-01-03 00:00:00, dtype: float64"
      ]
     },
     "execution_count": 70,
     "metadata": {},
     "output_type": "execute_result"
    }
   ],
   "source": [
    "### PULL ONE ROW \n",
    "\n",
    "stk.loc['2007-01-03']"
   ]
  },
  {
   "cell_type": "code",
   "execution_count": 71,
   "metadata": {
    "slideshow": {
     "slide_type": "fragment"
    }
   },
   "outputs": [
    {
     "data": {
      "text/plain": [
       "7.9825849533081055"
      ]
     },
     "execution_count": 71,
     "metadata": {},
     "output_type": "execute_result"
    }
   ],
   "source": [
    "stk.loc['2007-01-03'][\"AAPL\"]"
   ]
  },
  {
   "cell_type": "code",
   "execution_count": 72,
   "metadata": {
    "slideshow": {
     "slide_type": "slide"
    }
   },
   "outputs": [
    {
     "name": "stderr",
     "output_type": "stream",
     "text": [
      "/Users/srdas/anaconda3/lib/python3.7/site-packages/ipykernel_launcher.py:3: SettingWithCopyWarning: \n",
      "A value is trying to be set on a copy of a slice from a DataFrame.\n",
      "Try using .loc[row_indexer,col_indexer] = value instead\n",
      "\n",
      "See the caveats in the documentation: http://pandas.pydata.org/pandas-docs/stable/indexing.html#indexing-view-versus-copy\n",
      "  This is separate from the ipykernel package so we can avoid doing imports until\n"
     ]
    },
    {
     "data": {
      "text/html": [
       "<div>\n",
       "<style scoped>\n",
       "    .dataframe tbody tr th:only-of-type {\n",
       "        vertical-align: middle;\n",
       "    }\n",
       "\n",
       "    .dataframe tbody tr th {\n",
       "        vertical-align: top;\n",
       "    }\n",
       "\n",
       "    .dataframe thead th {\n",
       "        text-align: right;\n",
       "    }\n",
       "</style>\n",
       "<table border=\"1\" class=\"dataframe\">\n",
       "  <thead>\n",
       "    <tr style=\"text-align: right;\">\n",
       "      <th>Symbols</th>\n",
       "      <th>AAPL</th>\n",
       "      <th>C</th>\n",
       "      <th>CSCO</th>\n",
       "      <th>GOOG</th>\n",
       "      <th>MSFT</th>\n",
       "      <th>extra</th>\n",
       "    </tr>\n",
       "    <tr>\n",
       "      <th>Date</th>\n",
       "      <th></th>\n",
       "      <th></th>\n",
       "      <th></th>\n",
       "      <th></th>\n",
       "      <th></th>\n",
       "      <th></th>\n",
       "    </tr>\n",
       "  </thead>\n",
       "  <tbody>\n",
       "    <tr>\n",
       "      <th>2007-01-03</th>\n",
       "      <td>7.982585</td>\n",
       "      <td>515.527100</td>\n",
       "      <td>21.925289</td>\n",
       "      <td>232.284210</td>\n",
       "      <td>22.478832</td>\n",
       "      <td>1.0</td>\n",
       "    </tr>\n",
       "    <tr>\n",
       "      <th>2007-01-04</th>\n",
       "      <td>8.159763</td>\n",
       "      <td>513.754211</td>\n",
       "      <td>22.502472</td>\n",
       "      <td>240.068588</td>\n",
       "      <td>22.441185</td>\n",
       "      <td>1.0</td>\n",
       "    </tr>\n",
       "    <tr>\n",
       "      <th>2007-01-05</th>\n",
       "      <td>8.101658</td>\n",
       "      <td>511.048340</td>\n",
       "      <td>22.510378</td>\n",
       "      <td>242.020889</td>\n",
       "      <td>22.313211</td>\n",
       "      <td>1.0</td>\n",
       "    </tr>\n",
       "    <tr>\n",
       "      <th>2007-01-08</th>\n",
       "      <td>8.141665</td>\n",
       "      <td>513.661072</td>\n",
       "      <td>22.636887</td>\n",
       "      <td>240.227554</td>\n",
       "      <td>22.531523</td>\n",
       "      <td>1.0</td>\n",
       "    </tr>\n",
       "    <tr>\n",
       "      <th>2007-01-09</th>\n",
       "      <td>8.817995</td>\n",
       "      <td>509.182159</td>\n",
       "      <td>22.510378</td>\n",
       "      <td>241.181351</td>\n",
       "      <td>22.554110</td>\n",
       "      <td>1.0</td>\n",
       "    </tr>\n",
       "  </tbody>\n",
       "</table>\n",
       "</div>"
      ],
      "text/plain": [
       "Symbols         AAPL           C       CSCO        GOOG       MSFT  extra\n",
       "Date                                                                     \n",
       "2007-01-03  7.982585  515.527100  21.925289  232.284210  22.478832    1.0\n",
       "2007-01-04  8.159763  513.754211  22.502472  240.068588  22.441185    1.0\n",
       "2007-01-05  8.101658  511.048340  22.510378  242.020889  22.313211    1.0\n",
       "2007-01-08  8.141665  513.661072  22.636887  240.227554  22.531523    1.0\n",
       "2007-01-09  8.817995  509.182159  22.510378  241.181351  22.554110    1.0"
      ]
     },
     "execution_count": 72,
     "metadata": {},
     "output_type": "execute_result"
    }
   ],
   "source": [
    "### ADD A COLUMN TO THE DATAFRAME\n",
    "\n",
    "stk[\"extra\"] = 1.0\n",
    "stk.head()"
   ]
  },
  {
   "cell_type": "code",
   "execution_count": 73,
   "metadata": {
    "slideshow": {
     "slide_type": "slide"
    }
   },
   "outputs": [
    {
     "data": {
      "text/plain": [
       "array([  7.4491415 ,   7.6672821 ,   7.84255886, ..., 226.59416199,\n",
       "       227.50704956, 230.27548218])"
      ]
     },
     "execution_count": 73,
     "metadata": {},
     "output_type": "execute_result"
    }
   ],
   "source": [
    "### Extract a column and sort it \n",
    "\n",
    "sort(stk[\"AAPL\"])"
   ]
  },
  {
   "cell_type": "code",
   "execution_count": 74,
   "metadata": {
    "slideshow": {
     "slide_type": "slide"
    }
   },
   "outputs": [
    {
     "data": {
      "text/html": [
       "<div>\n",
       "<style scoped>\n",
       "    .dataframe tbody tr th:only-of-type {\n",
       "        vertical-align: middle;\n",
       "    }\n",
       "\n",
       "    .dataframe tbody tr th {\n",
       "        vertical-align: top;\n",
       "    }\n",
       "\n",
       "    .dataframe thead th {\n",
       "        text-align: right;\n",
       "    }\n",
       "</style>\n",
       "<table border=\"1\" class=\"dataframe\">\n",
       "  <thead>\n",
       "    <tr style=\"text-align: right;\">\n",
       "      <th>Symbols</th>\n",
       "      <th>AAPL</th>\n",
       "      <th>C</th>\n",
       "      <th>CSCO</th>\n",
       "      <th>GOOG</th>\n",
       "      <th>MSFT</th>\n",
       "    </tr>\n",
       "    <tr>\n",
       "      <th>Date</th>\n",
       "      <th></th>\n",
       "      <th></th>\n",
       "      <th></th>\n",
       "      <th></th>\n",
       "      <th></th>\n",
       "    </tr>\n",
       "  </thead>\n",
       "  <tbody>\n",
       "    <tr>\n",
       "      <th>2007-01-03</th>\n",
       "      <td>7.982585</td>\n",
       "      <td>515.527100</td>\n",
       "      <td>21.925289</td>\n",
       "      <td>232.284210</td>\n",
       "      <td>22.478832</td>\n",
       "    </tr>\n",
       "    <tr>\n",
       "      <th>2007-01-04</th>\n",
       "      <td>8.159763</td>\n",
       "      <td>513.754211</td>\n",
       "      <td>22.502472</td>\n",
       "      <td>240.068588</td>\n",
       "      <td>22.441185</td>\n",
       "    </tr>\n",
       "    <tr>\n",
       "      <th>2007-01-05</th>\n",
       "      <td>8.101658</td>\n",
       "      <td>511.048340</td>\n",
       "      <td>22.510378</td>\n",
       "      <td>242.020889</td>\n",
       "      <td>22.313211</td>\n",
       "    </tr>\n",
       "    <tr>\n",
       "      <th>2007-01-08</th>\n",
       "      <td>8.141665</td>\n",
       "      <td>513.661072</td>\n",
       "      <td>22.636887</td>\n",
       "      <td>240.227554</td>\n",
       "      <td>22.531523</td>\n",
       "    </tr>\n",
       "    <tr>\n",
       "      <th>2007-01-09</th>\n",
       "      <td>8.817995</td>\n",
       "      <td>509.182159</td>\n",
       "      <td>22.510378</td>\n",
       "      <td>241.181351</td>\n",
       "      <td>22.554110</td>\n",
       "    </tr>\n",
       "  </tbody>\n",
       "</table>\n",
       "</div>"
      ],
      "text/plain": [
       "Symbols         AAPL           C       CSCO        GOOG       MSFT\n",
       "Date                                                              \n",
       "2007-01-03  7.982585  515.527100  21.925289  232.284210  22.478832\n",
       "2007-01-04  8.159763  513.754211  22.502472  240.068588  22.441185\n",
       "2007-01-05  8.101658  511.048340  22.510378  242.020889  22.313211\n",
       "2007-01-08  8.141665  513.661072  22.636887  240.227554  22.531523\n",
       "2007-01-09  8.817995  509.182159  22.510378  241.181351  22.554110"
      ]
     },
     "execution_count": 74,
     "metadata": {},
     "output_type": "execute_result"
    }
   ],
   "source": [
    "### HOW TO REMOVE A COLUMN FROM THE DATAFRAME\n",
    "\n",
    "stk = stk.drop(\"extra\",axis=1)  #IF AXIS=0 (default), THEN ROW IS DROPPED\n",
    "stk.head()"
   ]
  },
  {
   "cell_type": "code",
   "execution_count": 75,
   "metadata": {
    "slideshow": {
     "slide_type": "slide"
    }
   },
   "outputs": [
    {
     "data": {
      "text/html": [
       "<div>\n",
       "<style scoped>\n",
       "    .dataframe tbody tr th:only-of-type {\n",
       "        vertical-align: middle;\n",
       "    }\n",
       "\n",
       "    .dataframe tbody tr th {\n",
       "        vertical-align: top;\n",
       "    }\n",
       "\n",
       "    .dataframe thead th {\n",
       "        text-align: right;\n",
       "    }\n",
       "</style>\n",
       "<table border=\"1\" class=\"dataframe\">\n",
       "  <thead>\n",
       "    <tr style=\"text-align: right;\">\n",
       "      <th>Symbols</th>\n",
       "      <th>AAPL</th>\n",
       "      <th>C</th>\n",
       "    </tr>\n",
       "    <tr>\n",
       "      <th>Date</th>\n",
       "      <th></th>\n",
       "      <th></th>\n",
       "    </tr>\n",
       "  </thead>\n",
       "  <tbody>\n",
       "    <tr>\n",
       "      <th>2007-01-03</th>\n",
       "      <td>7.982585</td>\n",
       "      <td>515.527100</td>\n",
       "    </tr>\n",
       "    <tr>\n",
       "      <th>2007-01-04</th>\n",
       "      <td>8.159763</td>\n",
       "      <td>513.754211</td>\n",
       "    </tr>\n",
       "    <tr>\n",
       "      <th>2007-01-05</th>\n",
       "      <td>8.101658</td>\n",
       "      <td>511.048340</td>\n",
       "    </tr>\n",
       "    <tr>\n",
       "      <th>2007-01-08</th>\n",
       "      <td>8.141665</td>\n",
       "      <td>513.661072</td>\n",
       "    </tr>\n",
       "    <tr>\n",
       "      <th>2007-01-09</th>\n",
       "      <td>8.817995</td>\n",
       "      <td>509.182159</td>\n",
       "    </tr>\n",
       "  </tbody>\n",
       "</table>\n",
       "</div>"
      ],
      "text/plain": [
       "Symbols         AAPL           C\n",
       "Date                            \n",
       "2007-01-03  7.982585  515.527100\n",
       "2007-01-04  8.159763  513.754211\n",
       "2007-01-05  8.101658  511.048340\n",
       "2007-01-08  8.141665  513.661072\n",
       "2007-01-09  8.817995  509.182159"
      ]
     },
     "execution_count": 75,
     "metadata": {},
     "output_type": "execute_result"
    }
   ],
   "source": [
    "### SUBSET THE DATAFRAME\n",
    "\n",
    "stk[[\"AAPL\",\"C\"]].head()"
   ]
  },
  {
   "cell_type": "code",
   "execution_count": 76,
   "metadata": {
    "slideshow": {
     "slide_type": "slide"
    }
   },
   "outputs": [
    {
     "data": {
      "text/html": [
       "<div>\n",
       "<style scoped>\n",
       "    .dataframe tbody tr th:only-of-type {\n",
       "        vertical-align: middle;\n",
       "    }\n",
       "\n",
       "    .dataframe tbody tr th {\n",
       "        vertical-align: top;\n",
       "    }\n",
       "\n",
       "    .dataframe thead th {\n",
       "        text-align: right;\n",
       "    }\n",
       "</style>\n",
       "<table border=\"1\" class=\"dataframe\">\n",
       "  <thead>\n",
       "    <tr style=\"text-align: right;\">\n",
       "      <th>Symbols</th>\n",
       "      <th>AAPL</th>\n",
       "      <th>C</th>\n",
       "      <th>CSCO</th>\n",
       "      <th>GOOG</th>\n",
       "      <th>MSFT</th>\n",
       "    </tr>\n",
       "    <tr>\n",
       "      <th>Date</th>\n",
       "      <th></th>\n",
       "      <th></th>\n",
       "      <th></th>\n",
       "      <th></th>\n",
       "      <th></th>\n",
       "    </tr>\n",
       "  </thead>\n",
       "  <tbody>\n",
       "    <tr>\n",
       "      <th>2007-01-03</th>\n",
       "      <td>7.982585</td>\n",
       "      <td>515.527100</td>\n",
       "      <td>21.925289</td>\n",
       "      <td>232.284210</td>\n",
       "      <td>22.478832</td>\n",
       "    </tr>\n",
       "    <tr>\n",
       "      <th>2007-01-04</th>\n",
       "      <td>8.159763</td>\n",
       "      <td>513.754211</td>\n",
       "      <td>22.502472</td>\n",
       "      <td>240.068588</td>\n",
       "      <td>22.441185</td>\n",
       "    </tr>\n",
       "    <tr>\n",
       "      <th>2007-01-05</th>\n",
       "      <td>8.101658</td>\n",
       "      <td>511.048340</td>\n",
       "      <td>22.510378</td>\n",
       "      <td>242.020889</td>\n",
       "      <td>22.313211</td>\n",
       "    </tr>\n",
       "    <tr>\n",
       "      <th>2007-01-08</th>\n",
       "      <td>8.141665</td>\n",
       "      <td>513.661072</td>\n",
       "      <td>22.636887</td>\n",
       "      <td>240.227554</td>\n",
       "      <td>22.531523</td>\n",
       "    </tr>\n",
       "    <tr>\n",
       "      <th>2007-01-09</th>\n",
       "      <td>8.817995</td>\n",
       "      <td>509.182159</td>\n",
       "      <td>22.510378</td>\n",
       "      <td>241.181351</td>\n",
       "      <td>22.554110</td>\n",
       "    </tr>\n",
       "    <tr>\n",
       "      <th>2007-01-10</th>\n",
       "      <td>9.239983</td>\n",
       "      <td>505.076752</td>\n",
       "      <td>22.676426</td>\n",
       "      <td>243.148560</td>\n",
       "      <td>22.328264</td>\n",
       "    </tr>\n",
       "    <tr>\n",
       "      <th>2007-01-11</th>\n",
       "      <td>9.125674</td>\n",
       "      <td>505.449982</td>\n",
       "      <td>22.684330</td>\n",
       "      <td>248.245407</td>\n",
       "      <td>23.111191</td>\n",
       "    </tr>\n",
       "    <tr>\n",
       "      <th>2007-01-12</th>\n",
       "      <td>9.013269</td>\n",
       "      <td>507.409393</td>\n",
       "      <td>22.866186</td>\n",
       "      <td>250.868347</td>\n",
       "      <td>23.495121</td>\n",
       "    </tr>\n",
       "    <tr>\n",
       "      <th>2007-01-16</th>\n",
       "      <td>9.249508</td>\n",
       "      <td>511.048340</td>\n",
       "      <td>22.170397</td>\n",
       "      <td>250.510666</td>\n",
       "      <td>23.457478</td>\n",
       "    </tr>\n",
       "    <tr>\n",
       "      <th>2007-01-17</th>\n",
       "      <td>9.044706</td>\n",
       "      <td>507.502838</td>\n",
       "      <td>21.332285</td>\n",
       "      <td>247.033279</td>\n",
       "      <td>23.412302</td>\n",
       "    </tr>\n",
       "    <tr>\n",
       "      <th>2007-01-18</th>\n",
       "      <td>8.484592</td>\n",
       "      <td>507.502838</td>\n",
       "      <td>20.913227</td>\n",
       "      <td>242.338821</td>\n",
       "      <td>23.337029</td>\n",
       "    </tr>\n",
       "    <tr>\n",
       "      <th>2007-01-19</th>\n",
       "      <td>8.430295</td>\n",
       "      <td>508.529053</td>\n",
       "      <td>21.110891</td>\n",
       "      <td>243.292618</td>\n",
       "      <td>23.419842</td>\n",
       "    </tr>\n",
       "    <tr>\n",
       "      <th>2007-01-22</th>\n",
       "      <td>8.267404</td>\n",
       "      <td>510.208679</td>\n",
       "      <td>20.976479</td>\n",
       "      <td>238.866409</td>\n",
       "      <td>23.126244</td>\n",
       "    </tr>\n",
       "    <tr>\n",
       "      <th>2007-01-23</th>\n",
       "      <td>8.163574</td>\n",
       "      <td>508.435944</td>\n",
       "      <td>20.589050</td>\n",
       "      <td>237.977188</td>\n",
       "      <td>23.141298</td>\n",
       "    </tr>\n",
       "    <tr>\n",
       "      <th>2007-01-24</th>\n",
       "      <td>8.258834</td>\n",
       "      <td>511.608276</td>\n",
       "      <td>21.261120</td>\n",
       "      <td>247.922501</td>\n",
       "      <td>23.404787</td>\n",
       "    </tr>\n",
       "    <tr>\n",
       "      <th>2007-01-25</th>\n",
       "      <td>8.215967</td>\n",
       "      <td>503.210449</td>\n",
       "      <td>20.731371</td>\n",
       "      <td>242.467987</td>\n",
       "      <td>22.922981</td>\n",
       "    </tr>\n",
       "    <tr>\n",
       "      <th>2007-01-26</th>\n",
       "      <td>8.133093</td>\n",
       "      <td>510.115387</td>\n",
       "      <td>20.834158</td>\n",
       "      <td>246.317932</td>\n",
       "      <td>23.035913</td>\n",
       "    </tr>\n",
       "    <tr>\n",
       "      <th>2007-01-29</th>\n",
       "      <td>8.186437</td>\n",
       "      <td>504.423676</td>\n",
       "      <td>20.723465</td>\n",
       "      <td>244.643829</td>\n",
       "      <td>22.983210</td>\n",
       "    </tr>\n",
       "    <tr>\n",
       "      <th>2007-01-30</th>\n",
       "      <td>8.149286</td>\n",
       "      <td>506.383301</td>\n",
       "      <td>20.755095</td>\n",
       "      <td>245.562851</td>\n",
       "      <td>22.945564</td>\n",
       "    </tr>\n",
       "    <tr>\n",
       "      <th>2007-01-31</th>\n",
       "      <td>8.166430</td>\n",
       "      <td>514.407471</td>\n",
       "      <td>21.047644</td>\n",
       "      <td>249.129654</td>\n",
       "      <td>23.231634</td>\n",
       "    </tr>\n",
       "    <tr>\n",
       "      <th>2007-02-01</th>\n",
       "      <td>8.072126</td>\n",
       "      <td>511.175812</td>\n",
       "      <td>21.023918</td>\n",
       "      <td>239.318466</td>\n",
       "      <td>23.005796</td>\n",
       "    </tr>\n",
       "    <tr>\n",
       "      <th>2007-02-02</th>\n",
       "      <td>8.073079</td>\n",
       "      <td>510.522003</td>\n",
       "      <td>21.458790</td>\n",
       "      <td>239.194275</td>\n",
       "      <td>22.727249</td>\n",
       "    </tr>\n",
       "    <tr>\n",
       "      <th>2007-02-05</th>\n",
       "      <td>7.995921</td>\n",
       "      <td>511.362640</td>\n",
       "      <td>21.751337</td>\n",
       "      <td>232.070602</td>\n",
       "      <td>22.290627</td>\n",
       "    </tr>\n",
       "    <tr>\n",
       "      <th>2007-02-06</th>\n",
       "      <td>8.015925</td>\n",
       "      <td>513.230652</td>\n",
       "      <td>21.569485</td>\n",
       "      <td>234.216644</td>\n",
       "      <td>22.215347</td>\n",
       "    </tr>\n",
       "    <tr>\n",
       "      <th>2007-02-07</th>\n",
       "      <td>8.206441</td>\n",
       "      <td>513.230652</td>\n",
       "      <td>22.209930</td>\n",
       "      <td>233.486389</td>\n",
       "      <td>22.109957</td>\n",
       "    </tr>\n",
       "    <tr>\n",
       "      <th>2007-02-08</th>\n",
       "      <td>8.209295</td>\n",
       "      <td>508.467010</td>\n",
       "      <td>22.249458</td>\n",
       "      <td>233.993103</td>\n",
       "      <td>22.027142</td>\n",
       "    </tr>\n",
       "    <tr>\n",
       "      <th>2007-02-09</th>\n",
       "      <td>7.932097</td>\n",
       "      <td>498.753723</td>\n",
       "      <td>21.909468</td>\n",
       "      <td>229.452637</td>\n",
       "      <td>21.816357</td>\n",
       "    </tr>\n",
       "    <tr>\n",
       "      <th>2007-02-12</th>\n",
       "      <td>8.085462</td>\n",
       "      <td>499.033997</td>\n",
       "      <td>21.775057</td>\n",
       "      <td>227.664261</td>\n",
       "      <td>21.786251</td>\n",
       "    </tr>\n",
       "    <tr>\n",
       "      <th>2007-02-13</th>\n",
       "      <td>8.068316</td>\n",
       "      <td>501.649261</td>\n",
       "      <td>21.490410</td>\n",
       "      <td>228.066650</td>\n",
       "      <td>21.914667</td>\n",
       "    </tr>\n",
       "    <tr>\n",
       "      <th>2007-02-14</th>\n",
       "      <td>8.125469</td>\n",
       "      <td>506.038910</td>\n",
       "      <td>21.711802</td>\n",
       "      <td>231.459579</td>\n",
       "      <td>22.209280</td>\n",
       "    </tr>\n",
       "    <tr>\n",
       "      <th>...</th>\n",
       "      <td>...</td>\n",
       "      <td>...</td>\n",
       "      <td>...</td>\n",
       "      <td>...</td>\n",
       "      <td>...</td>\n",
       "    </tr>\n",
       "    <tr>\n",
       "      <th>2009-02-23</th>\n",
       "      <td>8.282645</td>\n",
       "      <td>20.168886</td>\n",
       "      <td>11.354023</td>\n",
       "      <td>163.963577</td>\n",
       "      <td>13.465860</td>\n",
       "    </tr>\n",
       "    <tr>\n",
       "      <th>2009-02-24</th>\n",
       "      <td>8.596996</td>\n",
       "      <td>24.504259</td>\n",
       "      <td>11.852146</td>\n",
       "      <td>171.608856</td>\n",
       "      <td>13.434561</td>\n",
       "    </tr>\n",
       "    <tr>\n",
       "      <th>2009-02-25</th>\n",
       "      <td>8.683680</td>\n",
       "      <td>23.750282</td>\n",
       "      <td>11.678199</td>\n",
       "      <td>169.716156</td>\n",
       "      <td>13.270249</td>\n",
       "    </tr>\n",
       "    <tr>\n",
       "      <th>2009-02-26</th>\n",
       "      <td>8.496023</td>\n",
       "      <td>23.184797</td>\n",
       "      <td>11.456809</td>\n",
       "      <td>167.500565</td>\n",
       "      <td>12.847732</td>\n",
       "    </tr>\n",
       "    <tr>\n",
       "      <th>2009-02-27</th>\n",
       "      <td>8.507455</td>\n",
       "      <td>14.137074</td>\n",
       "      <td>11.520064</td>\n",
       "      <td>167.902954</td>\n",
       "      <td>12.636472</td>\n",
       "    </tr>\n",
       "    <tr>\n",
       "      <th>2009-03-02</th>\n",
       "      <td>8.376950</td>\n",
       "      <td>11.309657</td>\n",
       "      <td>11.322396</td>\n",
       "      <td>162.522949</td>\n",
       "      <td>12.354793</td>\n",
       "    </tr>\n",
       "    <tr>\n",
       "      <th>2009-03-03</th>\n",
       "      <td>8.417911</td>\n",
       "      <td>11.498154</td>\n",
       "      <td>11.377742</td>\n",
       "      <td>161.688370</td>\n",
       "      <td>12.425210</td>\n",
       "    </tr>\n",
       "    <tr>\n",
       "      <th>2009-03-04</th>\n",
       "      <td>8.684633</td>\n",
       "      <td>10.649928</td>\n",
       "      <td>12.057718</td>\n",
       "      <td>158.429565</td>\n",
       "      <td>12.612999</td>\n",
       "    </tr>\n",
       "    <tr>\n",
       "      <th>2009-03-05</th>\n",
       "      <td>8.462683</td>\n",
       "      <td>9.613211</td>\n",
       "      <td>11.504251</td>\n",
       "      <td>151.832474</td>\n",
       "      <td>11.947921</td>\n",
       "    </tr>\n",
       "    <tr>\n",
       "      <th>2009-03-06</th>\n",
       "      <td>8.125469</td>\n",
       "      <td>9.707458</td>\n",
       "      <td>11.211702</td>\n",
       "      <td>153.288010</td>\n",
       "      <td>11.955744</td>\n",
       "    </tr>\n",
       "    <tr>\n",
       "      <th>2009-03-09</th>\n",
       "      <td>7.916856</td>\n",
       "      <td>9.895951</td>\n",
       "      <td>10.768927</td>\n",
       "      <td>144.505127</td>\n",
       "      <td>11.854026</td>\n",
       "    </tr>\n",
       "    <tr>\n",
       "      <th>2009-03-10</th>\n",
       "      <td>8.442678</td>\n",
       "      <td>13.665836</td>\n",
       "      <td>11.575415</td>\n",
       "      <td>153.089294</td>\n",
       "      <td>12.894678</td>\n",
       "    </tr>\n",
       "    <tr>\n",
       "      <th>2009-03-11</th>\n",
       "      <td>8.828472</td>\n",
       "      <td>14.514059</td>\n",
       "      <td>11.875870</td>\n",
       "      <td>157.927826</td>\n",
       "      <td>13.387616</td>\n",
       "    </tr>\n",
       "    <tr>\n",
       "      <th>2009-03-12</th>\n",
       "      <td>9.178067</td>\n",
       "      <td>15.739274</td>\n",
       "      <td>12.263294</td>\n",
       "      <td>160.719681</td>\n",
       "      <td>13.309376</td>\n",
       "    </tr>\n",
       "    <tr>\n",
       "      <th>2009-03-13</th>\n",
       "      <td>9.138059</td>\n",
       "      <td>16.775995</td>\n",
       "      <td>12.263294</td>\n",
       "      <td>161.161804</td>\n",
       "      <td>13.027694</td>\n",
       "    </tr>\n",
       "    <tr>\n",
       "      <th>2009-03-16</th>\n",
       "      <td>9.089478</td>\n",
       "      <td>21.959587</td>\n",
       "      <td>12.215855</td>\n",
       "      <td>158.812088</td>\n",
       "      <td>12.714716</td>\n",
       "    </tr>\n",
       "    <tr>\n",
       "      <th>2009-03-17</th>\n",
       "      <td>9.493370</td>\n",
       "      <td>23.656038</td>\n",
       "      <td>12.761416</td>\n",
       "      <td>166.586517</td>\n",
       "      <td>13.223307</td>\n",
       "    </tr>\n",
       "    <tr>\n",
       "      <th>2009-03-18</th>\n",
       "      <td>9.670549</td>\n",
       "      <td>29.028118</td>\n",
       "      <td>13.046060</td>\n",
       "      <td>165.473755</td>\n",
       "      <td>13.270249</td>\n",
       "    </tr>\n",
       "    <tr>\n",
       "      <th>2009-03-19</th>\n",
       "      <td>9.680075</td>\n",
       "      <td>24.504259</td>\n",
       "      <td>12.832574</td>\n",
       "      <td>163.903961</td>\n",
       "      <td>13.411090</td>\n",
       "    </tr>\n",
       "    <tr>\n",
       "      <th>2009-03-20</th>\n",
       "      <td>9.677216</td>\n",
       "      <td>24.692757</td>\n",
       "      <td>12.579563</td>\n",
       "      <td>164.013245</td>\n",
       "      <td>13.348494</td>\n",
       "    </tr>\n",
       "    <tr>\n",
       "      <th>2009-03-23</th>\n",
       "      <td>10.255431</td>\n",
       "      <td>29.499355</td>\n",
       "      <td>13.425579</td>\n",
       "      <td>173.173676</td>\n",
       "      <td>14.342203</td>\n",
       "    </tr>\n",
       "    <tr>\n",
       "      <th>2009-03-24</th>\n",
       "      <td>10.144933</td>\n",
       "      <td>28.368391</td>\n",
       "      <td>13.188380</td>\n",
       "      <td>172.463287</td>\n",
       "      <td>14.029225</td>\n",
       "    </tr>\n",
       "    <tr>\n",
       "      <th>2009-03-25</th>\n",
       "      <td>10.143981</td>\n",
       "      <td>27.802906</td>\n",
       "      <td>13.101401</td>\n",
       "      <td>170.923309</td>\n",
       "      <td>13.990099</td>\n",
       "    </tr>\n",
       "    <tr>\n",
       "      <th>2009-03-26</th>\n",
       "      <td>10.465949</td>\n",
       "      <td>26.483452</td>\n",
       "      <td>13.686498</td>\n",
       "      <td>175.503525</td>\n",
       "      <td>14.733422</td>\n",
       "    </tr>\n",
       "    <tr>\n",
       "      <th>2009-03-27</th>\n",
       "      <td>10.178272</td>\n",
       "      <td>24.692757</td>\n",
       "      <td>13.401859</td>\n",
       "      <td>172.726578</td>\n",
       "      <td>14.185713</td>\n",
       "    </tr>\n",
       "    <tr>\n",
       "      <th>2009-03-30</th>\n",
       "      <td>9.953465</td>\n",
       "      <td>21.771088</td>\n",
       "      <td>12.895830</td>\n",
       "      <td>170.237762</td>\n",
       "      <td>13.677123</td>\n",
       "    </tr>\n",
       "    <tr>\n",
       "      <th>2009-03-31</th>\n",
       "      <td>10.013476</td>\n",
       "      <td>23.844528</td>\n",
       "      <td>13.259540</td>\n",
       "      <td>172.905411</td>\n",
       "      <td>14.373499</td>\n",
       "    </tr>\n",
       "    <tr>\n",
       "      <th>2009-04-01</th>\n",
       "      <td>10.353545</td>\n",
       "      <td>25.258240</td>\n",
       "      <td>13.805099</td>\n",
       "      <td>175.900940</td>\n",
       "      <td>15.108994</td>\n",
       "    </tr>\n",
       "    <tr>\n",
       "      <th>2009-04-02</th>\n",
       "      <td>10.736483</td>\n",
       "      <td>25.823717</td>\n",
       "      <td>14.342757</td>\n",
       "      <td>180.078766</td>\n",
       "      <td>15.093349</td>\n",
       "    </tr>\n",
       "    <tr>\n",
       "      <th>2009-04-07</th>\n",
       "      <td>10.954621</td>\n",
       "      <td>26.012211</td>\n",
       "      <td>13.322789</td>\n",
       "      <td>178.166199</td>\n",
       "      <td>14.678650</td>\n",
       "    </tr>\n",
       "  </tbody>\n",
       "</table>\n",
       "<p>231 rows × 5 columns</p>\n",
       "</div>"
      ],
      "text/plain": [
       "Symbols          AAPL           C       CSCO        GOOG       MSFT\n",
       "Date                                                               \n",
       "2007-01-03   7.982585  515.527100  21.925289  232.284210  22.478832\n",
       "2007-01-04   8.159763  513.754211  22.502472  240.068588  22.441185\n",
       "2007-01-05   8.101658  511.048340  22.510378  242.020889  22.313211\n",
       "2007-01-08   8.141665  513.661072  22.636887  240.227554  22.531523\n",
       "2007-01-09   8.817995  509.182159  22.510378  241.181351  22.554110\n",
       "2007-01-10   9.239983  505.076752  22.676426  243.148560  22.328264\n",
       "2007-01-11   9.125674  505.449982  22.684330  248.245407  23.111191\n",
       "2007-01-12   9.013269  507.409393  22.866186  250.868347  23.495121\n",
       "2007-01-16   9.249508  511.048340  22.170397  250.510666  23.457478\n",
       "2007-01-17   9.044706  507.502838  21.332285  247.033279  23.412302\n",
       "2007-01-18   8.484592  507.502838  20.913227  242.338821  23.337029\n",
       "2007-01-19   8.430295  508.529053  21.110891  243.292618  23.419842\n",
       "2007-01-22   8.267404  510.208679  20.976479  238.866409  23.126244\n",
       "2007-01-23   8.163574  508.435944  20.589050  237.977188  23.141298\n",
       "2007-01-24   8.258834  511.608276  21.261120  247.922501  23.404787\n",
       "2007-01-25   8.215967  503.210449  20.731371  242.467987  22.922981\n",
       "2007-01-26   8.133093  510.115387  20.834158  246.317932  23.035913\n",
       "2007-01-29   8.186437  504.423676  20.723465  244.643829  22.983210\n",
       "2007-01-30   8.149286  506.383301  20.755095  245.562851  22.945564\n",
       "2007-01-31   8.166430  514.407471  21.047644  249.129654  23.231634\n",
       "2007-02-01   8.072126  511.175812  21.023918  239.318466  23.005796\n",
       "2007-02-02   8.073079  510.522003  21.458790  239.194275  22.727249\n",
       "2007-02-05   7.995921  511.362640  21.751337  232.070602  22.290627\n",
       "2007-02-06   8.015925  513.230652  21.569485  234.216644  22.215347\n",
       "2007-02-07   8.206441  513.230652  22.209930  233.486389  22.109957\n",
       "2007-02-08   8.209295  508.467010  22.249458  233.993103  22.027142\n",
       "2007-02-09   7.932097  498.753723  21.909468  229.452637  21.816357\n",
       "2007-02-12   8.085462  499.033997  21.775057  227.664261  21.786251\n",
       "2007-02-13   8.068316  501.649261  21.490410  228.066650  21.914667\n",
       "2007-02-14   8.125469  506.038910  21.711802  231.459579  22.209280\n",
       "...               ...         ...        ...         ...        ...\n",
       "2009-02-23   8.282645   20.168886  11.354023  163.963577  13.465860\n",
       "2009-02-24   8.596996   24.504259  11.852146  171.608856  13.434561\n",
       "2009-02-25   8.683680   23.750282  11.678199  169.716156  13.270249\n",
       "2009-02-26   8.496023   23.184797  11.456809  167.500565  12.847732\n",
       "2009-02-27   8.507455   14.137074  11.520064  167.902954  12.636472\n",
       "2009-03-02   8.376950   11.309657  11.322396  162.522949  12.354793\n",
       "2009-03-03   8.417911   11.498154  11.377742  161.688370  12.425210\n",
       "2009-03-04   8.684633   10.649928  12.057718  158.429565  12.612999\n",
       "2009-03-05   8.462683    9.613211  11.504251  151.832474  11.947921\n",
       "2009-03-06   8.125469    9.707458  11.211702  153.288010  11.955744\n",
       "2009-03-09   7.916856    9.895951  10.768927  144.505127  11.854026\n",
       "2009-03-10   8.442678   13.665836  11.575415  153.089294  12.894678\n",
       "2009-03-11   8.828472   14.514059  11.875870  157.927826  13.387616\n",
       "2009-03-12   9.178067   15.739274  12.263294  160.719681  13.309376\n",
       "2009-03-13   9.138059   16.775995  12.263294  161.161804  13.027694\n",
       "2009-03-16   9.089478   21.959587  12.215855  158.812088  12.714716\n",
       "2009-03-17   9.493370   23.656038  12.761416  166.586517  13.223307\n",
       "2009-03-18   9.670549   29.028118  13.046060  165.473755  13.270249\n",
       "2009-03-19   9.680075   24.504259  12.832574  163.903961  13.411090\n",
       "2009-03-20   9.677216   24.692757  12.579563  164.013245  13.348494\n",
       "2009-03-23  10.255431   29.499355  13.425579  173.173676  14.342203\n",
       "2009-03-24  10.144933   28.368391  13.188380  172.463287  14.029225\n",
       "2009-03-25  10.143981   27.802906  13.101401  170.923309  13.990099\n",
       "2009-03-26  10.465949   26.483452  13.686498  175.503525  14.733422\n",
       "2009-03-27  10.178272   24.692757  13.401859  172.726578  14.185713\n",
       "2009-03-30   9.953465   21.771088  12.895830  170.237762  13.677123\n",
       "2009-03-31  10.013476   23.844528  13.259540  172.905411  14.373499\n",
       "2009-04-01  10.353545   25.258240  13.805099  175.900940  15.108994\n",
       "2009-04-02  10.736483   25.823717  14.342757  180.078766  15.093349\n",
       "2009-04-07  10.954621   26.012211  13.322789  178.166199  14.678650\n",
       "\n",
       "[231 rows x 5 columns]"
      ]
     },
     "execution_count": 76,
     "metadata": {},
     "output_type": "execute_result"
    }
   ],
   "source": [
    "### FILTER THE DATAFRAME\n",
    "\n",
    "stk[stk[\"AAPL\"]<11]"
   ]
  },
  {
   "cell_type": "code",
   "execution_count": 77,
   "metadata": {
    "slideshow": {
     "slide_type": "slide"
    }
   },
   "outputs": [
    {
     "data": {
      "text/plain": [
       "Date\n",
       "2007-01-03    515.527100\n",
       "2007-01-04    513.754211\n",
       "2007-01-05    511.048340\n",
       "2007-01-08    513.661072\n",
       "2007-01-09    509.182159\n",
       "2007-01-10    505.076752\n",
       "2007-01-11    505.449982\n",
       "2007-01-12    507.409393\n",
       "2007-01-16    511.048340\n",
       "2007-01-17    507.502838\n",
       "2007-01-18    507.502838\n",
       "2007-01-19    508.529053\n",
       "2007-01-22    510.208679\n",
       "2007-01-23    508.435944\n",
       "2007-01-24    511.608276\n",
       "2007-01-25    503.210449\n",
       "2007-01-26    510.115387\n",
       "2007-01-29    504.423676\n",
       "2007-01-30    506.383301\n",
       "2007-01-31    514.407471\n",
       "2007-02-01    511.175812\n",
       "2007-02-02    510.522003\n",
       "2007-02-05    511.362640\n",
       "2007-02-06    513.230652\n",
       "2007-02-07    513.230652\n",
       "2007-02-08    508.467010\n",
       "2007-02-09    498.753723\n",
       "2007-02-12    499.033997\n",
       "2007-02-13    501.649261\n",
       "2007-02-14    506.038910\n",
       "                 ...    \n",
       "2009-02-23     20.168886\n",
       "2009-02-24     24.504259\n",
       "2009-02-25     23.750282\n",
       "2009-02-26     23.184797\n",
       "2009-02-27     14.137074\n",
       "2009-03-02     11.309657\n",
       "2009-03-03     11.498154\n",
       "2009-03-04     10.649928\n",
       "2009-03-05      9.613211\n",
       "2009-03-06      9.707458\n",
       "2009-03-09      9.895951\n",
       "2009-03-10     13.665836\n",
       "2009-03-11     14.514059\n",
       "2009-03-12     15.739274\n",
       "2009-03-13     16.775995\n",
       "2009-03-16     21.959587\n",
       "2009-03-17     23.656038\n",
       "2009-03-18     29.028118\n",
       "2009-03-19     24.504259\n",
       "2009-03-20     24.692757\n",
       "2009-03-23     29.499355\n",
       "2009-03-24     28.368391\n",
       "2009-03-25     27.802906\n",
       "2009-03-26     26.483452\n",
       "2009-03-27     24.692757\n",
       "2009-03-30     21.771088\n",
       "2009-03-31     23.844528\n",
       "2009-04-01     25.258240\n",
       "2009-04-02     25.823717\n",
       "2009-04-07     26.012211\n",
       "Name: C, Length: 231, dtype: float64"
      ]
     },
     "execution_count": 77,
     "metadata": {},
     "output_type": "execute_result"
    }
   ],
   "source": [
    "### FILTER ON ONE COLUMN AND DISPLAY ANOTHER\n",
    "\n",
    "stk[stk[\"AAPL\"]<11][\"C\"]"
   ]
  },
  {
   "cell_type": "code",
   "execution_count": 78,
   "metadata": {
    "slideshow": {
     "slide_type": "slide"
    }
   },
   "outputs": [
    {
     "data": {
      "text/html": [
       "<div>\n",
       "<style scoped>\n",
       "    .dataframe tbody tr th:only-of-type {\n",
       "        vertical-align: middle;\n",
       "    }\n",
       "\n",
       "    .dataframe tbody tr th {\n",
       "        vertical-align: top;\n",
       "    }\n",
       "\n",
       "    .dataframe thead th {\n",
       "        text-align: right;\n",
       "    }\n",
       "</style>\n",
       "<table border=\"1\" class=\"dataframe\">\n",
       "  <thead>\n",
       "    <tr style=\"text-align: right;\">\n",
       "      <th>Symbols</th>\n",
       "      <th>AAPL</th>\n",
       "      <th>C</th>\n",
       "      <th>CSCO</th>\n",
       "      <th>GOOG</th>\n",
       "      <th>MSFT</th>\n",
       "    </tr>\n",
       "    <tr>\n",
       "      <th>Date</th>\n",
       "      <th></th>\n",
       "      <th></th>\n",
       "      <th></th>\n",
       "      <th></th>\n",
       "      <th></th>\n",
       "    </tr>\n",
       "  </thead>\n",
       "  <tbody>\n",
       "    <tr>\n",
       "      <th>2007-01-03</th>\n",
       "      <td>True</td>\n",
       "      <td>False</td>\n",
       "      <td>True</td>\n",
       "      <td>False</td>\n",
       "      <td>True</td>\n",
       "    </tr>\n",
       "    <tr>\n",
       "      <th>2007-01-04</th>\n",
       "      <td>True</td>\n",
       "      <td>False</td>\n",
       "      <td>True</td>\n",
       "      <td>False</td>\n",
       "      <td>True</td>\n",
       "    </tr>\n",
       "    <tr>\n",
       "      <th>2007-01-05</th>\n",
       "      <td>True</td>\n",
       "      <td>False</td>\n",
       "      <td>True</td>\n",
       "      <td>False</td>\n",
       "      <td>True</td>\n",
       "    </tr>\n",
       "    <tr>\n",
       "      <th>2007-01-08</th>\n",
       "      <td>True</td>\n",
       "      <td>False</td>\n",
       "      <td>True</td>\n",
       "      <td>False</td>\n",
       "      <td>True</td>\n",
       "    </tr>\n",
       "    <tr>\n",
       "      <th>2007-01-09</th>\n",
       "      <td>True</td>\n",
       "      <td>False</td>\n",
       "      <td>True</td>\n",
       "      <td>False</td>\n",
       "      <td>True</td>\n",
       "    </tr>\n",
       "  </tbody>\n",
       "</table>\n",
       "</div>"
      ],
      "text/plain": [
       "Symbols     AAPL      C  CSCO   GOOG  MSFT\n",
       "Date                                      \n",
       "2007-01-03  True  False  True  False  True\n",
       "2007-01-04  True  False  True  False  True\n",
       "2007-01-05  True  False  True  False  True\n",
       "2007-01-08  True  False  True  False  True\n",
       "2007-01-09  True  False  True  False  True"
      ]
     },
     "execution_count": 78,
     "metadata": {},
     "output_type": "execute_result"
    }
   ],
   "source": [
    "### APPLY A CONDITION TO ALL CELLS\n",
    "\n",
    "(stk < 50).head()"
   ]
  },
  {
   "cell_type": "code",
   "execution_count": 80,
   "metadata": {
    "slideshow": {
     "slide_type": "slide"
    }
   },
   "outputs": [
    {
     "data": {
      "text/plain": [
       "Symbols\n",
       "AAPL    2.107094e+05\n",
       "C       2.724151e+05\n",
       "CSCO    6.748839e+04\n",
       "GOOG    1.499870e+06\n",
       "MSFT    1.159859e+05\n",
       "dtype: float64"
      ]
     },
     "execution_count": 80,
     "metadata": {},
     "output_type": "execute_result"
    }
   ],
   "source": [
    "### COLUMN SUMS\n",
    "\n",
    "sum(stk)"
   ]
  },
  {
   "cell_type": "code",
   "execution_count": 81,
   "metadata": {
    "slideshow": {
     "slide_type": "slide"
    }
   },
   "outputs": [
    {
     "data": {
      "text/html": [
       "<div>\n",
       "<style scoped>\n",
       "    .dataframe tbody tr th:only-of-type {\n",
       "        vertical-align: middle;\n",
       "    }\n",
       "\n",
       "    .dataframe tbody tr th {\n",
       "        vertical-align: top;\n",
       "    }\n",
       "\n",
       "    .dataframe thead th {\n",
       "        text-align: right;\n",
       "    }\n",
       "</style>\n",
       "<table border=\"1\" class=\"dataframe\">\n",
       "  <thead>\n",
       "    <tr style=\"text-align: right;\">\n",
       "      <th>Symbols</th>\n",
       "      <th>AAPL</th>\n",
       "      <th>C</th>\n",
       "      <th>CSCO</th>\n",
       "      <th>GOOG</th>\n",
       "      <th>MSFT</th>\n",
       "    </tr>\n",
       "    <tr>\n",
       "      <th>Date</th>\n",
       "      <th></th>\n",
       "      <th></th>\n",
       "      <th></th>\n",
       "      <th></th>\n",
       "      <th></th>\n",
       "    </tr>\n",
       "  </thead>\n",
       "  <tbody>\n",
       "    <tr>\n",
       "      <th>2018-12-24</th>\n",
       "      <td>146.202972</td>\n",
       "      <td>48.916111</td>\n",
       "      <td>39.719036</td>\n",
       "      <td>976.219971</td>\n",
       "      <td>93.729706</td>\n",
       "    </tr>\n",
       "    <tr>\n",
       "      <th>2018-12-26</th>\n",
       "      <td>156.498810</td>\n",
       "      <td>51.080891</td>\n",
       "      <td>41.878540</td>\n",
       "      <td>1039.459961</td>\n",
       "      <td>100.132362</td>\n",
       "    </tr>\n",
       "    <tr>\n",
       "      <th>2018-12-27</th>\n",
       "      <td>155.483154</td>\n",
       "      <td>51.408588</td>\n",
       "      <td>42.312412</td>\n",
       "      <td>1043.880005</td>\n",
       "      <td>100.749725</td>\n",
       "    </tr>\n",
       "    <tr>\n",
       "      <th>2018-12-28</th>\n",
       "      <td>155.562820</td>\n",
       "      <td>51.468174</td>\n",
       "      <td>42.174362</td>\n",
       "      <td>1037.079956</td>\n",
       "      <td>99.963089</td>\n",
       "    </tr>\n",
       "    <tr>\n",
       "      <th>2018-12-31</th>\n",
       "      <td>157.066376</td>\n",
       "      <td>51.696568</td>\n",
       "      <td>42.726562</td>\n",
       "      <td>1035.609985</td>\n",
       "      <td>101.138069</td>\n",
       "    </tr>\n",
       "  </tbody>\n",
       "</table>\n",
       "</div>"
      ],
      "text/plain": [
       "Symbols           AAPL          C       CSCO         GOOG        MSFT\n",
       "Date                                                                 \n",
       "2018-12-24  146.202972  48.916111  39.719036   976.219971   93.729706\n",
       "2018-12-26  156.498810  51.080891  41.878540  1039.459961  100.132362\n",
       "2018-12-27  155.483154  51.408588  42.312412  1043.880005  100.749725\n",
       "2018-12-28  155.562820  51.468174  42.174362  1037.079956   99.963089\n",
       "2018-12-31  157.066376  51.696568  42.726562  1035.609985  101.138069"
      ]
     },
     "execution_count": 81,
     "metadata": {},
     "output_type": "execute_result"
    }
   ],
   "source": [
    "stk.tail()"
   ]
  },
  {
   "cell_type": "markdown",
   "metadata": {
    "slideshow": {
     "slide_type": "slide"
    }
   },
   "source": [
    "## Lambda Functions and Apply Methods in Pandas"
   ]
  },
  {
   "cell_type": "code",
   "execution_count": 82,
   "metadata": {
    "slideshow": {
     "slide_type": "fragment"
    }
   },
   "outputs": [
    {
     "data": {
      "text/plain": [
       "Symbols\n",
       "AAPL     222.826341\n",
       "C        506.465708\n",
       "CSCO      37.361315\n",
       "GOOG    1140.441742\n",
       "MSFT     102.769158\n",
       "dtype: float64"
      ]
     },
     "execution_count": 82,
     "metadata": {},
     "output_type": "execute_result"
    }
   ],
   "source": [
    "### USING FUNCTIONS ON DATA FRAMES\n",
    "f = lambda x: x.max() - x.min()\n",
    "stk.apply(f)"
   ]
  },
  {
   "cell_type": "code",
   "execution_count": 83,
   "metadata": {
    "slideshow": {
     "slide_type": "slide"
    }
   },
   "outputs": [
    {
     "data": {
      "text/html": [
       "<div>\n",
       "<style scoped>\n",
       "    .dataframe tbody tr th:only-of-type {\n",
       "        vertical-align: middle;\n",
       "    }\n",
       "\n",
       "    .dataframe tbody tr th {\n",
       "        vertical-align: top;\n",
       "    }\n",
       "\n",
       "    .dataframe thead th {\n",
       "        text-align: right;\n",
       "    }\n",
       "</style>\n",
       "<table border=\"1\" class=\"dataframe\">\n",
       "  <thead>\n",
       "    <tr style=\"text-align: right;\">\n",
       "      <th>Symbols</th>\n",
       "      <th>AAPL</th>\n",
       "      <th>C</th>\n",
       "      <th>CSCO</th>\n",
       "      <th>GOOG</th>\n",
       "      <th>MSFT</th>\n",
       "    </tr>\n",
       "  </thead>\n",
       "  <tbody>\n",
       "    <tr>\n",
       "      <th>count</th>\n",
       "      <td>3020.000000</td>\n",
       "      <td>3020.000000</td>\n",
       "      <td>3020.000000</td>\n",
       "      <td>3020.000000</td>\n",
       "      <td>3020.000000</td>\n",
       "    </tr>\n",
       "    <tr>\n",
       "      <th>mean</th>\n",
       "      <td>69.771326</td>\n",
       "      <td>90.203686</td>\n",
       "      <td>22.347150</td>\n",
       "      <td>496.645753</td>\n",
       "      <td>38.405942</td>\n",
       "    </tr>\n",
       "    <tr>\n",
       "      <th>std</th>\n",
       "      <td>55.531553</td>\n",
       "      <td>117.051217</td>\n",
       "      <td>8.155098</td>\n",
       "      <td>288.572166</td>\n",
       "      <td>24.109161</td>\n",
       "    </tr>\n",
       "    <tr>\n",
       "      <th>min</th>\n",
       "      <td>7.449142</td>\n",
       "      <td>9.613211</td>\n",
       "      <td>10.768927</td>\n",
       "      <td>127.888214</td>\n",
       "      <td>11.854026</td>\n",
       "    </tr>\n",
       "    <tr>\n",
       "      <th>25%</th>\n",
       "      <td>19.249174</td>\n",
       "      <td>38.641331</td>\n",
       "      <td>16.847204</td>\n",
       "      <td>265.983788</td>\n",
       "      <td>21.832002</td>\n",
       "    </tr>\n",
       "    <tr>\n",
       "      <th>50%</th>\n",
       "      <td>54.459707</td>\n",
       "      <td>47.244339</td>\n",
       "      <td>20.398558</td>\n",
       "      <td>369.909103</td>\n",
       "      <td>26.313836</td>\n",
       "    </tr>\n",
       "    <tr>\n",
       "      <th>75%</th>\n",
       "      <td>107.059336</td>\n",
       "      <td>66.290739</td>\n",
       "      <td>25.423142</td>\n",
       "      <td>705.937515</td>\n",
       "      <td>48.265270</td>\n",
       "    </tr>\n",
       "    <tr>\n",
       "      <th>max</th>\n",
       "      <td>230.275482</td>\n",
       "      <td>516.078918</td>\n",
       "      <td>48.130241</td>\n",
       "      <td>1268.329956</td>\n",
       "      <td>114.623184</td>\n",
       "    </tr>\n",
       "  </tbody>\n",
       "</table>\n",
       "</div>"
      ],
      "text/plain": [
       "Symbols         AAPL            C         CSCO         GOOG         MSFT\n",
       "count    3020.000000  3020.000000  3020.000000  3020.000000  3020.000000\n",
       "mean       69.771326    90.203686    22.347150   496.645753    38.405942\n",
       "std        55.531553   117.051217     8.155098   288.572166    24.109161\n",
       "min         7.449142     9.613211    10.768927   127.888214    11.854026\n",
       "25%        19.249174    38.641331    16.847204   265.983788    21.832002\n",
       "50%        54.459707    47.244339    20.398558   369.909103    26.313836\n",
       "75%       107.059336    66.290739    25.423142   705.937515    48.265270\n",
       "max       230.275482   516.078918    48.130241  1268.329956   114.623184"
      ]
     },
     "execution_count": 83,
     "metadata": {},
     "output_type": "execute_result"
    }
   ],
   "source": [
    "stk.describe()"
   ]
  },
  {
   "cell_type": "code",
   "execution_count": 84,
   "metadata": {
    "slideshow": {
     "slide_type": "slide"
    }
   },
   "outputs": [
    {
     "name": "stdout",
     "output_type": "stream",
     "text": [
      "Symbols         AAPL           C       CSCO        GOOG       MSFT\n",
      "Date                                                              \n",
      "2007-01-03  7.982585  515.527100  21.925289  232.284210  22.478832\n",
      "2007-01-04  8.159763  513.754211  22.502472  240.068588  22.441185\n",
      "2007-01-05  8.101658  511.048340  22.510378  242.020889  22.313211\n",
      "2007-01-08  8.141665  513.661072  22.636887  240.227554  22.531523\n",
      "2007-01-09  8.817995  509.182159  22.510378  241.181351  22.554110\n"
     ]
    },
    {
     "data": {
      "text/html": [
       "<div>\n",
       "<style scoped>\n",
       "    .dataframe tbody tr th:only-of-type {\n",
       "        vertical-align: middle;\n",
       "    }\n",
       "\n",
       "    .dataframe tbody tr th {\n",
       "        vertical-align: top;\n",
       "    }\n",
       "\n",
       "    .dataframe thead th {\n",
       "        text-align: right;\n",
       "    }\n",
       "</style>\n",
       "<table border=\"1\" class=\"dataframe\">\n",
       "  <thead>\n",
       "    <tr style=\"text-align: right;\">\n",
       "      <th>Symbols</th>\n",
       "      <th>AAPL</th>\n",
       "      <th>C</th>\n",
       "      <th>CSCO</th>\n",
       "      <th>GOOG</th>\n",
       "      <th>MSFT</th>\n",
       "    </tr>\n",
       "    <tr>\n",
       "      <th>Date</th>\n",
       "      <th></th>\n",
       "      <th></th>\n",
       "      <th></th>\n",
       "      <th></th>\n",
       "      <th></th>\n",
       "    </tr>\n",
       "  </thead>\n",
       "  <tbody>\n",
       "    <tr>\n",
       "      <th>2018-12-31</th>\n",
       "      <td>157.066376</td>\n",
       "      <td>51.696568</td>\n",
       "      <td>42.726562</td>\n",
       "      <td>1035.609985</td>\n",
       "      <td>101.138069</td>\n",
       "    </tr>\n",
       "    <tr>\n",
       "      <th>2018-12-28</th>\n",
       "      <td>155.562820</td>\n",
       "      <td>51.468174</td>\n",
       "      <td>42.174362</td>\n",
       "      <td>1037.079956</td>\n",
       "      <td>99.963089</td>\n",
       "    </tr>\n",
       "    <tr>\n",
       "      <th>2018-12-27</th>\n",
       "      <td>155.483154</td>\n",
       "      <td>51.408588</td>\n",
       "      <td>42.312412</td>\n",
       "      <td>1043.880005</td>\n",
       "      <td>100.749725</td>\n",
       "    </tr>\n",
       "    <tr>\n",
       "      <th>2018-12-26</th>\n",
       "      <td>156.498810</td>\n",
       "      <td>51.080891</td>\n",
       "      <td>41.878540</td>\n",
       "      <td>1039.459961</td>\n",
       "      <td>100.132362</td>\n",
       "    </tr>\n",
       "    <tr>\n",
       "      <th>2018-12-24</th>\n",
       "      <td>146.202972</td>\n",
       "      <td>48.916111</td>\n",
       "      <td>39.719036</td>\n",
       "      <td>976.219971</td>\n",
       "      <td>93.729706</td>\n",
       "    </tr>\n",
       "  </tbody>\n",
       "</table>\n",
       "</div>"
      ],
      "text/plain": [
       "Symbols           AAPL          C       CSCO         GOOG        MSFT\n",
       "Date                                                                 \n",
       "2018-12-31  157.066376  51.696568  42.726562  1035.609985  101.138069\n",
       "2018-12-28  155.562820  51.468174  42.174362  1037.079956   99.963089\n",
       "2018-12-27  155.483154  51.408588  42.312412  1043.880005  100.749725\n",
       "2018-12-26  156.498810  51.080891  41.878540  1039.459961  100.132362\n",
       "2018-12-24  146.202972  48.916111  39.719036   976.219971   93.729706"
      ]
     },
     "execution_count": 84,
     "metadata": {},
     "output_type": "execute_result"
    }
   ],
   "source": [
    "### SORT ON ROW INDEXES\n",
    "\n",
    "print(stk.head())\n",
    "stk.sort_index(axis=0,ascending=False).head()"
   ]
  },
  {
   "cell_type": "code",
   "execution_count": 85,
   "metadata": {
    "slideshow": {
     "slide_type": "slide"
    }
   },
   "outputs": [
    {
     "name": "stdout",
     "output_type": "stream",
     "text": [
      "Symbols         AAPL           C       CSCO        GOOG       MSFT\n",
      "Date                                                              \n",
      "2007-01-03  7.982585  515.527100  21.925289  232.284210  22.478832\n",
      "2007-01-04  8.159763  513.754211  22.502472  240.068588  22.441185\n",
      "2007-01-05  8.101658  511.048340  22.510378  242.020889  22.313211\n",
      "2007-01-08  8.141665  513.661072  22.636887  240.227554  22.531523\n",
      "2007-01-09  8.817995  509.182159  22.510378  241.181351  22.554110\n"
     ]
    },
    {
     "data": {
      "text/html": [
       "<div>\n",
       "<style scoped>\n",
       "    .dataframe tbody tr th:only-of-type {\n",
       "        vertical-align: middle;\n",
       "    }\n",
       "\n",
       "    .dataframe tbody tr th {\n",
       "        vertical-align: top;\n",
       "    }\n",
       "\n",
       "    .dataframe thead th {\n",
       "        text-align: right;\n",
       "    }\n",
       "</style>\n",
       "<table border=\"1\" class=\"dataframe\">\n",
       "  <thead>\n",
       "    <tr style=\"text-align: right;\">\n",
       "      <th>Symbols</th>\n",
       "      <th>MSFT</th>\n",
       "      <th>GOOG</th>\n",
       "      <th>CSCO</th>\n",
       "      <th>C</th>\n",
       "      <th>AAPL</th>\n",
       "    </tr>\n",
       "    <tr>\n",
       "      <th>Date</th>\n",
       "      <th></th>\n",
       "      <th></th>\n",
       "      <th></th>\n",
       "      <th></th>\n",
       "      <th></th>\n",
       "    </tr>\n",
       "  </thead>\n",
       "  <tbody>\n",
       "    <tr>\n",
       "      <th>2007-01-03</th>\n",
       "      <td>22.478832</td>\n",
       "      <td>232.284210</td>\n",
       "      <td>21.925289</td>\n",
       "      <td>515.527100</td>\n",
       "      <td>7.982585</td>\n",
       "    </tr>\n",
       "    <tr>\n",
       "      <th>2007-01-04</th>\n",
       "      <td>22.441185</td>\n",
       "      <td>240.068588</td>\n",
       "      <td>22.502472</td>\n",
       "      <td>513.754211</td>\n",
       "      <td>8.159763</td>\n",
       "    </tr>\n",
       "    <tr>\n",
       "      <th>2007-01-05</th>\n",
       "      <td>22.313211</td>\n",
       "      <td>242.020889</td>\n",
       "      <td>22.510378</td>\n",
       "      <td>511.048340</td>\n",
       "      <td>8.101658</td>\n",
       "    </tr>\n",
       "    <tr>\n",
       "      <th>2007-01-08</th>\n",
       "      <td>22.531523</td>\n",
       "      <td>240.227554</td>\n",
       "      <td>22.636887</td>\n",
       "      <td>513.661072</td>\n",
       "      <td>8.141665</td>\n",
       "    </tr>\n",
       "    <tr>\n",
       "      <th>2007-01-09</th>\n",
       "      <td>22.554110</td>\n",
       "      <td>241.181351</td>\n",
       "      <td>22.510378</td>\n",
       "      <td>509.182159</td>\n",
       "      <td>8.817995</td>\n",
       "    </tr>\n",
       "  </tbody>\n",
       "</table>\n",
       "</div>"
      ],
      "text/plain": [
       "Symbols          MSFT        GOOG       CSCO           C      AAPL\n",
       "Date                                                              \n",
       "2007-01-03  22.478832  232.284210  21.925289  515.527100  7.982585\n",
       "2007-01-04  22.441185  240.068588  22.502472  513.754211  8.159763\n",
       "2007-01-05  22.313211  242.020889  22.510378  511.048340  8.101658\n",
       "2007-01-08  22.531523  240.227554  22.636887  513.661072  8.141665\n",
       "2007-01-09  22.554110  241.181351  22.510378  509.182159  8.817995"
      ]
     },
     "execution_count": 85,
     "metadata": {},
     "output_type": "execute_result"
    }
   ],
   "source": [
    "### SORT ON COLUMN HEADERS\n",
    "\n",
    "print(stk.head())\n",
    "stk.sort_index(axis=1,ascending=False).head()"
   ]
  },
  {
   "cell_type": "code",
   "execution_count": 86,
   "metadata": {
    "slideshow": {
     "slide_type": "slide"
    }
   },
   "outputs": [
    {
     "data": {
      "text/plain": [
       "Symbols\n",
       "AAPL    2.107094e+05\n",
       "C       2.724151e+05\n",
       "CSCO    6.748839e+04\n",
       "GOOG    1.499870e+06\n",
       "MSFT    1.159859e+05\n",
       "dtype: float64"
      ]
     },
     "execution_count": 86,
     "metadata": {},
     "output_type": "execute_result"
    }
   ],
   "source": [
    "### SUM COLUMNS\n",
    "\n",
    "stk.sum()"
   ]
  },
  {
   "cell_type": "code",
   "execution_count": 87,
   "metadata": {
    "slideshow": {
     "slide_type": "fragment"
    }
   },
   "outputs": [
    {
     "data": {
      "text/plain": [
       "Symbols\n",
       "AAPL     69.771326\n",
       "C        90.203686\n",
       "CSCO     22.347150\n",
       "GOOG    496.645753\n",
       "MSFT     38.405942\n",
       "dtype: float64"
      ]
     },
     "execution_count": 87,
     "metadata": {},
     "output_type": "execute_result"
    }
   ],
   "source": [
    "### AVERAGE OF COLUMNS\n",
    "\n",
    "stk.mean()"
   ]
  },
  {
   "cell_type": "code",
   "execution_count": 88,
   "metadata": {
    "slideshow": {
     "slide_type": "slide"
    }
   },
   "outputs": [
    {
     "data": {
      "text/html": [
       "<div>\n",
       "<style scoped>\n",
       "    .dataframe tbody tr th:only-of-type {\n",
       "        vertical-align: middle;\n",
       "    }\n",
       "\n",
       "    .dataframe tbody tr th {\n",
       "        vertical-align: top;\n",
       "    }\n",
       "\n",
       "    .dataframe thead th {\n",
       "        text-align: right;\n",
       "    }\n",
       "</style>\n",
       "<table border=\"1\" class=\"dataframe\">\n",
       "  <thead>\n",
       "    <tr style=\"text-align: right;\">\n",
       "      <th>Symbols</th>\n",
       "      <th>AAPL</th>\n",
       "      <th>C</th>\n",
       "      <th>CSCO</th>\n",
       "      <th>GOOG</th>\n",
       "      <th>MSFT</th>\n",
       "    </tr>\n",
       "    <tr>\n",
       "      <th>Date</th>\n",
       "      <th></th>\n",
       "      <th></th>\n",
       "      <th></th>\n",
       "      <th></th>\n",
       "      <th></th>\n",
       "    </tr>\n",
       "  </thead>\n",
       "  <tbody>\n",
       "    <tr>\n",
       "      <th>2007-01-03</th>\n",
       "      <td>NaN</td>\n",
       "      <td>NaN</td>\n",
       "      <td>NaN</td>\n",
       "      <td>NaN</td>\n",
       "      <td>NaN</td>\n",
       "    </tr>\n",
       "    <tr>\n",
       "      <th>2007-01-04</th>\n",
       "      <td>0.177178</td>\n",
       "      <td>-1.772888</td>\n",
       "      <td>0.577183</td>\n",
       "      <td>7.784378</td>\n",
       "      <td>-0.037647</td>\n",
       "    </tr>\n",
       "    <tr>\n",
       "      <th>2007-01-05</th>\n",
       "      <td>-0.058105</td>\n",
       "      <td>-2.705872</td>\n",
       "      <td>0.007906</td>\n",
       "      <td>1.952301</td>\n",
       "      <td>-0.127974</td>\n",
       "    </tr>\n",
       "    <tr>\n",
       "      <th>2007-01-08</th>\n",
       "      <td>0.040008</td>\n",
       "      <td>2.612732</td>\n",
       "      <td>0.126509</td>\n",
       "      <td>-1.793335</td>\n",
       "      <td>0.218311</td>\n",
       "    </tr>\n",
       "    <tr>\n",
       "      <th>2007-01-09</th>\n",
       "      <td>0.676330</td>\n",
       "      <td>-4.478912</td>\n",
       "      <td>-0.126509</td>\n",
       "      <td>0.953796</td>\n",
       "      <td>0.022587</td>\n",
       "    </tr>\n",
       "  </tbody>\n",
       "</table>\n",
       "</div>"
      ],
      "text/plain": [
       "Symbols         AAPL         C      CSCO      GOOG      MSFT\n",
       "Date                                                        \n",
       "2007-01-03       NaN       NaN       NaN       NaN       NaN\n",
       "2007-01-04  0.177178 -1.772888  0.577183  7.784378 -0.037647\n",
       "2007-01-05 -0.058105 -2.705872  0.007906  1.952301 -0.127974\n",
       "2007-01-08  0.040008  2.612732  0.126509 -1.793335  0.218311\n",
       "2007-01-09  0.676330 -4.478912 -0.126509  0.953796  0.022587"
      ]
     },
     "execution_count": 88,
     "metadata": {},
     "output_type": "execute_result"
    }
   ],
   "source": [
    "### FIRST DIFFERENCE THE DATA\n",
    "\n",
    "stk.diff().head()"
   ]
  },
  {
   "cell_type": "code",
   "execution_count": 89,
   "metadata": {
    "slideshow": {
     "slide_type": "slide"
    }
   },
   "outputs": [
    {
     "data": {
      "text/html": [
       "<div>\n",
       "<style scoped>\n",
       "    .dataframe tbody tr th:only-of-type {\n",
       "        vertical-align: middle;\n",
       "    }\n",
       "\n",
       "    .dataframe tbody tr th {\n",
       "        vertical-align: top;\n",
       "    }\n",
       "\n",
       "    .dataframe thead th {\n",
       "        text-align: right;\n",
       "    }\n",
       "</style>\n",
       "<table border=\"1\" class=\"dataframe\">\n",
       "  <thead>\n",
       "    <tr style=\"text-align: right;\">\n",
       "      <th>Symbols</th>\n",
       "      <th>AAPL</th>\n",
       "      <th>C</th>\n",
       "      <th>CSCO</th>\n",
       "      <th>GOOG</th>\n",
       "      <th>MSFT</th>\n",
       "    </tr>\n",
       "    <tr>\n",
       "      <th>Date</th>\n",
       "      <th></th>\n",
       "      <th></th>\n",
       "      <th></th>\n",
       "      <th></th>\n",
       "      <th></th>\n",
       "    </tr>\n",
       "  </thead>\n",
       "  <tbody>\n",
       "    <tr>\n",
       "      <th>2007-01-03</th>\n",
       "      <td>NaN</td>\n",
       "      <td>NaN</td>\n",
       "      <td>NaN</td>\n",
       "      <td>NaN</td>\n",
       "      <td>NaN</td>\n",
       "    </tr>\n",
       "    <tr>\n",
       "      <th>2007-01-04</th>\n",
       "      <td>0.022196</td>\n",
       "      <td>-0.003439</td>\n",
       "      <td>0.026325</td>\n",
       "      <td>0.033512</td>\n",
       "      <td>-0.001675</td>\n",
       "    </tr>\n",
       "    <tr>\n",
       "      <th>2007-01-05</th>\n",
       "      <td>-0.007121</td>\n",
       "      <td>-0.005267</td>\n",
       "      <td>0.000351</td>\n",
       "      <td>0.008132</td>\n",
       "      <td>-0.005703</td>\n",
       "    </tr>\n",
       "    <tr>\n",
       "      <th>2007-01-08</th>\n",
       "      <td>0.004938</td>\n",
       "      <td>0.005112</td>\n",
       "      <td>0.005620</td>\n",
       "      <td>-0.007410</td>\n",
       "      <td>0.009784</td>\n",
       "    </tr>\n",
       "    <tr>\n",
       "      <th>2007-01-09</th>\n",
       "      <td>0.083070</td>\n",
       "      <td>-0.008720</td>\n",
       "      <td>-0.005589</td>\n",
       "      <td>0.003970</td>\n",
       "      <td>0.001002</td>\n",
       "    </tr>\n",
       "  </tbody>\n",
       "</table>\n",
       "</div>"
      ],
      "text/plain": [
       "Symbols         AAPL         C      CSCO      GOOG      MSFT\n",
       "Date                                                        \n",
       "2007-01-03       NaN       NaN       NaN       NaN       NaN\n",
       "2007-01-04  0.022196 -0.003439  0.026325  0.033512 -0.001675\n",
       "2007-01-05 -0.007121 -0.005267  0.000351  0.008132 -0.005703\n",
       "2007-01-08  0.004938  0.005112  0.005620 -0.007410  0.009784\n",
       "2007-01-09  0.083070 -0.008720 -0.005589  0.003970  0.001002"
      ]
     },
     "execution_count": 89,
     "metadata": {},
     "output_type": "execute_result"
    }
   ],
   "source": [
    "### COMPUTE PERCENTAGE DAILY RETURN\n",
    "\n",
    "stk.pct_change().head()"
   ]
  },
  {
   "cell_type": "markdown",
   "metadata": {
    "slideshow": {
     "slide_type": "slide"
    }
   },
   "source": [
    "## Annualize Return Mean and Standard Deviation "
   ]
  },
  {
   "cell_type": "code",
   "execution_count": 90,
   "metadata": {
    "slideshow": {
     "slide_type": "fragment"
    }
   },
   "outputs": [
    {
     "data": {
      "text/plain": [
       "Symbols\n",
       "AAPL    0.299183\n",
       "C      -0.029800\n",
       "CSCO    0.097835\n",
       "GOOG    0.166026\n",
       "MSFT    0.163089\n",
       "dtype: float64"
      ]
     },
     "execution_count": 90,
     "metadata": {},
     "output_type": "execute_result"
    }
   ],
   "source": [
    "### Annualize Mean\n",
    "stk.pct_change().mean()*252.0"
   ]
  },
  {
   "cell_type": "code",
   "execution_count": 91,
   "metadata": {
    "slideshow": {
     "slide_type": "fragment"
    }
   },
   "outputs": [
    {
     "data": {
      "text/plain": [
       "Symbols\n",
       "AAPL    0.317001\n",
       "C       0.572817\n",
       "CSCO    0.289895\n",
       "GOOG    0.288479\n",
       "MSFT    0.274569\n",
       "dtype: float64"
      ]
     },
     "execution_count": 91,
     "metadata": {},
     "output_type": "execute_result"
    }
   ],
   "source": [
    "### Annualize SD\n",
    "stk.pct_change().std()*sqrt(252.0)"
   ]
  },
  {
   "cell_type": "code",
   "execution_count": 92,
   "metadata": {
    "slideshow": {
     "slide_type": "slide"
    }
   },
   "outputs": [
    {
     "data": {
      "text/html": [
       "<div>\n",
       "<style scoped>\n",
       "    .dataframe tbody tr th:only-of-type {\n",
       "        vertical-align: middle;\n",
       "    }\n",
       "\n",
       "    .dataframe tbody tr th {\n",
       "        vertical-align: top;\n",
       "    }\n",
       "\n",
       "    .dataframe thead th {\n",
       "        text-align: right;\n",
       "    }\n",
       "</style>\n",
       "<table border=\"1\" class=\"dataframe\">\n",
       "  <thead>\n",
       "    <tr style=\"text-align: right;\">\n",
       "      <th>Symbols</th>\n",
       "      <th>AAPL</th>\n",
       "      <th>C</th>\n",
       "      <th>CSCO</th>\n",
       "      <th>GOOG</th>\n",
       "      <th>MSFT</th>\n",
       "    </tr>\n",
       "    <tr>\n",
       "      <th>Symbols</th>\n",
       "      <th></th>\n",
       "      <th></th>\n",
       "      <th></th>\n",
       "      <th></th>\n",
       "      <th></th>\n",
       "    </tr>\n",
       "  </thead>\n",
       "  <tbody>\n",
       "    <tr>\n",
       "      <th>AAPL</th>\n",
       "      <td>1.000000</td>\n",
       "      <td>0.374428</td>\n",
       "      <td>0.491865</td>\n",
       "      <td>0.539193</td>\n",
       "      <td>0.482470</td>\n",
       "    </tr>\n",
       "    <tr>\n",
       "      <th>C</th>\n",
       "      <td>0.374428</td>\n",
       "      <td>1.000000</td>\n",
       "      <td>0.461675</td>\n",
       "      <td>0.395657</td>\n",
       "      <td>0.405170</td>\n",
       "    </tr>\n",
       "    <tr>\n",
       "      <th>CSCO</th>\n",
       "      <td>0.491865</td>\n",
       "      <td>0.461675</td>\n",
       "      <td>1.000000</td>\n",
       "      <td>0.508091</td>\n",
       "      <td>0.598869</td>\n",
       "    </tr>\n",
       "    <tr>\n",
       "      <th>GOOG</th>\n",
       "      <td>0.539193</td>\n",
       "      <td>0.395657</td>\n",
       "      <td>0.508091</td>\n",
       "      <td>1.000000</td>\n",
       "      <td>0.557276</td>\n",
       "    </tr>\n",
       "    <tr>\n",
       "      <th>MSFT</th>\n",
       "      <td>0.482470</td>\n",
       "      <td>0.405170</td>\n",
       "      <td>0.598869</td>\n",
       "      <td>0.557276</td>\n",
       "      <td>1.000000</td>\n",
       "    </tr>\n",
       "  </tbody>\n",
       "</table>\n",
       "</div>"
      ],
      "text/plain": [
       "Symbols      AAPL         C      CSCO      GOOG      MSFT\n",
       "Symbols                                                  \n",
       "AAPL     1.000000  0.374428  0.491865  0.539193  0.482470\n",
       "C        0.374428  1.000000  0.461675  0.395657  0.405170\n",
       "CSCO     0.491865  0.461675  1.000000  0.508091  0.598869\n",
       "GOOG     0.539193  0.395657  0.508091  1.000000  0.557276\n",
       "MSFT     0.482470  0.405170  0.598869  0.557276  1.000000"
      ]
     },
     "execution_count": 92,
     "metadata": {},
     "output_type": "execute_result"
    }
   ],
   "source": [
    "### CORRELATION MATRIX\n",
    "\n",
    "rets = stk.pct_change()\n",
    "rets.corr()"
   ]
  },
  {
   "cell_type": "code",
   "execution_count": 93,
   "metadata": {
    "slideshow": {
     "slide_type": "fragment"
    }
   },
   "outputs": [
    {
     "data": {
      "text/plain": [
       "Symbols\n",
       "AAPL    1.000000\n",
       "C       0.374428\n",
       "CSCO    0.491865\n",
       "GOOG    0.539193\n",
       "MSFT    0.482470\n",
       "dtype: float64"
      ]
     },
     "execution_count": 93,
     "metadata": {},
     "output_type": "execute_result"
    }
   ],
   "source": [
    "rets.corrwith(rets.AAPL)"
   ]
  },
  {
   "cell_type": "code",
   "execution_count": 94,
   "metadata": {
    "slideshow": {
     "slide_type": "slide"
    }
   },
   "outputs": [
    {
     "data": {
      "text/html": [
       "<div>\n",
       "<style scoped>\n",
       "    .dataframe tbody tr th:only-of-type {\n",
       "        vertical-align: middle;\n",
       "    }\n",
       "\n",
       "    .dataframe tbody tr th {\n",
       "        vertical-align: top;\n",
       "    }\n",
       "\n",
       "    .dataframe thead th {\n",
       "        text-align: right;\n",
       "    }\n",
       "</style>\n",
       "<table border=\"1\" class=\"dataframe\">\n",
       "  <thead>\n",
       "    <tr style=\"text-align: right;\">\n",
       "      <th>Symbols</th>\n",
       "      <th>AAPL</th>\n",
       "      <th>C</th>\n",
       "      <th>CSCO</th>\n",
       "      <th>GOOG</th>\n",
       "      <th>MSFT</th>\n",
       "    </tr>\n",
       "    <tr>\n",
       "      <th>Symbols</th>\n",
       "      <th></th>\n",
       "      <th></th>\n",
       "      <th></th>\n",
       "      <th></th>\n",
       "      <th></th>\n",
       "    </tr>\n",
       "  </thead>\n",
       "  <tbody>\n",
       "    <tr>\n",
       "      <th>AAPL</th>\n",
       "      <td>0.000399</td>\n",
       "      <td>0.000270</td>\n",
       "      <td>0.000179</td>\n",
       "      <td>0.000196</td>\n",
       "      <td>0.000167</td>\n",
       "    </tr>\n",
       "    <tr>\n",
       "      <th>C</th>\n",
       "      <td>0.000270</td>\n",
       "      <td>0.001302</td>\n",
       "      <td>0.000304</td>\n",
       "      <td>0.000259</td>\n",
       "      <td>0.000253</td>\n",
       "    </tr>\n",
       "    <tr>\n",
       "      <th>CSCO</th>\n",
       "      <td>0.000179</td>\n",
       "      <td>0.000304</td>\n",
       "      <td>0.000333</td>\n",
       "      <td>0.000169</td>\n",
       "      <td>0.000189</td>\n",
       "    </tr>\n",
       "    <tr>\n",
       "      <th>GOOG</th>\n",
       "      <td>0.000196</td>\n",
       "      <td>0.000259</td>\n",
       "      <td>0.000169</td>\n",
       "      <td>0.000330</td>\n",
       "      <td>0.000175</td>\n",
       "    </tr>\n",
       "    <tr>\n",
       "      <th>MSFT</th>\n",
       "      <td>0.000167</td>\n",
       "      <td>0.000253</td>\n",
       "      <td>0.000189</td>\n",
       "      <td>0.000175</td>\n",
       "      <td>0.000299</td>\n",
       "    </tr>\n",
       "  </tbody>\n",
       "</table>\n",
       "</div>"
      ],
      "text/plain": [
       "Symbols      AAPL         C      CSCO      GOOG      MSFT\n",
       "Symbols                                                  \n",
       "AAPL     0.000399  0.000270  0.000179  0.000196  0.000167\n",
       "C        0.000270  0.001302  0.000304  0.000259  0.000253\n",
       "CSCO     0.000179  0.000304  0.000333  0.000169  0.000189\n",
       "GOOG     0.000196  0.000259  0.000169  0.000330  0.000175\n",
       "MSFT     0.000167  0.000253  0.000189  0.000175  0.000299"
      ]
     },
     "execution_count": 94,
     "metadata": {},
     "output_type": "execute_result"
    }
   ],
   "source": [
    "### COVARIANCE MATRIX\n",
    "\n",
    "rets.cov()"
   ]
  },
  {
   "cell_type": "code",
   "execution_count": 95,
   "metadata": {
    "slideshow": {
     "slide_type": "fragment"
    }
   },
   "outputs": [
    {
     "data": {
      "text/plain": [
       "array([0.31700054, 0.57281719, 0.28989535, 0.28847937, 0.27456898])"
      ]
     },
     "execution_count": 95,
     "metadata": {},
     "output_type": "execute_result"
    }
   ],
   "source": [
    "sqrt(diag(rets.cov())*252.0)"
   ]
  },
  {
   "cell_type": "markdown",
   "metadata": {
    "slideshow": {
     "slide_type": "slide"
    }
   },
   "source": [
    "## Stacking up Data in Panels"
   ]
  },
  {
   "cell_type": "code",
   "execution_count": null,
   "metadata": {
    "slideshow": {
     "slide_type": "fragment"
    }
   },
   "outputs": [],
   "source": [
    "from datetime import datetime\n",
    "import pandas_datareader.data as web\n",
    "panel = pd.Panel(dict((stock, web.DataReader(stock,\"yahoo\",datetime(2015,1,1),datetime(2018,12,31))) \n",
    "                      for stock in ['C','AAPL','CSCO','MSFT','IBM']))\n",
    "panel"
   ]
  },
  {
   "cell_type": "code",
   "execution_count": 98,
   "metadata": {
    "slideshow": {
     "slide_type": "slide"
    }
   },
   "outputs": [
    {
     "name": "stderr",
     "output_type": "stream",
     "text": [
      "/Users/srdas/anaconda3/lib/python3.7/site-packages/ipykernel_launcher.py:3: FutureWarning: \n",
      "Panel is deprecated and will be removed in a future version.\n",
      "The recommended way to represent these types of 3-dimensional data are with a MultiIndex on a DataFrame, via the Panel.to_frame() method\n",
      "Alternatively, you can use the xarray package http://xarray.pydata.org/en/stable/.\n",
      "Pandas provides a `.to_xarray()` method to help automate this conversion.\n",
      "\n",
      "  This is separate from the ipykernel package so we can avoid doing imports until\n"
     ]
    },
    {
     "data": {
      "text/plain": [
       "<class 'pandas.core.panel.Panel'>\n",
       "Dimensions: 6 (items) x 1006 (major_axis) x 5 (minor_axis)\n",
       "Items axis: High to Adj Close\n",
       "Major_axis axis: 2015-01-02 00:00:00 to 2018-12-31 00:00:00\n",
       "Minor_axis axis: C to IBM"
      ]
     },
     "execution_count": 98,
     "metadata": {},
     "output_type": "execute_result"
    }
   ],
   "source": [
    "### RE-ARRANGE DIMENSIONS\n",
    "\n",
    "panel = panel.swapaxes('items','minor')\n",
    "panel"
   ]
  },
  {
   "cell_type": "code",
   "execution_count": 99,
   "metadata": {
    "slideshow": {
     "slide_type": "fragment"
    }
   },
   "outputs": [
    {
     "data": {
      "text/html": [
       "<div>\n",
       "<style scoped>\n",
       "    .dataframe tbody tr th:only-of-type {\n",
       "        vertical-align: middle;\n",
       "    }\n",
       "\n",
       "    .dataframe tbody tr th {\n",
       "        vertical-align: top;\n",
       "    }\n",
       "\n",
       "    .dataframe thead th {\n",
       "        text-align: right;\n",
       "    }\n",
       "</style>\n",
       "<table border=\"1\" class=\"dataframe\">\n",
       "  <thead>\n",
       "    <tr style=\"text-align: right;\">\n",
       "      <th></th>\n",
       "      <th>C</th>\n",
       "      <th>AAPL</th>\n",
       "      <th>CSCO</th>\n",
       "      <th>MSFT</th>\n",
       "      <th>IBM</th>\n",
       "    </tr>\n",
       "    <tr>\n",
       "      <th>Date</th>\n",
       "      <th></th>\n",
       "      <th></th>\n",
       "      <th></th>\n",
       "      <th></th>\n",
       "      <th></th>\n",
       "    </tr>\n",
       "  </thead>\n",
       "  <tbody>\n",
       "    <tr>\n",
       "      <th>2015-01-02</th>\n",
       "      <td>51.331264</td>\n",
       "      <td>101.528191</td>\n",
       "      <td>24.084984</td>\n",
       "      <td>42.418739</td>\n",
       "      <td>135.278397</td>\n",
       "    </tr>\n",
       "    <tr>\n",
       "      <th>2015-01-05</th>\n",
       "      <td>49.713570</td>\n",
       "      <td>98.667984</td>\n",
       "      <td>23.605202</td>\n",
       "      <td>42.028660</td>\n",
       "      <td>133.149841</td>\n",
       "    </tr>\n",
       "    <tr>\n",
       "      <th>2015-01-06</th>\n",
       "      <td>47.963421</td>\n",
       "      <td>98.677261</td>\n",
       "      <td>23.596481</td>\n",
       "      <td>41.411785</td>\n",
       "      <td>130.278320</td>\n",
       "    </tr>\n",
       "    <tr>\n",
       "      <th>2015-01-07</th>\n",
       "      <td>48.408047</td>\n",
       "      <td>100.060936</td>\n",
       "      <td>23.814560</td>\n",
       "      <td>41.937946</td>\n",
       "      <td>129.426880</td>\n",
       "    </tr>\n",
       "    <tr>\n",
       "      <th>2015-01-08</th>\n",
       "      <td>49.136482</td>\n",
       "      <td>103.905510</td>\n",
       "      <td>23.997753</td>\n",
       "      <td>43.171677</td>\n",
       "      <td>132.239990</td>\n",
       "    </tr>\n",
       "  </tbody>\n",
       "</table>\n",
       "</div>"
      ],
      "text/plain": [
       "                    C        AAPL       CSCO       MSFT         IBM\n",
       "Date                                                               \n",
       "2015-01-02  51.331264  101.528191  24.084984  42.418739  135.278397\n",
       "2015-01-05  49.713570   98.667984  23.605202  42.028660  133.149841\n",
       "2015-01-06  47.963421   98.677261  23.596481  41.411785  130.278320\n",
       "2015-01-07  48.408047  100.060936  23.814560  41.937946  129.426880\n",
       "2015-01-08  49.136482  103.905510  23.997753  43.171677  132.239990"
      ]
     },
     "execution_count": 99,
     "metadata": {},
     "output_type": "execute_result"
    }
   ],
   "source": [
    "panel['Adj Close'].head()"
   ]
  },
  {
   "cell_type": "code",
   "execution_count": 100,
   "metadata": {
    "slideshow": {
     "slide_type": "slide"
    }
   },
   "outputs": [
    {
     "name": "stderr",
     "output_type": "stream",
     "text": [
      "/Users/srdas/anaconda3/lib/python3.7/site-packages/ipykernel_launcher.py:3: DeprecationWarning: \n",
      ".ix is deprecated. Please use\n",
      ".loc for label based indexing or\n",
      ".iloc for positional indexing\n",
      "\n",
      "See the documentation here:\n",
      "http://pandas.pydata.org/pandas-docs/stable/indexing.html#ix-indexer-is-deprecated\n",
      "  This is separate from the ipykernel package so we can avoid doing imports until\n"
     ]
    },
    {
     "data": {
      "text/html": [
       "<div>\n",
       "<style scoped>\n",
       "    .dataframe tbody tr th:only-of-type {\n",
       "        vertical-align: middle;\n",
       "    }\n",
       "\n",
       "    .dataframe tbody tr th {\n",
       "        vertical-align: top;\n",
       "    }\n",
       "\n",
       "    .dataframe thead th {\n",
       "        text-align: right;\n",
       "    }\n",
       "</style>\n",
       "<table border=\"1\" class=\"dataframe\">\n",
       "  <thead>\n",
       "    <tr style=\"text-align: right;\">\n",
       "      <th></th>\n",
       "      <th>High</th>\n",
       "      <th>Low</th>\n",
       "      <th>Open</th>\n",
       "      <th>Close</th>\n",
       "      <th>Volume</th>\n",
       "      <th>Adj Close</th>\n",
       "    </tr>\n",
       "  </thead>\n",
       "  <tbody>\n",
       "    <tr>\n",
       "      <th>C</th>\n",
       "      <td>51.959999</td>\n",
       "      <td>50.980000</td>\n",
       "      <td>51.160000</td>\n",
       "      <td>51.619999</td>\n",
       "      <td>13250800.0</td>\n",
       "      <td>48.844131</td>\n",
       "    </tr>\n",
       "    <tr>\n",
       "      <th>AAPL</th>\n",
       "      <td>127.510002</td>\n",
       "      <td>124.330002</td>\n",
       "      <td>124.470001</td>\n",
       "      <td>127.349998</td>\n",
       "      <td>37194000.0</td>\n",
       "      <td>118.729012</td>\n",
       "    </tr>\n",
       "    <tr>\n",
       "      <th>CSCO</th>\n",
       "      <td>27.320000</td>\n",
       "      <td>26.840000</td>\n",
       "      <td>26.959999</td>\n",
       "      <td>27.219999</td>\n",
       "      <td>20004000.0</td>\n",
       "      <td>23.926491</td>\n",
       "    </tr>\n",
       "    <tr>\n",
       "      <th>MSFT</th>\n",
       "      <td>41.779999</td>\n",
       "      <td>40.180000</td>\n",
       "      <td>40.340000</td>\n",
       "      <td>41.549999</td>\n",
       "      <td>39223700.0</td>\n",
       "      <td>37.960690</td>\n",
       "    </tr>\n",
       "    <tr>\n",
       "      <th>IBM</th>\n",
       "      <td>162.800003</td>\n",
       "      <td>158.699997</td>\n",
       "      <td>159.690002</td>\n",
       "      <td>162.039993</td>\n",
       "      <td>3465700.0</td>\n",
       "      <td>136.210587</td>\n",
       "    </tr>\n",
       "  </tbody>\n",
       "</table>\n",
       "</div>"
      ],
      "text/plain": [
       "            High         Low        Open       Close      Volume   Adj Close\n",
       "C      51.959999   50.980000   51.160000   51.619999  13250800.0   48.844131\n",
       "AAPL  127.510002  124.330002  124.470001  127.349998  37194000.0  118.729012\n",
       "CSCO   27.320000   26.840000   26.959999   27.219999  20004000.0   23.926491\n",
       "MSFT   41.779999   40.180000   40.340000   41.549999  39223700.0   37.960690\n",
       "IBM   162.800003  158.699997  159.690002  162.039993   3465700.0  136.210587"
      ]
     },
     "execution_count": 100,
     "metadata": {},
     "output_type": "execute_result"
    }
   ],
   "source": [
    "### EXTRACT A SINGLE ELEMENT OF THE MIDDLE DIMENSION\n",
    "\n",
    "panel.ix[:,'2015-04-06',:]"
   ]
  },
  {
   "cell_type": "markdown",
   "metadata": {
    "slideshow": {
     "slide_type": "slide"
    }
   },
   "source": [
    "## Reading Data from Files"
   ]
  },
  {
   "cell_type": "code",
   "execution_count": 101,
   "metadata": {
    "slideshow": {
     "slide_type": "fragment"
    }
   },
   "outputs": [],
   "source": [
    "import pandas as pd\n",
    "data = pd.read_csv(\"Data/markowitzdata.txt\",sep='\\t')"
   ]
  },
  {
   "cell_type": "code",
   "execution_count": 102,
   "metadata": {
    "slideshow": {
     "slide_type": "fragment"
    }
   },
   "outputs": [
    {
     "data": {
      "text/html": [
       "<div>\n",
       "<style scoped>\n",
       "    .dataframe tbody tr th:only-of-type {\n",
       "        vertical-align: middle;\n",
       "    }\n",
       "\n",
       "    .dataframe tbody tr th {\n",
       "        vertical-align: top;\n",
       "    }\n",
       "\n",
       "    .dataframe thead th {\n",
       "        text-align: right;\n",
       "    }\n",
       "</style>\n",
       "<table border=\"1\" class=\"dataframe\">\n",
       "  <thead>\n",
       "    <tr style=\"text-align: right;\">\n",
       "      <th></th>\n",
       "      <th>DATE</th>\n",
       "      <th>SUNW</th>\n",
       "      <th>MSFT</th>\n",
       "      <th>IBM</th>\n",
       "      <th>CSCO</th>\n",
       "      <th>AMZN</th>\n",
       "      <th>mktrf</th>\n",
       "      <th>smb</th>\n",
       "      <th>hml</th>\n",
       "      <th>rf</th>\n",
       "    </tr>\n",
       "  </thead>\n",
       "  <tbody>\n",
       "    <tr>\n",
       "      <th>0</th>\n",
       "      <td>20010102</td>\n",
       "      <td>-0.087444</td>\n",
       "      <td>0.000000</td>\n",
       "      <td>-0.002206</td>\n",
       "      <td>-0.129085</td>\n",
       "      <td>-0.108434</td>\n",
       "      <td>-0.0345</td>\n",
       "      <td>-0.0037</td>\n",
       "      <td>0.0209</td>\n",
       "      <td>0.00026</td>\n",
       "    </tr>\n",
       "    <tr>\n",
       "      <th>1</th>\n",
       "      <td>20010103</td>\n",
       "      <td>0.297297</td>\n",
       "      <td>0.105187</td>\n",
       "      <td>0.115696</td>\n",
       "      <td>0.240150</td>\n",
       "      <td>0.265766</td>\n",
       "      <td>0.0527</td>\n",
       "      <td>0.0097</td>\n",
       "      <td>-0.0493</td>\n",
       "      <td>0.00026</td>\n",
       "    </tr>\n",
       "    <tr>\n",
       "      <th>2</th>\n",
       "      <td>20010104</td>\n",
       "      <td>-0.060606</td>\n",
       "      <td>0.010430</td>\n",
       "      <td>-0.015192</td>\n",
       "      <td>0.013616</td>\n",
       "      <td>-0.117438</td>\n",
       "      <td>-0.0121</td>\n",
       "      <td>0.0083</td>\n",
       "      <td>-0.0015</td>\n",
       "      <td>0.00026</td>\n",
       "    </tr>\n",
       "    <tr>\n",
       "      <th>3</th>\n",
       "      <td>20010105</td>\n",
       "      <td>-0.096774</td>\n",
       "      <td>0.014194</td>\n",
       "      <td>0.008719</td>\n",
       "      <td>-0.125373</td>\n",
       "      <td>-0.060484</td>\n",
       "      <td>-0.0291</td>\n",
       "      <td>0.0027</td>\n",
       "      <td>0.0242</td>\n",
       "      <td>0.00026</td>\n",
       "    </tr>\n",
       "    <tr>\n",
       "      <th>4</th>\n",
       "      <td>20010108</td>\n",
       "      <td>0.006696</td>\n",
       "      <td>-0.003817</td>\n",
       "      <td>-0.004654</td>\n",
       "      <td>-0.002133</td>\n",
       "      <td>0.025751</td>\n",
       "      <td>-0.0037</td>\n",
       "      <td>-0.0053</td>\n",
       "      <td>0.0129</td>\n",
       "      <td>0.00026</td>\n",
       "    </tr>\n",
       "  </tbody>\n",
       "</table>\n",
       "</div>"
      ],
      "text/plain": [
       "       DATE      SUNW      MSFT       IBM      CSCO      AMZN   mktrf     smb  \\\n",
       "0  20010102 -0.087444  0.000000 -0.002206 -0.129085 -0.108434 -0.0345 -0.0037   \n",
       "1  20010103  0.297297  0.105187  0.115696  0.240150  0.265766  0.0527  0.0097   \n",
       "2  20010104 -0.060606  0.010430 -0.015192  0.013616 -0.117438 -0.0121  0.0083   \n",
       "3  20010105 -0.096774  0.014194  0.008719 -0.125373 -0.060484 -0.0291  0.0027   \n",
       "4  20010108  0.006696 -0.003817 -0.004654 -0.002133  0.025751 -0.0037 -0.0053   \n",
       "\n",
       "      hml       rf  \n",
       "0  0.0209  0.00026  \n",
       "1 -0.0493  0.00026  \n",
       "2 -0.0015  0.00026  \n",
       "3  0.0242  0.00026  \n",
       "4  0.0129  0.00026  "
      ]
     },
     "execution_count": 102,
     "metadata": {},
     "output_type": "execute_result"
    }
   ],
   "source": [
    "data.head()"
   ]
  },
  {
   "cell_type": "code",
   "execution_count": 103,
   "metadata": {
    "slideshow": {
     "slide_type": "slide"
    }
   },
   "outputs": [],
   "source": [
    "### ANOTHER EXAMPLE\n",
    "\n",
    "gdata = pd.read_csv(\"Data/goog.csv\")"
   ]
  },
  {
   "cell_type": "code",
   "execution_count": 104,
   "metadata": {
    "slideshow": {
     "slide_type": "fragment"
    }
   },
   "outputs": [
    {
     "data": {
      "text/html": [
       "<div>\n",
       "<style scoped>\n",
       "    .dataframe tbody tr th:only-of-type {\n",
       "        vertical-align: middle;\n",
       "    }\n",
       "\n",
       "    .dataframe tbody tr th {\n",
       "        vertical-align: top;\n",
       "    }\n",
       "\n",
       "    .dataframe thead th {\n",
       "        text-align: right;\n",
       "    }\n",
       "</style>\n",
       "<table border=\"1\" class=\"dataframe\">\n",
       "  <thead>\n",
       "    <tr style=\"text-align: right;\">\n",
       "      <th></th>\n",
       "      <th>Date</th>\n",
       "      <th>Open</th>\n",
       "      <th>High</th>\n",
       "      <th>Low</th>\n",
       "      <th>Close</th>\n",
       "      <th>Volume</th>\n",
       "      <th>Adj Close</th>\n",
       "    </tr>\n",
       "  </thead>\n",
       "  <tbody>\n",
       "    <tr>\n",
       "      <th>0</th>\n",
       "      <td>2011-04-06</td>\n",
       "      <td>572.18</td>\n",
       "      <td>575.16</td>\n",
       "      <td>568.00</td>\n",
       "      <td>574.18</td>\n",
       "      <td>2668300</td>\n",
       "      <td>574.18</td>\n",
       "    </tr>\n",
       "    <tr>\n",
       "      <th>1</th>\n",
       "      <td>2011-04-05</td>\n",
       "      <td>581.08</td>\n",
       "      <td>581.49</td>\n",
       "      <td>565.68</td>\n",
       "      <td>569.09</td>\n",
       "      <td>6047500</td>\n",
       "      <td>569.09</td>\n",
       "    </tr>\n",
       "    <tr>\n",
       "      <th>2</th>\n",
       "      <td>2011-04-04</td>\n",
       "      <td>593.00</td>\n",
       "      <td>594.74</td>\n",
       "      <td>583.10</td>\n",
       "      <td>587.68</td>\n",
       "      <td>2054500</td>\n",
       "      <td>587.68</td>\n",
       "    </tr>\n",
       "    <tr>\n",
       "      <th>3</th>\n",
       "      <td>2011-04-01</td>\n",
       "      <td>588.76</td>\n",
       "      <td>595.19</td>\n",
       "      <td>588.76</td>\n",
       "      <td>591.80</td>\n",
       "      <td>2613200</td>\n",
       "      <td>591.80</td>\n",
       "    </tr>\n",
       "    <tr>\n",
       "      <th>4</th>\n",
       "      <td>2011-03-31</td>\n",
       "      <td>583.00</td>\n",
       "      <td>588.16</td>\n",
       "      <td>581.74</td>\n",
       "      <td>586.76</td>\n",
       "      <td>2029400</td>\n",
       "      <td>586.76</td>\n",
       "    </tr>\n",
       "  </tbody>\n",
       "</table>\n",
       "</div>"
      ],
      "text/plain": [
       "         Date    Open    High     Low   Close   Volume  Adj Close\n",
       "0  2011-04-06  572.18  575.16  568.00  574.18  2668300     574.18\n",
       "1  2011-04-05  581.08  581.49  565.68  569.09  6047500     569.09\n",
       "2  2011-04-04  593.00  594.74  583.10  587.68  2054500     587.68\n",
       "3  2011-04-01  588.76  595.19  588.76  591.80  2613200     591.80\n",
       "4  2011-03-31  583.00  588.16  581.74  586.76  2029400     586.76"
      ]
     },
     "execution_count": 104,
     "metadata": {},
     "output_type": "execute_result"
    }
   ],
   "source": [
    "gdata.head()"
   ]
  },
  {
   "cell_type": "code",
   "execution_count": 105,
   "metadata": {
    "slideshow": {
     "slide_type": "slide"
    }
   },
   "outputs": [
    {
     "data": {
      "image/png": "[encoded data removed]",
      "text/plain": [
       "<Figure size 1080x360 with 1 Axes>"
      ]
     },
     "metadata": {
      "needs_background": "light"
     },
     "output_type": "display_data"
    }
   ],
   "source": [
    "### HOW IS STOCK RETURN RELATED TO THAT OF THE MARKET?\n",
    "\n",
    "scatter(data[\"mktrf\"],data[\"IBM\"])\n",
    "xlabel(\"Market return\")\n",
    "ylabel(\"IBM return\")\n",
    "grid(True)"
   ]
  },
  {
   "cell_type": "code",
   "execution_count": 106,
   "metadata": {
    "slideshow": {
     "slide_type": "slide"
    }
   },
   "outputs": [
    {
     "name": "stdout",
     "output_type": "stream",
     "text": [
      "Intercept =  0.00011890050764975851\n",
      "slope (beta) =  1.1091524051108548\n"
     ]
    }
   ],
   "source": [
    "### RUN A REGRESSION AND EXTRACT THE COEFFICIENTS\n",
    "\n",
    "from scipy import stats\n",
    "y = data[\"IBM\"]\n",
    "x = data[\"mktrf\"]\n",
    "b, a, r_value, p_value, std_err = stats.linregress(x,y)\n",
    "print(\"Intercept = \",a)\n",
    "print(\"slope (beta) = \",b)"
   ]
  },
  {
   "cell_type": "markdown",
   "metadata": {
    "slideshow": {
     "slide_type": "slide"
    }
   },
   "source": [
    "## Bringing it all together"
   ]
  },
  {
   "cell_type": "code",
   "execution_count": 107,
   "metadata": {
    "slideshow": {
     "slide_type": "fragment"
    }
   },
   "outputs": [
    {
     "data": {
      "text/html": [
       "<div>\n",
       "<style scoped>\n",
       "    .dataframe tbody tr th:only-of-type {\n",
       "        vertical-align: middle;\n",
       "    }\n",
       "\n",
       "    .dataframe tbody tr th {\n",
       "        vertical-align: top;\n",
       "    }\n",
       "\n",
       "    .dataframe thead th {\n",
       "        text-align: right;\n",
       "    }\n",
       "</style>\n",
       "<table border=\"1\" class=\"dataframe\">\n",
       "  <thead>\n",
       "    <tr style=\"text-align: right;\">\n",
       "      <th></th>\n",
       "      <th>High</th>\n",
       "      <th>Low</th>\n",
       "      <th>Open</th>\n",
       "      <th>Close</th>\n",
       "      <th>Volume</th>\n",
       "      <th>Adj Close</th>\n",
       "    </tr>\n",
       "    <tr>\n",
       "      <th>Date</th>\n",
       "      <th></th>\n",
       "      <th></th>\n",
       "      <th></th>\n",
       "      <th></th>\n",
       "      <th></th>\n",
       "      <th></th>\n",
       "    </tr>\n",
       "  </thead>\n",
       "  <tbody>\n",
       "    <tr>\n",
       "      <th>2015-01-02</th>\n",
       "      <td>111.440002</td>\n",
       "      <td>107.349998</td>\n",
       "      <td>111.389999</td>\n",
       "      <td>109.330002</td>\n",
       "      <td>53204600.0</td>\n",
       "      <td>101.528191</td>\n",
       "    </tr>\n",
       "    <tr>\n",
       "      <th>2015-01-05</th>\n",
       "      <td>108.650002</td>\n",
       "      <td>105.410004</td>\n",
       "      <td>108.290001</td>\n",
       "      <td>106.250000</td>\n",
       "      <td>64285500.0</td>\n",
       "      <td>98.667984</td>\n",
       "    </tr>\n",
       "    <tr>\n",
       "      <th>2015-01-06</th>\n",
       "      <td>107.430000</td>\n",
       "      <td>104.629997</td>\n",
       "      <td>106.540001</td>\n",
       "      <td>106.260002</td>\n",
       "      <td>65797100.0</td>\n",
       "      <td>98.677261</td>\n",
       "    </tr>\n",
       "    <tr>\n",
       "      <th>2015-01-07</th>\n",
       "      <td>108.199997</td>\n",
       "      <td>106.699997</td>\n",
       "      <td>107.199997</td>\n",
       "      <td>107.750000</td>\n",
       "      <td>40105900.0</td>\n",
       "      <td>100.060936</td>\n",
       "    </tr>\n",
       "    <tr>\n",
       "      <th>2015-01-08</th>\n",
       "      <td>112.150002</td>\n",
       "      <td>108.699997</td>\n",
       "      <td>109.230003</td>\n",
       "      <td>111.889999</td>\n",
       "      <td>59364500.0</td>\n",
       "      <td>103.905510</td>\n",
       "    </tr>\n",
       "  </tbody>\n",
       "</table>\n",
       "</div>"
      ],
      "text/plain": [
       "                  High         Low        Open       Close      Volume  \\\n",
       "Date                                                                     \n",
       "2015-01-02  111.440002  107.349998  111.389999  109.330002  53204600.0   \n",
       "2015-01-05  108.650002  105.410004  108.290001  106.250000  64285500.0   \n",
       "2015-01-06  107.430000  104.629997  106.540001  106.260002  65797100.0   \n",
       "2015-01-07  108.199997  106.699997  107.199997  107.750000  40105900.0   \n",
       "2015-01-08  112.150002  108.699997  109.230003  111.889999  59364500.0   \n",
       "\n",
       "             Adj Close  \n",
       "Date                    \n",
       "2015-01-02  101.528191  \n",
       "2015-01-05   98.667984  \n",
       "2015-01-06   98.677261  \n",
       "2015-01-07  100.060936  \n",
       "2015-01-08  103.905510  "
      ]
     },
     "execution_count": 107,
     "metadata": {},
     "output_type": "execute_result"
    }
   ],
   "source": [
    "import pandas as pd\n",
    "import pandas_datareader.data as web\n",
    "aapl = web.DataReader('AAPL',data_source='yahoo',start='1/1/2015',end='12/31/2018')\n",
    "aapl.head()"
   ]
  },
  {
   "cell_type": "code",
   "execution_count": 108,
   "metadata": {
    "slideshow": {
     "slide_type": "fragment"
    }
   },
   "outputs": [
    {
     "data": {
      "text/html": [
       "<div>\n",
       "<style scoped>\n",
       "    .dataframe tbody tr th:only-of-type {\n",
       "        vertical-align: middle;\n",
       "    }\n",
       "\n",
       "    .dataframe tbody tr th {\n",
       "        vertical-align: top;\n",
       "    }\n",
       "\n",
       "    .dataframe thead th {\n",
       "        text-align: right;\n",
       "    }\n",
       "</style>\n",
       "<table border=\"1\" class=\"dataframe\">\n",
       "  <thead>\n",
       "    <tr style=\"text-align: right;\">\n",
       "      <th></th>\n",
       "      <th>High</th>\n",
       "      <th>Low</th>\n",
       "      <th>Open</th>\n",
       "      <th>Close</th>\n",
       "      <th>Volume</th>\n",
       "      <th>Adj Close</th>\n",
       "    </tr>\n",
       "    <tr>\n",
       "      <th>Date</th>\n",
       "      <th></th>\n",
       "      <th></th>\n",
       "      <th></th>\n",
       "      <th></th>\n",
       "      <th></th>\n",
       "      <th></th>\n",
       "    </tr>\n",
       "  </thead>\n",
       "  <tbody>\n",
       "    <tr>\n",
       "      <th>2018-12-24</th>\n",
       "      <td>151.550003</td>\n",
       "      <td>146.589996</td>\n",
       "      <td>148.149994</td>\n",
       "      <td>146.830002</td>\n",
       "      <td>37169200.0</td>\n",
       "      <td>146.202972</td>\n",
       "    </tr>\n",
       "    <tr>\n",
       "      <th>2018-12-26</th>\n",
       "      <td>157.229996</td>\n",
       "      <td>146.720001</td>\n",
       "      <td>148.300003</td>\n",
       "      <td>157.169998</td>\n",
       "      <td>58582500.0</td>\n",
       "      <td>156.498810</td>\n",
       "    </tr>\n",
       "    <tr>\n",
       "      <th>2018-12-27</th>\n",
       "      <td>156.770004</td>\n",
       "      <td>150.070007</td>\n",
       "      <td>155.839996</td>\n",
       "      <td>156.149994</td>\n",
       "      <td>53117100.0</td>\n",
       "      <td>155.483154</td>\n",
       "    </tr>\n",
       "    <tr>\n",
       "      <th>2018-12-28</th>\n",
       "      <td>158.520004</td>\n",
       "      <td>154.550003</td>\n",
       "      <td>157.500000</td>\n",
       "      <td>156.229996</td>\n",
       "      <td>42291400.0</td>\n",
       "      <td>155.562820</td>\n",
       "    </tr>\n",
       "    <tr>\n",
       "      <th>2018-12-31</th>\n",
       "      <td>159.360001</td>\n",
       "      <td>156.479996</td>\n",
       "      <td>158.529999</td>\n",
       "      <td>157.740005</td>\n",
       "      <td>35003500.0</td>\n",
       "      <td>157.066376</td>\n",
       "    </tr>\n",
       "  </tbody>\n",
       "</table>\n",
       "</div>"
      ],
      "text/plain": [
       "                  High         Low        Open       Close      Volume  \\\n",
       "Date                                                                     \n",
       "2018-12-24  151.550003  146.589996  148.149994  146.830002  37169200.0   \n",
       "2018-12-26  157.229996  146.720001  148.300003  157.169998  58582500.0   \n",
       "2018-12-27  156.770004  150.070007  155.839996  156.149994  53117100.0   \n",
       "2018-12-28  158.520004  154.550003  157.500000  156.229996  42291400.0   \n",
       "2018-12-31  159.360001  156.479996  158.529999  157.740005  35003500.0   \n",
       "\n",
       "             Adj Close  \n",
       "Date                    \n",
       "2018-12-24  146.202972  \n",
       "2018-12-26  156.498810  \n",
       "2018-12-27  155.483154  \n",
       "2018-12-28  155.562820  \n",
       "2018-12-31  157.066376  "
      ]
     },
     "execution_count": 108,
     "metadata": {},
     "output_type": "execute_result"
    }
   ],
   "source": [
    "aapl.tail()"
   ]
  },
  {
   "cell_type": "markdown",
   "metadata": {
    "slideshow": {
     "slide_type": "slide"
    }
   },
   "source": [
    "## Returns and Volatility"
   ]
  },
  {
   "cell_type": "code",
   "execution_count": 109,
   "metadata": {
    "slideshow": {
     "slide_type": "fragment"
    }
   },
   "outputs": [
    {
     "data": {
      "text/html": [
       "<div>\n",
       "<style scoped>\n",
       "    .dataframe tbody tr th:only-of-type {\n",
       "        vertical-align: middle;\n",
       "    }\n",
       "\n",
       "    .dataframe tbody tr th {\n",
       "        vertical-align: top;\n",
       "    }\n",
       "\n",
       "    .dataframe thead th {\n",
       "        text-align: right;\n",
       "    }\n",
       "</style>\n",
       "<table border=\"1\" class=\"dataframe\">\n",
       "  <thead>\n",
       "    <tr style=\"text-align: right;\">\n",
       "      <th></th>\n",
       "      <th>High</th>\n",
       "      <th>Low</th>\n",
       "      <th>Open</th>\n",
       "      <th>Close</th>\n",
       "      <th>Volume</th>\n",
       "      <th>Adj Close</th>\n",
       "      <th>cont_ret</th>\n",
       "    </tr>\n",
       "    <tr>\n",
       "      <th>Date</th>\n",
       "      <th></th>\n",
       "      <th></th>\n",
       "      <th></th>\n",
       "      <th></th>\n",
       "      <th></th>\n",
       "      <th></th>\n",
       "      <th></th>\n",
       "    </tr>\n",
       "  </thead>\n",
       "  <tbody>\n",
       "    <tr>\n",
       "      <th>2015-01-02</th>\n",
       "      <td>111.440002</td>\n",
       "      <td>107.349998</td>\n",
       "      <td>111.389999</td>\n",
       "      <td>109.330002</td>\n",
       "      <td>53204600.0</td>\n",
       "      <td>101.528191</td>\n",
       "      <td>NaN</td>\n",
       "    </tr>\n",
       "    <tr>\n",
       "      <th>2015-01-05</th>\n",
       "      <td>108.650002</td>\n",
       "      <td>105.410004</td>\n",
       "      <td>108.290001</td>\n",
       "      <td>106.250000</td>\n",
       "      <td>64285500.0</td>\n",
       "      <td>98.667984</td>\n",
       "      <td>-0.028576</td>\n",
       "    </tr>\n",
       "    <tr>\n",
       "      <th>2015-01-06</th>\n",
       "      <td>107.430000</td>\n",
       "      <td>104.629997</td>\n",
       "      <td>106.540001</td>\n",
       "      <td>106.260002</td>\n",
       "      <td>65797100.0</td>\n",
       "      <td>98.677261</td>\n",
       "      <td>0.000094</td>\n",
       "    </tr>\n",
       "    <tr>\n",
       "      <th>2015-01-07</th>\n",
       "      <td>108.199997</td>\n",
       "      <td>106.699997</td>\n",
       "      <td>107.199997</td>\n",
       "      <td>107.750000</td>\n",
       "      <td>40105900.0</td>\n",
       "      <td>100.060936</td>\n",
       "      <td>0.013925</td>\n",
       "    </tr>\n",
       "    <tr>\n",
       "      <th>2015-01-08</th>\n",
       "      <td>112.150002</td>\n",
       "      <td>108.699997</td>\n",
       "      <td>109.230003</td>\n",
       "      <td>111.889999</td>\n",
       "      <td>59364500.0</td>\n",
       "      <td>103.905510</td>\n",
       "      <td>0.037703</td>\n",
       "    </tr>\n",
       "  </tbody>\n",
       "</table>\n",
       "</div>"
      ],
      "text/plain": [
       "                  High         Low        Open       Close      Volume  \\\n",
       "Date                                                                     \n",
       "2015-01-02  111.440002  107.349998  111.389999  109.330002  53204600.0   \n",
       "2015-01-05  108.650002  105.410004  108.290001  106.250000  64285500.0   \n",
       "2015-01-06  107.430000  104.629997  106.540001  106.260002  65797100.0   \n",
       "2015-01-07  108.199997  106.699997  107.199997  107.750000  40105900.0   \n",
       "2015-01-08  112.150002  108.699997  109.230003  111.889999  59364500.0   \n",
       "\n",
       "             Adj Close  cont_ret  \n",
       "Date                              \n",
       "2015-01-02  101.528191       NaN  \n",
       "2015-01-05   98.667984 -0.028576  \n",
       "2015-01-06   98.677261  0.000094  \n",
       "2015-01-07  100.060936  0.013925  \n",
       "2015-01-08  103.905510  0.037703  "
      ]
     },
     "execution_count": 109,
     "metadata": {},
     "output_type": "execute_result"
    }
   ],
   "source": [
    "aapl['cont_ret'] = log(aapl['Close']/aapl['Close'].shift(1))\n",
    "aapl.head()"
   ]
  },
  {
   "cell_type": "code",
   "execution_count": 110,
   "metadata": {
    "slideshow": {
     "slide_type": "fragment"
    }
   },
   "outputs": [
    {
     "data": {
      "text/html": [
       "<div>\n",
       "<style scoped>\n",
       "    .dataframe tbody tr th:only-of-type {\n",
       "        vertical-align: middle;\n",
       "    }\n",
       "\n",
       "    .dataframe tbody tr th {\n",
       "        vertical-align: top;\n",
       "    }\n",
       "\n",
       "    .dataframe thead th {\n",
       "        text-align: right;\n",
       "    }\n",
       "</style>\n",
       "<table border=\"1\" class=\"dataframe\">\n",
       "  <thead>\n",
       "    <tr style=\"text-align: right;\">\n",
       "      <th></th>\n",
       "      <th>High</th>\n",
       "      <th>Low</th>\n",
       "      <th>Open</th>\n",
       "      <th>Close</th>\n",
       "      <th>Volume</th>\n",
       "      <th>Adj Close</th>\n",
       "      <th>cont_ret</th>\n",
       "      <th>Vols</th>\n",
       "    </tr>\n",
       "    <tr>\n",
       "      <th>Date</th>\n",
       "      <th></th>\n",
       "      <th></th>\n",
       "      <th></th>\n",
       "      <th></th>\n",
       "      <th></th>\n",
       "      <th></th>\n",
       "      <th></th>\n",
       "      <th></th>\n",
       "    </tr>\n",
       "  </thead>\n",
       "  <tbody>\n",
       "    <tr>\n",
       "      <th>2018-12-24</th>\n",
       "      <td>151.550003</td>\n",
       "      <td>146.589996</td>\n",
       "      <td>148.149994</td>\n",
       "      <td>146.830002</td>\n",
       "      <td>37169200.0</td>\n",
       "      <td>146.202972</td>\n",
       "      <td>-0.026215</td>\n",
       "      <td>0.322923</td>\n",
       "    </tr>\n",
       "    <tr>\n",
       "      <th>2018-12-26</th>\n",
       "      <td>157.229996</td>\n",
       "      <td>146.720001</td>\n",
       "      <td>148.300003</td>\n",
       "      <td>157.169998</td>\n",
       "      <td>58582500.0</td>\n",
       "      <td>156.498810</td>\n",
       "      <td>0.068053</td>\n",
       "      <td>0.707389</td>\n",
       "    </tr>\n",
       "    <tr>\n",
       "      <th>2018-12-27</th>\n",
       "      <td>156.770004</td>\n",
       "      <td>150.070007</td>\n",
       "      <td>155.839996</td>\n",
       "      <td>156.149994</td>\n",
       "      <td>53117100.0</td>\n",
       "      <td>155.483154</td>\n",
       "      <td>-0.006511</td>\n",
       "      <td>0.683205</td>\n",
       "    </tr>\n",
       "    <tr>\n",
       "      <th>2018-12-28</th>\n",
       "      <td>158.520004</td>\n",
       "      <td>154.550003</td>\n",
       "      <td>157.500000</td>\n",
       "      <td>156.229996</td>\n",
       "      <td>42291400.0</td>\n",
       "      <td>155.562820</td>\n",
       "      <td>0.000512</td>\n",
       "      <td>0.660843</td>\n",
       "    </tr>\n",
       "    <tr>\n",
       "      <th>2018-12-31</th>\n",
       "      <td>159.360001</td>\n",
       "      <td>156.479996</td>\n",
       "      <td>158.529999</td>\n",
       "      <td>157.740005</td>\n",
       "      <td>35003500.0</td>\n",
       "      <td>157.066376</td>\n",
       "      <td>0.009619</td>\n",
       "      <td>0.563503</td>\n",
       "    </tr>\n",
       "  </tbody>\n",
       "</table>\n",
       "</div>"
      ],
      "text/plain": [
       "                  High         Low        Open       Close      Volume  \\\n",
       "Date                                                                     \n",
       "2018-12-24  151.550003  146.589996  148.149994  146.830002  37169200.0   \n",
       "2018-12-26  157.229996  146.720001  148.300003  157.169998  58582500.0   \n",
       "2018-12-27  156.770004  150.070007  155.839996  156.149994  53117100.0   \n",
       "2018-12-28  158.520004  154.550003  157.500000  156.229996  42291400.0   \n",
       "2018-12-31  159.360001  156.479996  158.529999  157.740005  35003500.0   \n",
       "\n",
       "             Adj Close  cont_ret      Vols  \n",
       "Date                                        \n",
       "2018-12-24  146.202972 -0.026215  0.322923  \n",
       "2018-12-26  156.498810  0.068053  0.707389  \n",
       "2018-12-27  155.483154 -0.006511  0.683205  \n",
       "2018-12-28  155.562820  0.000512  0.660843  \n",
       "2018-12-31  157.066376  0.009619  0.563503  "
      ]
     },
     "execution_count": 110,
     "metadata": {},
     "output_type": "execute_result"
    }
   ],
   "source": [
    "aapl['Vols'] = pd.Series.rolling(aapl['cont_ret'],window=5).std()*sqrt(252.0)\n",
    "\n",
    "aapl.tail()"
   ]
  },
  {
   "cell_type": "code",
   "execution_count": 111,
   "metadata": {
    "slideshow": {
     "slide_type": "slide"
    }
   },
   "outputs": [
    {
     "data": {
      "text/html": [
       "<div>\n",
       "<style scoped>\n",
       "    .dataframe tbody tr th:only-of-type {\n",
       "        vertical-align: middle;\n",
       "    }\n",
       "\n",
       "    .dataframe tbody tr th {\n",
       "        vertical-align: top;\n",
       "    }\n",
       "\n",
       "    .dataframe thead th {\n",
       "        text-align: right;\n",
       "    }\n",
       "</style>\n",
       "<table border=\"1\" class=\"dataframe\">\n",
       "  <thead>\n",
       "    <tr style=\"text-align: right;\">\n",
       "      <th></th>\n",
       "      <th>High</th>\n",
       "      <th>Low</th>\n",
       "      <th>Open</th>\n",
       "      <th>Close</th>\n",
       "      <th>Volume</th>\n",
       "      <th>Adj Close</th>\n",
       "      <th>cont_ret</th>\n",
       "      <th>Vols</th>\n",
       "    </tr>\n",
       "    <tr>\n",
       "      <th>Date</th>\n",
       "      <th></th>\n",
       "      <th></th>\n",
       "      <th></th>\n",
       "      <th></th>\n",
       "      <th></th>\n",
       "      <th></th>\n",
       "      <th></th>\n",
       "      <th></th>\n",
       "    </tr>\n",
       "  </thead>\n",
       "  <tbody>\n",
       "    <tr>\n",
       "      <th>2015-01-02</th>\n",
       "      <td>111.440002</td>\n",
       "      <td>107.349998</td>\n",
       "      <td>111.389999</td>\n",
       "      <td>109.330002</td>\n",
       "      <td>53204600.0</td>\n",
       "      <td>101.528191</td>\n",
       "      <td>NaN</td>\n",
       "      <td>NaN</td>\n",
       "    </tr>\n",
       "    <tr>\n",
       "      <th>2015-01-05</th>\n",
       "      <td>108.650002</td>\n",
       "      <td>105.410004</td>\n",
       "      <td>108.290001</td>\n",
       "      <td>106.250000</td>\n",
       "      <td>64285500.0</td>\n",
       "      <td>98.667984</td>\n",
       "      <td>-0.028576</td>\n",
       "      <td>NaN</td>\n",
       "    </tr>\n",
       "    <tr>\n",
       "      <th>2015-01-06</th>\n",
       "      <td>107.430000</td>\n",
       "      <td>104.629997</td>\n",
       "      <td>106.540001</td>\n",
       "      <td>106.260002</td>\n",
       "      <td>65797100.0</td>\n",
       "      <td>98.677261</td>\n",
       "      <td>0.000094</td>\n",
       "      <td>NaN</td>\n",
       "    </tr>\n",
       "    <tr>\n",
       "      <th>2015-01-07</th>\n",
       "      <td>108.199997</td>\n",
       "      <td>106.699997</td>\n",
       "      <td>107.199997</td>\n",
       "      <td>107.750000</td>\n",
       "      <td>40105900.0</td>\n",
       "      <td>100.060936</td>\n",
       "      <td>0.013925</td>\n",
       "      <td>NaN</td>\n",
       "    </tr>\n",
       "    <tr>\n",
       "      <th>2015-01-08</th>\n",
       "      <td>112.150002</td>\n",
       "      <td>108.699997</td>\n",
       "      <td>109.230003</td>\n",
       "      <td>111.889999</td>\n",
       "      <td>59364500.0</td>\n",
       "      <td>103.905510</td>\n",
       "      <td>0.037703</td>\n",
       "      <td>NaN</td>\n",
       "    </tr>\n",
       "    <tr>\n",
       "      <th>2015-01-09</th>\n",
       "      <td>113.250000</td>\n",
       "      <td>110.209999</td>\n",
       "      <td>112.669998</td>\n",
       "      <td>112.010002</td>\n",
       "      <td>53699500.0</td>\n",
       "      <td>104.016945</td>\n",
       "      <td>0.001072</td>\n",
       "      <td>0.381965</td>\n",
       "    </tr>\n",
       "    <tr>\n",
       "      <th>2015-01-12</th>\n",
       "      <td>112.629997</td>\n",
       "      <td>108.800003</td>\n",
       "      <td>112.599998</td>\n",
       "      <td>109.250000</td>\n",
       "      <td>49650800.0</td>\n",
       "      <td>101.453903</td>\n",
       "      <td>-0.024949</td>\n",
       "      <td>0.362338</td>\n",
       "    </tr>\n",
       "    <tr>\n",
       "      <th>2015-01-13</th>\n",
       "      <td>112.800003</td>\n",
       "      <td>108.910004</td>\n",
       "      <td>111.430000</td>\n",
       "      <td>110.220001</td>\n",
       "      <td>67091900.0</td>\n",
       "      <td>102.354675</td>\n",
       "      <td>0.008840</td>\n",
       "      <td>0.359320</td>\n",
       "    </tr>\n",
       "    <tr>\n",
       "      <th>2015-01-14</th>\n",
       "      <td>110.489998</td>\n",
       "      <td>108.500000</td>\n",
       "      <td>109.040001</td>\n",
       "      <td>109.800003</td>\n",
       "      <td>48337000.0</td>\n",
       "      <td>101.964645</td>\n",
       "      <td>-0.003818</td>\n",
       "      <td>0.360841</td>\n",
       "    </tr>\n",
       "    <tr>\n",
       "      <th>2015-01-15</th>\n",
       "      <td>110.059998</td>\n",
       "      <td>106.660004</td>\n",
       "      <td>110.000000</td>\n",
       "      <td>106.820000</td>\n",
       "      <td>60014000.0</td>\n",
       "      <td>99.197289</td>\n",
       "      <td>-0.027515</td>\n",
       "      <td>0.256384</td>\n",
       "    </tr>\n",
       "  </tbody>\n",
       "</table>\n",
       "</div>"
      ],
      "text/plain": [
       "                  High         Low        Open       Close      Volume  \\\n",
       "Date                                                                     \n",
       "2015-01-02  111.440002  107.349998  111.389999  109.330002  53204600.0   \n",
       "2015-01-05  108.650002  105.410004  108.290001  106.250000  64285500.0   \n",
       "2015-01-06  107.430000  104.629997  106.540001  106.260002  65797100.0   \n",
       "2015-01-07  108.199997  106.699997  107.199997  107.750000  40105900.0   \n",
       "2015-01-08  112.150002  108.699997  109.230003  111.889999  59364500.0   \n",
       "2015-01-09  113.250000  110.209999  112.669998  112.010002  53699500.0   \n",
       "2015-01-12  112.629997  108.800003  112.599998  109.250000  49650800.0   \n",
       "2015-01-13  112.800003  108.910004  111.430000  110.220001  67091900.0   \n",
       "2015-01-14  110.489998  108.500000  109.040001  109.800003  48337000.0   \n",
       "2015-01-15  110.059998  106.660004  110.000000  106.820000  60014000.0   \n",
       "\n",
       "             Adj Close  cont_ret      Vols  \n",
       "Date                                        \n",
       "2015-01-02  101.528191       NaN       NaN  \n",
       "2015-01-05   98.667984 -0.028576       NaN  \n",
       "2015-01-06   98.677261  0.000094       NaN  \n",
       "2015-01-07  100.060936  0.013925       NaN  \n",
       "2015-01-08  103.905510  0.037703       NaN  \n",
       "2015-01-09  104.016945  0.001072  0.381965  \n",
       "2015-01-12  101.453903 -0.024949  0.362338  \n",
       "2015-01-13  102.354675  0.008840  0.359320  \n",
       "2015-01-14  101.964645 -0.003818  0.360841  \n",
       "2015-01-15   99.197289 -0.027515  0.256384  "
      ]
     },
     "execution_count": 111,
     "metadata": {},
     "output_type": "execute_result"
    }
   ],
   "source": [
    "### Note that you will lose a decent number of observations\n",
    "\n",
    "aapl.head(10)"
   ]
  },
  {
   "cell_type": "code",
   "execution_count": 112,
   "metadata": {
    "slideshow": {
     "slide_type": "slide"
    }
   },
   "outputs": [
    {
     "data": {
      "text/html": [
       "<div>\n",
       "<style scoped>\n",
       "    .dataframe tbody tr th:only-of-type {\n",
       "        vertical-align: middle;\n",
       "    }\n",
       "\n",
       "    .dataframe tbody tr th {\n",
       "        vertical-align: top;\n",
       "    }\n",
       "\n",
       "    .dataframe thead th {\n",
       "        text-align: right;\n",
       "    }\n",
       "</style>\n",
       "<table border=\"1\" class=\"dataframe\">\n",
       "  <thead>\n",
       "    <tr style=\"text-align: right;\">\n",
       "      <th></th>\n",
       "      <th>High</th>\n",
       "      <th>Low</th>\n",
       "      <th>Open</th>\n",
       "      <th>Close</th>\n",
       "      <th>Volume</th>\n",
       "      <th>Adj Close</th>\n",
       "      <th>cont_ret</th>\n",
       "      <th>Vols</th>\n",
       "    </tr>\n",
       "  </thead>\n",
       "  <tbody>\n",
       "    <tr>\n",
       "      <th>count</th>\n",
       "      <td>1006.000000</td>\n",
       "      <td>1006.000000</td>\n",
       "      <td>1006.000000</td>\n",
       "      <td>1006.000000</td>\n",
       "      <td>1.006000e+03</td>\n",
       "      <td>1006.000000</td>\n",
       "      <td>1005.000000</td>\n",
       "      <td>1001.000000</td>\n",
       "    </tr>\n",
       "    <tr>\n",
       "      <th>mean</th>\n",
       "      <td>142.210447</td>\n",
       "      <td>139.749414</td>\n",
       "      <td>140.999036</td>\n",
       "      <td>141.004990</td>\n",
       "      <td>3.786429e+07</td>\n",
       "      <td>136.471361</td>\n",
       "      <td>0.000365</td>\n",
       "      <td>0.210218</td>\n",
       "    </tr>\n",
       "    <tr>\n",
       "      <th>std</th>\n",
       "      <td>35.400655</td>\n",
       "      <td>34.749311</td>\n",
       "      <td>35.076308</td>\n",
       "      <td>35.068632</td>\n",
       "      <td>1.874185e+07</td>\n",
       "      <td>36.482452</td>\n",
       "      <td>0.015433</td>\n",
       "      <td>0.126384</td>\n",
       "    </tr>\n",
       "    <tr>\n",
       "      <th>min</th>\n",
       "      <td>91.669998</td>\n",
       "      <td>89.470001</td>\n",
       "      <td>90.000000</td>\n",
       "      <td>90.339996</td>\n",
       "      <td>1.147590e+07</td>\n",
       "      <td>86.308014</td>\n",
       "      <td>-0.068633</td>\n",
       "      <td>0.022045</td>\n",
       "    </tr>\n",
       "    <tr>\n",
       "      <th>25%</th>\n",
       "      <td>112.857502</td>\n",
       "      <td>110.619999</td>\n",
       "      <td>112.022497</td>\n",
       "      <td>112.120003</td>\n",
       "      <td>2.515898e+07</td>\n",
       "      <td>106.610012</td>\n",
       "      <td>-0.006344</td>\n",
       "      <td>0.118659</td>\n",
       "    </tr>\n",
       "    <tr>\n",
       "      <th>50%</th>\n",
       "      <td>130.535004</td>\n",
       "      <td>128.315002</td>\n",
       "      <td>129.214996</td>\n",
       "      <td>129.360001</td>\n",
       "      <td>3.329515e+07</td>\n",
       "      <td>121.228428</td>\n",
       "      <td>0.000492</td>\n",
       "      <td>0.173927</td>\n",
       "    </tr>\n",
       "    <tr>\n",
       "      <th>75%</th>\n",
       "      <td>170.410004</td>\n",
       "      <td>166.864994</td>\n",
       "      <td>169.022499</td>\n",
       "      <td>168.595005</td>\n",
       "      <td>4.579985e+07</td>\n",
       "      <td>165.861893</td>\n",
       "      <td>0.008201</td>\n",
       "      <td>0.272819</td>\n",
       "    </tr>\n",
       "    <tr>\n",
       "      <th>max</th>\n",
       "      <td>233.470001</td>\n",
       "      <td>229.779999</td>\n",
       "      <td>230.779999</td>\n",
       "      <td>232.070007</td>\n",
       "      <td>1.622063e+08</td>\n",
       "      <td>230.275482</td>\n",
       "      <td>0.068053</td>\n",
       "      <td>0.736485</td>\n",
       "    </tr>\n",
       "  </tbody>\n",
       "</table>\n",
       "</div>"
      ],
      "text/plain": [
       "              High          Low         Open        Close        Volume  \\\n",
       "count  1006.000000  1006.000000  1006.000000  1006.000000  1.006000e+03   \n",
       "mean    142.210447   139.749414   140.999036   141.004990  3.786429e+07   \n",
       "std      35.400655    34.749311    35.076308    35.068632  1.874185e+07   \n",
       "min      91.669998    89.470001    90.000000    90.339996  1.147590e+07   \n",
       "25%     112.857502   110.619999   112.022497   112.120003  2.515898e+07   \n",
       "50%     130.535004   128.315002   129.214996   129.360001  3.329515e+07   \n",
       "75%     170.410004   166.864994   169.022499   168.595005  4.579985e+07   \n",
       "max     233.470001   229.779999   230.779999   232.070007  1.622063e+08   \n",
       "\n",
       "         Adj Close     cont_ret         Vols  \n",
       "count  1006.000000  1005.000000  1001.000000  \n",
       "mean    136.471361     0.000365     0.210218  \n",
       "std      36.482452     0.015433     0.126384  \n",
       "min      86.308014    -0.068633     0.022045  \n",
       "25%     106.610012    -0.006344     0.118659  \n",
       "50%     121.228428     0.000492     0.173927  \n",
       "75%     165.861893     0.008201     0.272819  \n",
       "max     230.275482     0.068053     0.736485  "
      ]
     },
     "execution_count": 112,
     "metadata": {},
     "output_type": "execute_result"
    }
   ],
   "source": [
    "### SUMMARY STATS WORKS DESPITE MISSING VALUES\n",
    "\n",
    "aapl.describe()"
   ]
  },
  {
   "cell_type": "code",
   "execution_count": 113,
   "metadata": {
    "slideshow": {
     "slide_type": "slide"
    }
   },
   "outputs": [
    {
     "data": {
      "text/plain": [
       "array([<matplotlib.axes._subplots.AxesSubplot object at 0x12181d470>,\n",
       "       <matplotlib.axes._subplots.AxesSubplot object at 0x1a23e6b198>],\n",
       "      dtype=object)"
      ]
     },
     "execution_count": 113,
     "metadata": {},
     "output_type": "execute_result"
    },
    {
     "data": {
      "image/png": "[encoded data removed]",
      "text/plain": [
       "<Figure size 576x432 with 2 Axes>"
      ]
     },
     "metadata": {
      "needs_background": "light"
     },
     "output_type": "display_data"
    }
   ],
   "source": [
    "### PLOT PRICES AND VOLATILITIES\n",
    "\n",
    "aapl[['Close','Vols']].plot(subplots=True,\n",
    "                            color=('blue','red'),figsize=(8,6))"
   ]
  },
  {
   "cell_type": "markdown",
   "metadata": {
    "slideshow": {
     "slide_type": "slide"
    }
   },
   "source": [
    "## Diversification of a Portfolio\n",
    "\n",
    "It is useful to examine the power of using vector algebra with an application. Here we use vector and summation math to understand how diversification in stock portfolios works. Diversification occurs when we increase the number of non-perfectly correlated stocks in a portfolio, thereby reducing portfolio variance. In order to compute the variance of the portfolio we need to use the portfolio weights ${\\bf w}$ and the covariance matrix of stock returns ${\\bf R}$, denoted ${\\bf \\Sigma}$. We first write down the formula for a portfolio's return variance: \n",
    "\n",
    "\\begin{equation}\n",
    "Var({\\bf w'R}) = {\\bf w'\\Sigma w} = \\sum_{i=1}^n {\\bf w_i^2 \\sigma_i^2}\n",
    "+ \\sum_{i=1}^n \\sum_{j=1,i \\neq j}^n {\\bf w_i w_j \\sigma_{ij}}\n",
    "\\end{equation}\n",
    "\n",
    "Readers are strongly encouraged to implement this by hand for $n=2$ to convince themselves that the vector form of the expression for variance ${\\bf w'\\Sigma w}$ is the same thing as the long form on the right-hand side of the equation above. "
   ]
  },
  {
   "cell_type": "markdown",
   "metadata": {
    "slideshow": {
     "slide_type": "slide"
    }
   },
   "source": [
    "## Independent Returns\n",
    "\n",
    "If returns are independent, then the formula collapses to: \n",
    "\n",
    "\\begin{equation}\n",
    "Var(\\bf{w'R}) = \\bf{w'\\Sigma w} = \\sum_{i=1}^n {\\bf w_i^2 \\sigma_i^2}\n",
    "\\end{equation}"
   ]
  },
  {
   "cell_type": "markdown",
   "metadata": {
    "slideshow": {
     "slide_type": "slide"
    }
   },
   "source": [
    "## Correlated returns\n",
    "\n",
    "If returns are dependent, and equal amounts are invested in\n",
    "each asset ($w_i=1/n,\\;\\;\\forall i$):\n",
    "\n",
    "\\begin{eqnarray*}\n",
    "Var(\\bf{w'R}) &=&  \\frac{1}{n}\\sum_{i=1}^n \\frac{\\sigma_i^2}{n}\n",
    "+ \\frac{n-1}{n}\\sum_{i=1}^n \\sum_{j=1,i \\neq j}^n  \\frac{\\sigma_{ij}}{n(n-1)}\\\\\n",
    "&=& \\frac{1}{n} \\bar{\\sigma_i}^2 + \\frac{n-1}{n} \\bar{\\sigma_{ij}}\\\\\n",
    "&=& \\frac{1}{n} \\bar{\\sigma_i}^2 + \\left(1 - \\frac{1}{n} \\right) \\bar{\\sigma_{ij}}\n",
    "\\end{eqnarray*}"
   ]
  },
  {
   "cell_type": "markdown",
   "metadata": {
    "slideshow": {
     "slide_type": "slide"
    }
   },
   "source": [
    "## In the limit\n",
    "\n",
    "The first term is the average variance, denoted $\\bar{\\sigma_1}^2$ divided by $n$, and the second is the average covariance, denoted $\\bar{\\sigma_{ij}}$ multiplied by factor $(n-1)/n$. As $n \\rightarrow \\infty$,\n",
    "\n",
    "\\begin{equation}\n",
    "Var({\\bf w'R}) = \\bar{\\sigma_{ij}}\n",
    "\\end{equation}\n",
    "\n",
    "This produces the remarkable result that in a well diversified portfolio, the variances of each stock's return does not matter at all for portfolio risk! Further the risk of the portfolio, i.e., its variance, is nothing but the average of off-diagonal terms in the covariance matrix. "
   ]
  },
  {
   "cell_type": "markdown",
   "metadata": {
    "slideshow": {
     "slide_type": "slide"
    }
   },
   "source": [
    "## Insight from Diversification Math"
   ]
  },
  {
   "cell_type": "code",
   "execution_count": null,
   "metadata": {
    "slideshow": {
     "slide_type": "fragment"
    }
   },
   "outputs": [],
   "source": [
    "sd=0.20; cv=0.01; m=100\n",
    "n = range(1,m+1) \n",
    "sd_p = zeros(m)\n",
    "for j in n:\n",
    "    cv_mat = matrix(ones((j,j))*cv)\n",
    "    fill_diagonal(cv_mat,sd**2)\n",
    "    w = matrix(ones(j)*(1.0/j)).T\n",
    "    sd_p[j-1] = sqrt((w.T).dot(cv_mat).dot(w))"
   ]
  },
  {
   "cell_type": "code",
   "execution_count": null,
   "metadata": {
    "slideshow": {
     "slide_type": "fragment"
    }
   },
   "outputs": [],
   "source": [
    "plot(n,sd_p)\n",
    "xlabel('#stocks')\n",
    "ylabel('stddev of portfolio')\n",
    "grid()"
   ]
  },
  {
   "cell_type": "markdown",
   "metadata": {
    "slideshow": {
     "slide_type": "skip"
    }
   },
   "source": [
    "## Arithmetic vs Geometric mean returns"
   ]
  },
  {
   "cell_type": "markdown",
   "metadata": {
    "slideshow": {
     "slide_type": "skip"
    }
   },
   "source": [
    "The geometric mean is a good indicator of past performance, especially when we are interested in holding period returns. But if we are interested in expected future returns, the arithmetic mean is the relevant statistic.\n",
    "\n",
    "Suppose a stock will rise by 30% or fall by 20% with equal probability. If it did one each in consecutive years then the geometric mean return is:"
   ]
  },
  {
   "cell_type": "code",
   "execution_count": null,
   "metadata": {
    "slideshow": {
     "slide_type": "skip"
    }
   },
   "outputs": [],
   "source": [
    "g_ret = ((1+0.30)*(1-0.20))**0.5-1\n",
    "print(\"Geometric mean return = \", g_ret)"
   ]
  },
  {
   "cell_type": "code",
   "execution_count": null,
   "metadata": {
    "slideshow": {
     "slide_type": "skip"
    }
   },
   "outputs": [],
   "source": [
    "a_ret = 0.5*(0.30+(-0.20))\n",
    "print(\"Arithmetic mean return per year = \",a_ret)"
   ]
  },
  {
   "cell_type": "markdown",
   "metadata": {
    "slideshow": {
     "slide_type": "skip"
    }
   },
   "source": [
    "## Which one should you use?\n",
    "\n",
    "Which one is more realistic in predicting future expected returns over the next two years? Note that there are 4 cases to consider for outcomes, all with equal probability $1/4$. "
   ]
  },
  {
   "cell_type": "code",
   "execution_count": null,
   "metadata": {
    "slideshow": {
     "slide_type": "skip"
    }
   },
   "outputs": [],
   "source": [
    "ret = zeros(4)\n",
    "ret[0] = (1+0.3)*(1+0.3)\n",
    "ret[1] = (1+0.3)*(1-0.2)\n",
    "ret[2] = (1-0.2)*(1+0.3)\n",
    "ret[3] = (1-0.2)*(1-0.2)\n",
    "two_year_return = 0.25*sum(ret)\n",
    "print(\"Expected two year return = \", two_year_return-1)\n",
    "print(\"Expected two year return (annualized) = \", two_year_return**0.5-1)"
   ]
  },
  {
   "cell_type": "code",
   "execution_count": null,
   "metadata": {},
   "outputs": [],
   "source": []
  }
 ],
 "metadata": {
  "anaconda-cloud": {},
  "celltoolbar": "Slideshow",
  "kernelspec": {
   "display_name": "Python 3",
   "language": "python",
   "name": "python3"
  },
  "language_info": {
   "codemirror_mode": {
    "name": "ipython",
    "version": 3
   },
   "file_extension": ".py",
   "mimetype": "text/x-python",
   "name": "python",
   "nbconvert_exporter": "python",
   "pygments_lexer": "ipython3",
   "version": "3.6.7"
  }
 },
 "nbformat": 4,
 "nbformat_minor": 1
}
