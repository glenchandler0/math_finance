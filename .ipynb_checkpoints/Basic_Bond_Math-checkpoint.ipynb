{
 "cells": [
  {
   "cell_type": "markdown",
   "metadata": {
    "slideshow": {
     "slide_type": "slide"
    }
   },
   "source": [
    "## BASIC BOND MATH\n",
    "\n",
    "**Sanjiv R. Das**"
   ]
  },
  {
   "cell_type": "code",
   "execution_count": 1,
   "metadata": {
    "slideshow": {
     "slide_type": "slide"
    }
   },
   "outputs": [
    {
     "name": "stdout",
     "output_type": "stream",
     "text": [
      "Populating the interactive namespace from numpy and matplotlib\n"
     ]
    }
   ],
   "source": [
    "#INCLUDING SCIENTIFIC AND NUMERICAL COMPUTING LIBRARIES\n",
    "#Run this code to make sure that you have all the libraries at one go.\n",
    "\n",
    "%pylab inline\n",
    "import os\n",
    "from ipypublish import nb_setup"
   ]
  },
  {
   "cell_type": "markdown",
   "metadata": {
    "slideshow": {
     "slide_type": "slide"
    }
   },
   "source": [
    "### Installing R\n",
    "\n",
    "Also (if you want to try using R) install the R programming language, which is a very useful tool for Machine Learning. \n",
    "See: http://en.wikipedia.org/wiki/Machine_learning\n",
    "Get R from: http://www.r-project.org/ (download and install it). \n",
    "\n",
    "If you want to use R in IDE mode, download RStudio: http://www.rstudio.com/\n"
   ]
  },
  {
   "cell_type": "markdown",
   "metadata": {
    "slideshow": {
     "slide_type": "slide"
    }
   },
   "source": [
    "### Using R in the Jupyter Notebook\n",
    "\n",
    "In order to allow Python to interface with R, you also need to install the \"rpy2\" package from: http://rpy.sourceforge.net/\n",
    "While you do not need to use R, and can get by mostly with Python, it is also a useful language as there are heaps of finance packages in R. As you will see, we can run both within the IPython Notebook. (Indeed, these lecture notes have been prepared in the Notebook.)\n",
    "\n",
    "Installing rpy2 is easiest with \"conda install rpy2\" from the jupyter console. \n",
    "\n",
    "Particularly useful are linear algebra capabilities in Python and R. In Python the package numPy makes these facile. Also useful are graphical libraries, and in Python, these comes in the matplotlib package. "
   ]
  },
  {
   "cell_type": "markdown",
   "metadata": {
    "slideshow": {
     "slide_type": "slide"
    }
   },
   "source": [
    "### No Risk: Deterministic Models\n",
    "\n",
    "**I) No risk: cash in a bank**\n",
    "\n",
    "- Let $t$ be time in years. \n",
    "- $y(t)$: dollars in the bank at time $t$.\n",
    "- $r$: interest rate over some time period, $\\Delta t$. \n",
    "\n",
    "$$\n",
    "\\Delta y = r \\; y(t)\\; \\Delta t\n",
    "$$"
   ]
  },
  {
   "cell_type": "markdown",
   "metadata": {
    "slideshow": {
     "slide_type": "slide"
    }
   },
   "source": [
    "### Annual compounding: \n",
    "\n",
    "Let the annual rate be $r_A = 0.05 = 5\\%$. Start with $\\$100$. What is $y(1)$?\n",
    "\n",
    "$$\n",
    "y(1) = y(0) + \\Delta y = y(0)(1+r_A \\delta t) = 100 (1+0.05(1)) = 105\n",
    "$$"
   ]
  },
  {
   "cell_type": "markdown",
   "metadata": {
    "slideshow": {
     "slide_type": "slide"
    }
   },
   "source": [
    "### Quarterly compounding\n",
    "\n",
    "Let the quarterly rate be $r_Q = 0.05$. Start with $\\$100$. What is $y(1)$?\n",
    "$$\n",
    "y(1/4) = y(0)(1+r_Q (1/4)) = y(0)(1+0.05/4)\n",
    "$$"
   ]
  },
  {
   "cell_type": "markdown",
   "metadata": {
    "slideshow": {
     "slide_type": "fragment"
    }
   },
   "source": [
    "Compound again:\n",
    "\n",
    "$$\n",
    "y(2/4) = y(1/4)(1+r_Q (1/4)) = y(0)(1+0.05/4)^2\n",
    "$$"
   ]
  },
  {
   "cell_type": "markdown",
   "metadata": {
    "slideshow": {
     "slide_type": "fragment"
    }
   },
   "source": [
    "Eventually, iterating, $y(1) = y(4/4)$:\n",
    "\n",
    "$$\n",
    "y(4/4) = y(3/4)(1+r_Q (1/4)) = y(0)(1+0.05/4)^4 = 105.09\n",
    "$$"
   ]
  },
  {
   "cell_type": "markdown",
   "metadata": {
    "slideshow": {
     "slide_type": "fragment"
    }
   },
   "source": [
    "So $r_Q = 5\\%$ corresponds to an *annual yield* of $r_A = 5.09\\%$. "
   ]
  },
  {
   "cell_type": "markdown",
   "metadata": {
    "slideshow": {
     "slide_type": "slide"
    }
   },
   "source": [
    "### Compounding continuously \n",
    "\n",
    "Let the continuous rate be $r=0.05$. Start with 100. What is $y(1)$?\n",
    "\n",
    "$$ \\Delta y \\rightarrow dy, \\quad \\Delta t \\rightarrow dt $$\n",
    "\n",
    "$$ dy = ry\\; dt $$\n",
    "\n",
    "This is a Separable Differential Equation.\n"
   ]
  },
  {
   "cell_type": "markdown",
   "metadata": {
    "slideshow": {
     "slide_type": "slide"
    }
   },
   "source": [
    "### Solve the differential equation by separation of variables\n",
    "\n",
    "$$ \\int \\frac{1}{y} dy = \\int r \\; dt  $$\n",
    "\n",
    "$$ \\ln y = r \\int dt $$\n",
    "\n",
    "$$ \\ln y = rt + c $$\n",
    "\n",
    "$$ y(0) = 100 \\Longrightarrow \\ln 100 = r \\cdot 0 + c $$\n",
    "\n",
    "$$ \\ln y - \\ln 100 = rt $$\n",
    "\n",
    "$$ \\ln(y/100) = rt $$\n",
    "\n",
    "$$ y = 100 e^{rt} $$"
   ]
  },
  {
   "cell_type": "markdown",
   "metadata": {
    "slideshow": {
     "slide_type": "slide"
    }
   },
   "source": [
    "### Summary, Compounding\n",
    "\n",
    "Generally, \n",
    "\n",
    "$$  y(t) = P e^{rt} $$\n",
    "\n",
    "For our case, $y(1) = 100 e^{0.05 \\times 1} = 105.13$. So $r=5\\%$ corresponds to an annual yield of $r_A=5.13\\%$. \n",
    "\n",
    "**Notes**:\n",
    "\n",
    "1. From now on, $r$ will *always* be the continuous rate.\n",
    "2. If $r(t)$, no problem, $\\ln(y) = \\int r(t)\\; dt$.  (see HW)\n",
    "3. If we take out dollars at a continuous rate of $k$ dollars per year, then we have $\\ln(y) = \\int [r(t)-k]\\; dt$."
   ]
  },
  {
   "cell_type": "markdown",
   "metadata": {
    "slideshow": {
     "slide_type": "slide"
    }
   },
   "source": [
    "### II) Capital Gains Taxes\n",
    "\n",
    "A) Capital gains are taxed at $15\\%$ (Federal) and $9\\%$ (CA state) = $24\\%$. Let's say you put $\\$1000$ in a taxable account and use it to buy a certain cocktail umbrella company. The company's stock grows for the next 30 years at $r_u=0.08$. \n",
    "\n",
    "For the next 10 years after that, you can stay with the umbrella company where $r_u$ is still $0.08$ or switch to a cocktail monkey company where $r_m = 0.09$. Then you'll cash out and buy cocktails. Should you stay or switch?\n",
    "\n",
    "(1) Stay with umbrellas for 40 years: \n",
    "\n",
    "$$ 1000 e^{0.08 \\cdot 40} - (1000 e^{0.08 \\cdot 40} - 1000)(0.24)$$\n",
    "$$= 1000[e^{0.08 \\cdot 40}(0.76) + 0.24] = 18,885\n",
    "$$"
   ]
  },
  {
   "cell_type": "markdown",
   "metadata": {
    "slideshow": {
     "slide_type": "slide"
    }
   },
   "source": [
    "### Switch after 30 years\n",
    "\n",
    "(2) First have umbrellas for 30 years: \n",
    "\n",
    "$$\n",
    "1000[e^{0.08 \\cdot 30}(0.76) + 0.24] = 8,617\n",
    "$$\n",
    "\n",
    "Next, we can determine the $r_m$ needed to get $18,885$:\n",
    "\n",
    "$$\n",
    "8617[e^{r_m \\cdot 10}(0.76)+0.24] = 18,885\n",
    "$$\n",
    "\n",
    "Turns out that $r_m = 0.0943 > 0.09$, so don't switch. "
   ]
  },
  {
   "cell_type": "markdown",
   "metadata": {
    "slideshow": {
     "slide_type": "slide"
    }
   },
   "source": [
    "### Notes:\n",
    "\n",
    "1. In a taxable account, you lose some money every time you sell and then buy. This is an argument for buying and holding, i.e., *passive investing*. \n",
    "\n",
    "2. The HW shows you the effect of constantly selling and buying, which essentially happens in day trading, many hedge funds, and active mutual funds with high turnover ratios. "
   ]
  },
  {
   "cell_type": "markdown",
   "metadata": {
    "slideshow": {
     "slide_type": "slide"
    }
   },
   "source": [
    "### BONDS - Definitions\n",
    "\n",
    "- A standard bond is a security with a given principal and fixed periodic payments. Hence, it is called a \"**fixed-income**\" security. \n",
    "\n",
    "- A bond has a redemption or \"face\" value $F$, usually $\\$1$, $\\$100$, or $\\$1000$. This amount is known as \"par\" value. This is also called the \"principal\" of the bond. \n",
    "\n",
    "- A standard bond has periodic interest payments at annual rate $c\\%$ up to a maturity of $T$ years. These periodic payments are known as the \"coupons\" of the bond. Historically, when you bought a bond, it came with post-dated cheques for the interest payments, called \"coupons\" that you clipped and cashed every period. \n",
    "\n",
    "- In the US, bond interest payments are usually semi-annual. In Europe, payments are usually annual. "
   ]
  },
  {
   "cell_type": "markdown",
   "metadata": {
    "slideshow": {
     "slide_type": "slide"
    }
   },
   "source": [
    "### Mechanics, Notation, and Nomenclature\n",
    "\n",
    "- Coupon payments are calculated at $c\\%$ per annum using the face value of the bond. Hence, if the face value is $F=\\$100$, and the coupon is $c=6\\%$, paid semi-annually, then the periodic payment every six months is \\$3.  \n",
    "\n",
    "- At maturity, you will receive both the principal and final interest payment, i.e., \\$103 in our example. \n",
    "\n",
    "- The **internal rate of return** (IRR) of a bond is the interest rate at which the discounted cash flows of the bond equal its par value. \n",
    "\n",
    "- The **yield-to-maturity** (YTM) or $y$ for a given maturity $T$ is the IRR of a freshly issued bond of maturity $T$. This is also known as the market rate of interest, or yield.  \n",
    "\n",
    "- The **present value** (PV) of a bond's cash flows discounted at the market rate of interest applicable to the bond is also known as its **price** or **value**. "
   ]
  },
  {
   "cell_type": "markdown",
   "metadata": {
    "slideshow": {
     "slide_type": "slide"
    }
   },
   "source": [
    "### Example\n",
    "\n",
    "Bond features: \n",
    "\n",
    "$$ T=5$, $c=7\\%=0.07$, $y=6\\% $$\n",
    "\n",
    "Semi-annual basis. Face value = \\$1.\n",
    "\n",
    "The price or present value is:\n",
    "$$ P = \\sum_{j=1}^{10} \\frac{c/2}{(1+y/2)^j} + \\frac{1}{(1+y/2)^{10}} = 1.042651 $$\n",
    "\n",
    "as computed below."
   ]
  },
  {
   "cell_type": "code",
   "execution_count": 2,
   "metadata": {
    "slideshow": {
     "slide_type": "slide"
    }
   },
   "outputs": [
    {
     "name": "stdout",
     "output_type": "stream",
     "text": [
      "[ 1.  2.  3.  4.  5.  6.  7.  8.  9. 10.]\n"
     ]
    }
   ],
   "source": [
    "#WHEN THE YIELD IS LESS THAN THE COUPON\n",
    "\n",
    "#y<c\n",
    "c = 0.07; y = 0.06; T=5.0\n",
    "j = arange(1,2*T+1)\n",
    "print(j) "
   ]
  },
  {
   "cell_type": "code",
   "execution_count": 3,
   "metadata": {
    "slideshow": {
     "slide_type": "fragment"
    }
   },
   "outputs": [
    {
     "name": "stdout",
     "output_type": "stream",
     "text": [
      "[0.03398058 0.03299086 0.03202996 0.03109705 0.03019131 0.02931195\n",
      " 0.0284582  0.02762932 0.02682459 0.02604329]\n"
     ]
    }
   ],
   "source": [
    "disc_cf = (c/2.0)/(1.0+y/2)**j\n",
    "print(disc_cf)"
   ]
  },
  {
   "cell_type": "code",
   "execution_count": 4,
   "metadata": {
    "slideshow": {
     "slide_type": "fragment"
    }
   },
   "outputs": [
    {
     "name": "stdout",
     "output_type": "stream",
     "text": [
      "1.042651014183879\n"
     ]
    }
   ],
   "source": [
    "P = sum(disc_cf) + 1.0/(1.0+y/2)**(T*2)\n",
    "print(P)"
   ]
  },
  {
   "cell_type": "code",
   "execution_count": 5,
   "metadata": {
    "slideshow": {
     "slide_type": "slide"
    }
   },
   "outputs": [
    {
     "name": "stdout",
     "output_type": "stream",
     "text": [
      "0.9594455211032247\n"
     ]
    }
   ],
   "source": [
    "#WHEN THE YIELD IS GREATER THAN THE COUPON\n",
    "\n",
    "#y>c\n",
    "c = 0.07; y = 0.08; T=5.0\n",
    "j = arange(1,2*T+1)\n",
    "disc_cf = (c/2.0)/(1.0+y/2)**j\n",
    "P = sum(disc_cf) + 1.0/(1.0+y/2)**(T*2)\n",
    "print(P)"
   ]
  },
  {
   "cell_type": "code",
   "execution_count": 6,
   "metadata": {
    "slideshow": {
     "slide_type": "fragment"
    }
   },
   "outputs": [
    {
     "name": "stdout",
     "output_type": "stream",
     "text": [
      "1.0000000000000007\n"
     ]
    }
   ],
   "source": [
    "#WHEN THE YIELD IS EQUAL TO THE COUPON\n",
    "\n",
    "#y=c\n",
    "c = 0.07; y = 0.07; T=5.0\n",
    "j = arange(1,2*T+1)\n",
    "disc_cf = (c/2.0)/(1.0+y/2)**j\n",
    "P = sum(disc_cf) + 1.0/(1.0+y/2)**(T*2)\n",
    "print(P)"
   ]
  },
  {
   "cell_type": "markdown",
   "metadata": {
    "slideshow": {
     "slide_type": "slide"
    }
   },
   "source": [
    "### Different discounting bases\n",
    "\n",
    "- The price of a bond or the present value of cashflows depends on a clear definition of the compounding/discounting basis. Discounting cashflows at interest rate $r$ on a semi-annual basis gives different answers than discounting on an annual basis, or a quarterly basis. In the following example, we examine how the present value of a dollar changes as we increase the discounting frequency from once a year (annual) to infinitely often (continuous discounting). \n",
    "\n",
    "- It is fitting to begin with the fundamental mathematical constant, $e = 2.718281828...$, which is also the function $\\exp(\\cdot)$. We often write this function as $e^x$, where $x$ can be a real or complex variable. It shows up in many places, especially in Finance, where it is used for continuous compounding and discounting of money at a given interest rate $r$ over some time horizon $t$. \n",
    "\n"
   ]
  },
  {
   "cell_type": "markdown",
   "metadata": {
    "slideshow": {
     "slide_type": "slide"
    }
   },
   "source": [
    "### \"e\"\n",
    "\n",
    "- The constant $e$ is defined as the limit of a specific function:\n",
    "\n",
    "$$  e = \\lim_{n \\rightarrow \\infty} \\left( 1 + \\frac{1}{n} \\right)^n $$\n",
    "\n",
    "- Given $y=e^x$, a fixed change in $x$ results in the same continuous percentage change in $y$. \n",
    "- This is because $\\ln(y) = x$, where $\\ln(\\cdot)$ is the natural logarithm function, and is the inverse function of the exponential function. \n",
    "- Recall also that the first derivative of this function is $\\frac{dy}{dx} = e^x$, i.e., the function itself. "
   ]
  },
  {
   "cell_type": "markdown",
   "metadata": {
    "slideshow": {
     "slide_type": "slide"
    }
   },
   "source": [
    "\n",
    "### Exponential compounding ...\n",
    "\n",
    "...is the limit of successively shorter intervals over discrete compounding. \n",
    "\n",
    "- Given a horizon of $t$ years divided into $n$ intervals per year, one dollar compounded from time zero to time $t$ years over these $n$ intervals at per annum rate $r$ may be written as $\\left(1 + \\frac{r}{n}  \\right)^{nt}$. \n",
    "\n",
    "- Continuous-compounding is the limit of this equation when the number of periods $n$ goes to infinity: \n",
    "$\\lim_{n \\rightarrow \\infty} \\left(1 + \\frac{r}{n}  \\right)^{nt}\n",
    "= \\lim_{n \\rightarrow \\infty} \\left[ \\left(1 + \\frac{1}{n/r}\n",
    "\\right)^{n/r}\\right]^{tr} = e^{rt}$\n",
    "\n",
    "- This is the forward value of one dollar. Present value is just the reverse. Therefore, the price today of a dollar received $t$ years from today is $P = e^{-rt}$."
   ]
  },
  {
   "cell_type": "code",
   "execution_count": 7,
   "metadata": {
    "slideshow": {
     "slide_type": "slide"
    }
   },
   "outputs": [
    {
     "name": "stdout",
     "output_type": "stream",
     "text": [
      "[0.90909091 0.90702948 0.90595064 0.90539845 0.90511905 0.90497852\n",
      " 0.90490804 0.90487268 0.90484625 0.90484184 0.90483963 0.90483852\n",
      " 0.90483746]\n"
     ]
    }
   ],
   "source": [
    "#DIFFERENT DISCOUNTING BASES\n",
    "k = array([1,2,4,8,16,32,64,128.256,512,1024,2048,4096,100000])\n",
    "r = 0.10\n",
    "pv = 1.0/(1.0+r/k)**k\n",
    "print(pv)"
   ]
  },
  {
   "cell_type": "code",
   "execution_count": 8,
   "metadata": {
    "slideshow": {
     "slide_type": "fragment"
    }
   },
   "outputs": [
    {
     "data": {
      "text/plain": [
       "Text(0.5, 1.0, 'Discount Bond Price')"
      ]
     },
     "execution_count": 8,
     "metadata": {},
     "output_type": "execute_result"
    },
    {
     "data": {
      "image/png": "[encoded data removed]",
      "text/plain": [
       "<Figure size 432x288 with 1 Axes>"
      ]
     },
     "metadata": {},
     "output_type": "display_data"
    }
   ],
   "source": [
    "plot(pv)\n",
    "grid()\n",
    "xlabel(\"Years\"); ylabel(\"Price\"); title(\"Discount Bond Price\")"
   ]
  },
  {
   "cell_type": "markdown",
   "metadata": {
    "slideshow": {
     "slide_type": "slide"
    }
   },
   "source": [
    "## Bonds with Continuous Coupons\n",
    "\n",
    "The price of a bond of par value $F$ that pays coupon $c$ continuously till maturity $T$, and has a yield $y$ is\n",
    "\n",
    "$P = \\int_0^T F \\cdot c \\cdot e^{-yt}\\; dt + F \\cdot e^{-yT}$\n",
    "\n",
    "Assuming $F=1$, and taking the simple integral above, we have that\n",
    "\n",
    "$P = \\frac{c}{y} \\left[1-e^{-yT} \\right] + e^{-yT}$\n",
    "\n",
    "Check that when $c=y$, the bond trades at par, i.e., $P=1=F$. \n",
    "\n",
    "What happens to the bond's price as maturity changes?\n",
    "\n",
    "$\\frac{dP}{dT} = e^{-yT} (c-y)$\n",
    "\n",
    "which depends on the relative difference between $c$ and $y$. "
   ]
  },
  {
   "cell_type": "code",
   "execution_count": 2,
   "metadata": {
    "slideshow": {
     "slide_type": "slide"
    }
   },
   "outputs": [
    {
     "name": "stdout",
     "output_type": "stream",
     "text": [
      "Populating the interactive namespace from numpy and matplotlib\n",
      "[2.0000e-04 4.0000e-04 6.0000e-04 ... 1.9996e+00 1.9998e+00 2.0000e+00]\n"
     ]
    }
   ],
   "source": [
    "%pylab inline\n",
    "#CONTINUOUS COUPONS\n",
    "n = 10000; T = 2.0; dt = T/n\n",
    "c = 0.06; y = 0.05\n",
    "t = linspace(dt,T,n)\n",
    "print(t)"
   ]
  },
  {
   "cell_type": "code",
   "execution_count": 3,
   "metadata": {
    "slideshow": {
     "slide_type": "fragment"
    }
   },
   "outputs": [
    {
     "name": "stdout",
     "output_type": "stream",
     "text": [
      "P from integration =  1.019031945418268\n"
     ]
    }
   ],
   "source": [
    "P = sum(c*exp(-y*t)*dt) + exp(-y*T)\n",
    "print(\"P from integration = \",P)"
   ]
  },
  {
   "cell_type": "code",
   "execution_count": 4,
   "metadata": {
    "slideshow": {
     "slide_type": "fragment"
    }
   },
   "outputs": [
    {
     "name": "stdout",
     "output_type": "stream",
     "text": [
      "Pexact =  1.019032516392808\n"
     ]
    }
   ],
   "source": [
    "def Pexact(c,y,T):\n",
    "    return c/y*(1-exp(-y*T)) + exp(-y*T)\n",
    "print(\"Pexact = \",Pexact(c,y,T))"
   ]
  },
  {
   "cell_type": "markdown",
   "metadata": {
    "slideshow": {
     "slide_type": "slide"
    }
   },
   "source": [
    "### Change in Bond Value with Time\n",
    "\n",
    "$dP/dT = e^{-yT}(c-y)$"
   ]
  },
  {
   "cell_type": "code",
   "execution_count": 12,
   "metadata": {
    "slideshow": {
     "slide_type": "fragment"
    }
   },
   "outputs": [
    {
     "name": "stdout",
     "output_type": "stream",
     "text": [
      "dP_dT =  0.009048374180359591\n"
     ]
    }
   ],
   "source": [
    "dP_dT = exp(-y*T)*(c-y)\n",
    "print(\"dP_dT = \",dP_dT)"
   ]
  },
  {
   "cell_type": "markdown",
   "metadata": {
    "slideshow": {
     "slide_type": "slide"
    }
   },
   "source": [
    "## Duration \n",
    "\n",
    "- Is the percentage change in value per dollar for a change in y.\n",
    "$$ D = -\\frac{1}{P} \\frac{dP}{dy} $$\n",
    "\n",
    "- Duration is represented in units of years. "
   ]
  },
  {
   "cell_type": "code",
   "execution_count": 5,
   "metadata": {
    "slideshow": {
     "slide_type": "fragment"
    }
   },
   "outputs": [
    {
     "name": "stdout",
     "output_type": "stream",
     "text": [
      "Duration numerical =  1.8860703475494163\n"
     ]
    }
   ],
   "source": [
    "#COMPUTE DURATION NUMERICALLY\n",
    "dp_dy = (Pexact(c,y+0.0001,T) - Pexact(c,y-0.0001,T))/0.0002\n",
    "D_num = -1.0*dp_dy/Pexact(c,y,T) \n",
    "print(\"Duration numerical = \",D_num)"
   ]
  },
  {
   "cell_type": "markdown",
   "metadata": {
    "slideshow": {
     "slide_type": "slide"
    }
   },
   "source": [
    "### Analytical Duration\n",
    "\n",
    "We may also calculate duration analytically. \n",
    "\n",
    "$$\n",
    "P = \\frac{c}{y} \\left[1-e^{-yT} \\right] + e^{-yT}\n",
    "$$\n",
    "\n",
    "$$\n",
    "\\frac{dP}{dy} = \\left(T e^{-yT}\\right)\\left(\\frac{c}{y}-1 \\right) - \\frac{c}{y^2}\\left(1-e^{-yT}\\right)\n",
    "$$"
   ]
  },
  {
   "cell_type": "code",
   "execution_count": 6,
   "metadata": {
    "slideshow": {
     "slide_type": "fragment"
    }
   },
   "outputs": [
    {
     "name": "stdout",
     "output_type": "stream",
     "text": [
      "Duration analytical =  1.8860703353471044\n"
     ]
    }
   ],
   "source": [
    "#COMPUTE DURATION ANALYTICALLY\n",
    "P = (c/y)*(1-exp(-y*T)) + exp(-y*T)\n",
    "dP_dy = T*exp(-y*T)*(c/y-1) - (c/y**2)*(1-exp(-y*T))\n",
    "print(\"Duration analytical = \",-dP_dy/P)"
   ]
  },
  {
   "cell_type": "code",
   "execution_count": 15,
   "metadata": {
    "slideshow": {
     "slide_type": "slide"
    }
   },
   "outputs": [
    {
     "name": "stdout",
     "output_type": "stream",
     "text": [
      "1 0.970591106929188\n",
      "2 1.8846593880473754\n",
      "3 2.7454964764788\n",
      "4 3.5562023155574423\n",
      "5 4.319696321971369\n",
      "6 5.03872789881615\n",
      "7 5.715886336415721\n",
      "8 6.35361013656432\n",
      "9 6.95419579376684\n",
      "10 7.519806065099559\n",
      "11 8.05247775847168\n",
      "12 8.554129067333806\n",
      "13 9.026566478246275\n",
      "14 9.471491276182006\n",
      "15 9.890505670990013\n",
      "16 10.285118567081467\n",
      "17 10.656750997115362\n",
      "18 11.006741239251015\n",
      "19 11.336349636394935\n",
      "20 11.64676313479663\n",
      "21 11.93909955833716\n",
      "22 12.214411633902493\n",
      "23 12.473690782337393\n",
      "24 12.717870688631304\n",
      "25 12.947830664192837\n",
      "26 13.16439881332059\n",
      "27 13.368355015273089\n",
      "28 13.560433732676502\n",
      "29 13.741326656383388\n"
     ]
    }
   ],
   "source": [
    "#Duration and maturity\n",
    "def Duration(c,y,T):\n",
    "    P = (c/y)*(1-exp(-y*T)) + exp(-y*T)\n",
    "    dP_dy = T*exp(-y*T)*(c/y-1) - (c/y**2)*(1-exp(-y*T))\n",
    "    return -1.0*dP_dy/P\n",
    "\n",
    "c = 0.06; y = 0.06\n",
    "for T in arange(1,30):\n",
    "    print(T,Duration(c,y,T))"
   ]
  }
 ],
 "metadata": {
  "celltoolbar": "Slideshow",
  "kernelspec": {
   "display_name": "Python 3",
   "language": "python",
   "name": "python3"
  },
  "language_info": {
   "codemirror_mode": {
    "name": "ipython",
    "version": 3
   },
   "file_extension": ".py",
   "mimetype": "text/x-python",
   "name": "python",
   "nbconvert_exporter": "python",
   "pygments_lexer": "ipython3",
   "version": "3.6.7"
  }
 },
 "nbformat": 4,
 "nbformat_minor": 1
}
