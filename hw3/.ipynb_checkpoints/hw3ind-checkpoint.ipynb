{
 "cells": [
  {
   "cell_type": "markdown",
   "metadata": {
    "slideshow": {
     "slide_type": "-"
    }
   },
   "source": [
    "# HW4 \\#3\n",
    "\n",
    "**Glen Chandler**"
   ]
  },
  {
   "cell_type": "code",
   "execution_count": 3,
   "metadata": {
    "slideshow": {
     "slide_type": "fragment"
    }
   },
   "outputs": [
    {
     "name": "stdout",
     "output_type": "stream",
     "text": [
      "Populating the interactive namespace from numpy and matplotlib\n"
     ]
    }
   ],
   "source": [
    "%pylab inline\n",
    "import os\n",
    "from ipypublish import nb_setup\n",
    "import pandas as pd\n",
    "from datetime import datetime\n",
    "import pandas_datareader.data as web"
   ]
  },
  {
   "cell_type": "markdown",
   "metadata": {},
   "source": [
    "### Collecting 6 years of NKE data"
   ]
  },
  {
   "cell_type": "code",
   "execution_count": 4,
   "metadata": {},
   "outputs": [],
   "source": [
    "stkdata = web.DataReader(\"NKE\",  \"yahoo\", datetime(2012,12,31), datetime(2018,12,31))\n",
    "stkp = stkdata[\"Adj Close\"]"
   ]
  },
  {
   "cell_type": "code",
   "execution_count": 3,
   "metadata": {},
   "outputs": [
    {
     "data": {
      "text/html": [
       "<div>\n",
       "<style scoped>\n",
       "    .dataframe tbody tr th:only-of-type {\n",
       "        vertical-align: middle;\n",
       "    }\n",
       "\n",
       "    .dataframe tbody tr th {\n",
       "        vertical-align: top;\n",
       "    }\n",
       "\n",
       "    .dataframe thead th {\n",
       "        text-align: right;\n",
       "    }\n",
       "</style>\n",
       "<table border=\"1\" class=\"dataframe\">\n",
       "  <thead>\n",
       "    <tr style=\"text-align: right;\">\n",
       "      <th></th>\n",
       "      <th>High</th>\n",
       "      <th>Low</th>\n",
       "      <th>Open</th>\n",
       "      <th>Close</th>\n",
       "      <th>Volume</th>\n",
       "      <th>Adj Close</th>\n",
       "    </tr>\n",
       "    <tr>\n",
       "      <th>Date</th>\n",
       "      <th></th>\n",
       "      <th></th>\n",
       "      <th></th>\n",
       "      <th></th>\n",
       "      <th></th>\n",
       "      <th></th>\n",
       "    </tr>\n",
       "  </thead>\n",
       "  <tbody>\n",
       "    <tr>\n",
       "      <th>2012-12-31</th>\n",
       "      <td>25.820000</td>\n",
       "      <td>25.295000</td>\n",
       "      <td>25.415001</td>\n",
       "      <td>25.799999</td>\n",
       "      <td>6807400.0</td>\n",
       "      <td>22.869360</td>\n",
       "    </tr>\n",
       "    <tr>\n",
       "      <th>2013-01-02</th>\n",
       "      <td>26.240000</td>\n",
       "      <td>25.700001</td>\n",
       "      <td>26.200001</td>\n",
       "      <td>25.920000</td>\n",
       "      <td>7512800.0</td>\n",
       "      <td>22.975725</td>\n",
       "    </tr>\n",
       "    <tr>\n",
       "      <th>2013-01-03</th>\n",
       "      <td>26.299999</td>\n",
       "      <td>25.889999</td>\n",
       "      <td>25.975000</td>\n",
       "      <td>26.184999</td>\n",
       "      <td>7232200.0</td>\n",
       "      <td>23.210630</td>\n",
       "    </tr>\n",
       "    <tr>\n",
       "      <th>2013-01-04</th>\n",
       "      <td>26.520000</td>\n",
       "      <td>26.235001</td>\n",
       "      <td>26.250000</td>\n",
       "      <td>26.440001</td>\n",
       "      <td>6794000.0</td>\n",
       "      <td>23.436663</td>\n",
       "    </tr>\n",
       "    <tr>\n",
       "      <th>2013-01-07</th>\n",
       "      <td>26.540001</td>\n",
       "      <td>26.264999</td>\n",
       "      <td>26.395000</td>\n",
       "      <td>26.480000</td>\n",
       "      <td>6489400.0</td>\n",
       "      <td>23.472116</td>\n",
       "    </tr>\n",
       "  </tbody>\n",
       "</table>\n",
       "</div>"
      ],
      "text/plain": [
       "                 High        Low       Open      Close     Volume  Adj Close\n",
       "Date                                                                        \n",
       "2012-12-31  25.820000  25.295000  25.415001  25.799999  6807400.0  22.869360\n",
       "2013-01-02  26.240000  25.700001  26.200001  25.920000  7512800.0  22.975725\n",
       "2013-01-03  26.299999  25.889999  25.975000  26.184999  7232200.0  23.210630\n",
       "2013-01-04  26.520000  26.235001  26.250000  26.440001  6794000.0  23.436663\n",
       "2013-01-07  26.540001  26.264999  26.395000  26.480000  6489400.0  23.472116"
      ]
     },
     "execution_count": 3,
     "metadata": {},
     "output_type": "execute_result"
    }
   ],
   "source": [
    "stkdata.head()"
   ]
  },
  {
   "cell_type": "code",
   "execution_count": 1,
   "metadata": {},
   "outputs": [
    {
     "ename": "NameError",
     "evalue": "name 'stkp' is not defined",
     "output_type": "error",
     "traceback": [
      "\u001b[0;31m---------------------------------------------------------------------------\u001b[0m",
      "\u001b[0;31mNameError\u001b[0m                                 Traceback (most recent call last)",
      "\u001b[0;32m<ipython-input-1-cb938e55ae22>\u001b[0m in \u001b[0;36m<module>\u001b[0;34m\u001b[0m\n\u001b[0;32m----> 1\u001b[0;31m \u001b[0mrets\u001b[0m \u001b[0;34m=\u001b[0m \u001b[0mstkp\u001b[0m\u001b[0;34m.\u001b[0m\u001b[0mpct_change\u001b[0m\u001b[0;34m(\u001b[0m\u001b[0;34m)\u001b[0m\u001b[0;34m\u001b[0m\u001b[0;34m\u001b[0m\u001b[0m\n\u001b[0m",
      "\u001b[0;31mNameError\u001b[0m: name 'stkp' is not defined"
     ]
    }
   ],
   "source": [
    "rets = stkp.pct_change()"
   ]
  },
  {
   "cell_type": "markdown",
   "metadata": {},
   "source": [
    "# Old homework"
   ]
  },
  {
   "cell_type": "markdown",
   "metadata": {},
   "source": [
    "## 4.a"
   ]
  },
  {
   "cell_type": "code",
   "execution_count": 5,
   "metadata": {},
   "outputs": [
    {
     "name": "stdout",
     "output_type": "stream",
     "text": [
      "Mean Daily Return:  0.0008825164645298252\n",
      "Mean Yearly Return:  0.22239414906151594\n"
     ]
    }
   ],
   "source": [
    "mean_daily_ret = rets.mean()\n",
    "mean_yearly_ret = rets.mean() * 252.0\n",
    "\n",
    "print(\"Mean Daily Return: \", mean_daily_ret)\n",
    "print(\"Mean Yearly Return: \", mean_yearly_ret)"
   ]
  },
  {
   "cell_type": "markdown",
   "metadata": {},
   "source": [
    "## 4.b"
   ]
  },
  {
   "cell_type": "code",
   "execution_count": 6,
   "metadata": {},
   "outputs": [
    {
     "name": "stdout",
     "output_type": "stream",
     "text": [
      "Daily standard deviation:  0.014583912411424807\n",
      "Yearly standard deviation:  0.23151243229787002\n"
     ]
    }
   ],
   "source": [
    "daily_stddev = rets.std()\n",
    "yearly_stddev = rets.std() * sqrt(252.0)\n",
    "\n",
    "print(\"Daily standard deviation: \", daily_stddev)\n",
    "print(\"Yearly standard deviation: \", yearly_stddev)"
   ]
  },
  {
   "cell_type": "markdown",
   "metadata": {},
   "source": [
    "## 4.c"
   ]
  },
  {
   "cell_type": "code",
   "execution_count": 7,
   "metadata": {},
   "outputs": [
    {
     "name": "stdout",
     "output_type": "stream",
     "text": [
      "one year mean:  0.0018745729413054682\n",
      "one year stddev:  0.012838052187936053\n"
     ]
    },
    {
     "data": {
      "image/png": "[encoded data removed]",
      "text/plain": [
       "<Figure size 432x288 with 1 Axes>"
      ]
     },
     "metadata": {
      "needs_background": "light"
     },
     "output_type": "display_data"
    }
   ],
   "source": [
    "one_year_mean = rets[0:252].mean()\n",
    "one_year_stddev = rets[0:252].std()\n",
    "print(\"one year mean: \", one_year_mean)\n",
    "print(\"one year stddev: \", one_year_stddev)\n",
    "\n",
    "random_draws_1yr = numpy.random.normal(one_year_mean, one_year_stddev, 1511)\n",
    "\n",
    "hist(random_draws_1yr,50)\n",
    "grid()"
   ]
  },
  {
   "cell_type": "markdown",
   "metadata": {},
   "source": [
    "## 4.d"
   ]
  },
  {
   "cell_type": "code",
   "execution_count": 8,
   "metadata": {},
   "outputs": [
    {
     "name": "stdout",
     "output_type": "stream",
     "text": [
      "five year mean:  0.0008808372707065675\n",
      "five year stddev:  0.013677817275170477\n"
     ]
    },
    {
     "data": {
      "image/png": "[encoded data removed]",
      "text/plain": [
       "<Figure size 432x288 with 1 Axes>"
      ]
     },
     "metadata": {
      "needs_background": "light"
     },
     "output_type": "display_data"
    }
   ],
   "source": [
    "five_year_mean = rets[0:252*5].mean()\n",
    "five_year_stddev = rets[0:252*5].std()\n",
    "print(\"five year mean: \", five_year_mean)\n",
    "print(\"five year stddev: \", five_year_stddev)\n",
    "\n",
    "random_draws_5yr = numpy.random.normal(one_year_mean, one_year_stddev, 252 * 5)\n",
    "\n",
    "hist(random_draws_5yr, 50)\n",
    "grid()"
   ]
  },
  {
   "cell_type": "markdown",
   "metadata": {},
   "source": [
    "When comparing the two distributions, the smaller resolution yields a higher average. This is because the stock I chose is mostly positive. The smaller sample size means that the smaller distribution would be more shifted towards the positive return that is seen for the one year window."
   ]
  },
  {
   "cell_type": "markdown",
   "metadata": {},
   "source": [
    "## 4.e"
   ]
  },
  {
   "cell_type": "code",
   "execution_count": 9,
   "metadata": {},
   "outputs": [],
   "source": [
    "#Generate annualized return time series\n",
    "annualized_rets = rets * 252.0"
   ]
  },
  {
   "cell_type": "code",
   "execution_count": 10,
   "metadata": {},
   "outputs": [
    {
     "name": "stderr",
     "output_type": "stream",
     "text": [
      "/home/gchandle/.local/lib/python3.6/site-packages/numpy/lib/histograms.py:824: RuntimeWarning: invalid value encountered in greater_equal\n",
      "  keep = (tmp_a >= first_edge)\n",
      "/home/gchandle/.local/lib/python3.6/site-packages/numpy/lib/histograms.py:825: RuntimeWarning: invalid value encountered in less_equal\n",
      "  keep &= (tmp_a <= last_edge)\n"
     ]
    },
    {
     "name": "stdout",
     "output_type": "stream",
     "text": [
      "Blue: Simulated daily return\n",
      "Orange: Annualized returns\n"
     ]
    },
    {
     "data": {
      "image/png": "[encoded data removed]",
      "text/plain": [
       "<Figure size 432x288 with 1 Axes>"
      ]
     },
     "metadata": {
      "needs_background": "light"
     },
     "output_type": "display_data"
    }
   ],
   "source": [
    "hist(random_draws_1yr, 50, alpha=0.5)\n",
    "hist(annualized_rets, 50, alpha=0.5)\n",
    "print(\"Blue: Simulated daily return\")\n",
    "print(\"Orange: Annualized returns\")\n",
    "show()"
   ]
  },
  {
   "cell_type": "markdown",
   "metadata": {},
   "source": [
    "Annualizing the returns of daily stock scaled the stock prices to be outside of the typical daily range of the graph from 4c, as that graph deals with daily returns. Both graphs appeared to be normal, howevever overlaying yearly returns outscaled daily returns significantly."
   ]
  },
  {
   "cell_type": "markdown",
   "metadata": {},
   "source": [
    "## 4.f"
   ]
  },
  {
   "cell_type": "code",
   "execution_count": 11,
   "metadata": {},
   "outputs": [],
   "source": [
    "# Setup variables\n",
    "n = 20\n",
    "mu = mean_daily_ret\n",
    "sigma = daily_stddev\n",
    "\n",
    "# Calculate random variable inequality\n",
    "prob = (-.1) / n\n",
    "z_check_val = (prob - mu) / (sigma / sqrt(n))"
   ]
  },
  {
   "cell_type": "code",
   "execution_count": 12,
   "metadata": {},
   "outputs": [
    {
     "name": "stdout",
     "output_type": "stream",
     "text": [
      "probability:  0.03562621377474326\n"
     ]
    }
   ],
   "source": [
    "from scipy import stats\n",
    "\n",
    "# Compute z score from z_check_val\n",
    "probability = stats.norm.cdf(z_check_val)\n",
    "print(\"probability: \", probability)"
   ]
  },
  {
   "cell_type": "markdown",
   "metadata": {},
   "source": [
    "## 4.g"
   ]
  },
  {
   "cell_type": "code",
   "execution_count": 13,
   "metadata": {},
   "outputs": [
    {
     "name": "stdout",
     "output_type": "stream",
     "text": [
      "0.02878\n"
     ]
    }
   ],
   "source": [
    "count_occurances = 0\n",
    "for j in range(0, 100000):\n",
    "    temp_sum = 0\n",
    "    for i in range(0, 20):\n",
    "        rand_index = random.randint(1, len(rets))\n",
    "        temp_sum = temp_sum + rets[rand_index]\n",
    "    if(temp_sum <= -0.10):\n",
    "        count_occurances =  count_occurances + 1\n",
    "print(count_occurances/100000)"
   ]
  },
  {
   "cell_type": "markdown",
   "metadata": {},
   "source": [
    "We see here that when we compare the raw probability distribution value to our manual calculation, we get a similar result. Since 100000 trials is significantly large, we are able to see this value come out appropriately. However, there is about a 1% difference between the values as the bootstrapping may or may not make use of actual outliers rather than simple means that the formula uses."
   ]
  }
 ],
 "metadata": {
  "anaconda-cloud": {},
  "celltoolbar": "Slideshow",
  "kernelspec": {
   "display_name": "Python 3",
   "language": "python",
   "name": "python3"
  },
  "language_info": {
   "codemirror_mode": {
    "name": "ipython",
    "version": 3
   },
   "file_extension": ".py",
   "mimetype": "text/x-python",
   "name": "python",
   "nbconvert_exporter": "python",
   "pygments_lexer": "ipython3",
   "version": "3.6.7"
  }
 },
 "nbformat": 4,
 "nbformat_minor": 1
}
