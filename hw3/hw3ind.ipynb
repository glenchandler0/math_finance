{
 "cells": [
  {
   "cell_type": "markdown",
   "metadata": {
    "slideshow": {
     "slide_type": "-"
    }
   },
   "source": [
    "# HW4 \\#3\n",
    "\n",
    "**Glen Chandler**"
   ]
  },
  {
   "cell_type": "code",
   "execution_count": 3,
   "metadata": {
    "slideshow": {
     "slide_type": "fragment"
    }
   },
   "outputs": [
    {
     "name": "stdout",
     "output_type": "stream",
     "text": [
      "Populating the interactive namespace from numpy and matplotlib\n"
     ]
    }
   ],
   "source": [
    "%pylab inline\n",
    "import os\n",
    "from ipypublish import nb_setup\n",
    "import pandas as pd\n",
    "from datetime import datetime\n",
    "import pandas_datareader.data as web"
   ]
  },
  {
   "cell_type": "markdown",
   "metadata": {},
   "source": [
    "### Collecting 6 years of NKE data"
   ]
  },
  {
   "cell_type": "code",
   "execution_count": 4,
   "metadata": {},
   "outputs": [],
   "source": [
    "stkdata = web.DataReader(\"NKE\",  \"yahoo\", datetime(2012,12,31), datetime(2018,12,31))\n",
    "stkp = stkdata[\"Adj Close\"]"
   ]
  },
  {
   "cell_type": "code",
   "execution_count": 5,
   "metadata": {},
   "outputs": [
    {
     "data": {
      "text/html": [
       "<div>\n",
       "<style scoped>\n",
       "    .dataframe tbody tr th:only-of-type {\n",
       "        vertical-align: middle;\n",
       "    }\n",
       "\n",
       "    .dataframe tbody tr th {\n",
       "        vertical-align: top;\n",
       "    }\n",
       "\n",
       "    .dataframe thead th {\n",
       "        text-align: right;\n",
       "    }\n",
       "</style>\n",
       "<table border=\"1\" class=\"dataframe\">\n",
       "  <thead>\n",
       "    <tr style=\"text-align: right;\">\n",
       "      <th></th>\n",
       "      <th>High</th>\n",
       "      <th>Low</th>\n",
       "      <th>Open</th>\n",
       "      <th>Close</th>\n",
       "      <th>Volume</th>\n",
       "      <th>Adj Close</th>\n",
       "    </tr>\n",
       "    <tr>\n",
       "      <th>Date</th>\n",
       "      <th></th>\n",
       "      <th></th>\n",
       "      <th></th>\n",
       "      <th></th>\n",
       "      <th></th>\n",
       "      <th></th>\n",
       "    </tr>\n",
       "  </thead>\n",
       "  <tbody>\n",
       "    <tr>\n",
       "      <th>2012-12-31</th>\n",
       "      <td>25.820000</td>\n",
       "      <td>25.295000</td>\n",
       "      <td>25.415001</td>\n",
       "      <td>25.799999</td>\n",
       "      <td>6807400.0</td>\n",
       "      <td>22.869360</td>\n",
       "    </tr>\n",
       "    <tr>\n",
       "      <th>2013-01-02</th>\n",
       "      <td>26.240000</td>\n",
       "      <td>25.700001</td>\n",
       "      <td>26.200001</td>\n",
       "      <td>25.920000</td>\n",
       "      <td>7512800.0</td>\n",
       "      <td>22.975725</td>\n",
       "    </tr>\n",
       "    <tr>\n",
       "      <th>2013-01-03</th>\n",
       "      <td>26.299999</td>\n",
       "      <td>25.889999</td>\n",
       "      <td>25.975000</td>\n",
       "      <td>26.184999</td>\n",
       "      <td>7232200.0</td>\n",
       "      <td>23.210630</td>\n",
       "    </tr>\n",
       "    <tr>\n",
       "      <th>2013-01-04</th>\n",
       "      <td>26.520000</td>\n",
       "      <td>26.235001</td>\n",
       "      <td>26.250000</td>\n",
       "      <td>26.440001</td>\n",
       "      <td>6794000.0</td>\n",
       "      <td>23.436663</td>\n",
       "    </tr>\n",
       "    <tr>\n",
       "      <th>2013-01-07</th>\n",
       "      <td>26.540001</td>\n",
       "      <td>26.264999</td>\n",
       "      <td>26.395000</td>\n",
       "      <td>26.480000</td>\n",
       "      <td>6489400.0</td>\n",
       "      <td>23.472116</td>\n",
       "    </tr>\n",
       "  </tbody>\n",
       "</table>\n",
       "</div>"
      ],
      "text/plain": [
       "                 High        Low       Open      Close     Volume  Adj Close\n",
       "Date                                                                        \n",
       "2012-12-31  25.820000  25.295000  25.415001  25.799999  6807400.0  22.869360\n",
       "2013-01-02  26.240000  25.700001  26.200001  25.920000  7512800.0  22.975725\n",
       "2013-01-03  26.299999  25.889999  25.975000  26.184999  7232200.0  23.210630\n",
       "2013-01-04  26.520000  26.235001  26.250000  26.440001  6794000.0  23.436663\n",
       "2013-01-07  26.540001  26.264999  26.395000  26.480000  6489400.0  23.472116"
      ]
     },
     "execution_count": 5,
     "metadata": {},
     "output_type": "execute_result"
    }
   ],
   "source": [
    "stkdata.head()"
   ]
  },
  {
   "cell_type": "code",
   "execution_count": 32,
   "metadata": {},
   "outputs": [],
   "source": [
    "rets = stkp.pct_change()"
   ]
  },
  {
   "cell_type": "markdown",
   "metadata": {},
   "source": [
    "# a)"
   ]
  },
  {
   "cell_type": "code",
   "execution_count": 38,
   "metadata": {},
   "outputs": [],
   "source": [
    "rets = rets[1:] #Removing first NaN value\n",
    "rets = np.sort(rets)"
   ]
  },
  {
   "cell_type": "markdown",
   "metadata": {},
   "source": [
    "### Compute 99th percentile index"
   ]
  },
  {
   "cell_type": "code",
   "execution_count": 39,
   "metadata": {},
   "outputs": [
    {
     "name": "stdout",
     "output_type": "stream",
     "text": [
      "n:  1510  index:  1495\n"
     ]
    }
   ],
   "source": [
    "n = len(rets)\n",
    "index99th = int(ceil(.99 * n))\n",
    "print(\"n: \",n, \" index: \", index99th)"
   ]
  },
  {
   "cell_type": "markdown",
   "metadata": {},
   "source": [
    "### Find value at 99th percentile index"
   ]
  },
  {
   "cell_type": "code",
   "execution_count": 47,
   "metadata": {},
   "outputs": [
    {
     "name": "stdout",
     "output_type": "stream",
     "text": [
      "99th percentile val:  0.04023693434439046\n",
      "\n",
      "Top 1%: \n"
     ]
    },
    {
     "data": {
      "text/plain": [
       "array([0.04023693, 0.04267254, 0.04691507, 0.04800765, 0.0483546 ,\n",
       "       0.04847417, 0.0505168 , 0.05461952, 0.0716719 , 0.07209985,\n",
       "       0.0889449 , 0.10964839, 0.11063459, 0.11129716, 0.12225769])"
      ]
     },
     "execution_count": 47,
     "metadata": {},
     "output_type": "execute_result"
    }
   ],
   "source": [
    "val = rets[index99th]\n",
    "print(\"99th percentile val: \", val)\n",
    "print(\"\\nTop 1%: \")\n",
    "rets[index99th:]"
   ]
  },
  {
   "cell_type": "markdown",
   "metadata": {},
   "source": [
    "# b)"
   ]
  },
  {
   "cell_type": "markdown",
   "metadata": {},
   "source": [
    "### Find the 1st percentile index"
   ]
  },
  {
   "cell_type": "code",
   "execution_count": 43,
   "metadata": {},
   "outputs": [
    {
     "name": "stdout",
     "output_type": "stream",
     "text": [
      "n:  1510  index:  16\n"
     ]
    }
   ],
   "source": [
    "index1st = int(ceil(.01 * n))\n",
    "print(\"n: \",n, \" index: \", index1st)"
   ]
  },
  {
   "cell_type": "markdown",
   "metadata": {},
   "source": [
    "### Find value at 1st percentile"
   ]
  },
  {
   "cell_type": "code",
   "execution_count": 61,
   "metadata": {},
   "outputs": [
    {
     "name": "stdout",
     "output_type": "stream",
     "text": [
      "1st percentile val:  -0.034918748958215784\n",
      "\n",
      "Bottom 1%: \n"
     ]
    },
    {
     "data": {
      "text/plain": [
       "array([-0.07050505, -0.06814224, -0.05900243, -0.05121704, -0.04985869,\n",
       "       -0.04835265, -0.04784388, -0.04368253, -0.04210057, -0.03790461,\n",
       "       -0.03776656, -0.03725722, -0.03712596, -0.03699334, -0.03626089,\n",
       "       -0.03537103])"
      ]
     },
     "execution_count": 61,
     "metadata": {},
     "output_type": "execute_result"
    }
   ],
   "source": [
    "val = rets[index1st]\n",
    "print(\"1st percentile val: \", val)\n",
    "print(\"\\nBottom 1%: \")\n",
    "rets[:index1st]"
   ]
  },
  {
   "cell_type": "markdown",
   "metadata": {},
   "source": [
    "# c)"
   ]
  },
  {
   "cell_type": "code",
   "execution_count": 60,
   "metadata": {},
   "outputs": [
    {
     "name": "stdout",
     "output_type": "stream",
     "text": [
      "[0.050516797820529646, 0.05461951812837729, 0.07167190458078299, 0.07209985469101365, 0.08894490304380098, 0.10964839142211913, 0.11063459104409779, 0.11129716151629077, 0.12225768700105877]\n"
     ]
    }
   ],
   "source": [
    "retsG5 = [x for x in rets if x > 0.05]\n",
    "print(retsG5)"
   ]
  },
  {
   "cell_type": "code",
   "execution_count": 62,
   "metadata": {},
   "outputs": [
    {
     "name": "stdout",
     "output_type": "stream",
     "text": [
      "Mean of returns greater than 5%:  0.08796564547200789\n"
     ]
    }
   ],
   "source": [
    "meanRetsG5 = mean(retsG5)\n",
    "print(\"Mean of returns greater than 5%: \", meanRetsG5)"
   ]
  },
  {
   "cell_type": "markdown",
   "metadata": {},
   "source": [
    "# d)"
   ]
  },
  {
   "cell_type": "markdown",
   "metadata": {},
   "source": [
    "### Basic statistics"
   ]
  },
  {
   "cell_type": "code",
   "execution_count": 75,
   "metadata": {},
   "outputs": [
    {
     "name": "stdout",
     "output_type": "stream",
     "text": [
      "Lowest Return:  -0.07050504594679152\n",
      "Sigma:  0.014579082501568412\n",
      "Mean:  0.0008825164645298256\n"
     ]
    }
   ],
   "source": [
    "lowestReturn = rets[0]\n",
    "sigma = np.std(rets)\n",
    "mu = np.mean(rets)\n",
    "print(\"Lowest Return: \", lowestReturn)\n",
    "print(\"Sigma: \", sigma)\n",
    "print(\"Mean: \", mu)"
   ]
  },
  {
   "cell_type": "markdown",
   "metadata": {},
   "source": [
    "### Computing number of sigma"
   ]
  },
  {
   "cell_type": "code",
   "execution_count": 78,
   "metadata": {},
   "outputs": [
    {
     "name": "stdout",
     "output_type": "stream",
     "text": [
      "distance:  -0.07138756241132135\n",
      "numSigma:  -4.896574417741412\n"
     ]
    }
   ],
   "source": [
    "distance = lowestReturn - mean\n",
    "numSigma = distance / sigma\n",
    "print(\"distance: \", distance)\n",
    "print(\"numSigma: \", numSigma)"
   ]
  }
 ],
 "metadata": {
  "anaconda-cloud": {},
  "celltoolbar": "Slideshow",
  "kernelspec": {
   "display_name": "Python 3",
   "language": "python",
   "name": "python3"
  },
  "language_info": {
   "codemirror_mode": {
    "name": "ipython",
    "version": 3
   },
   "file_extension": ".py",
   "mimetype": "text/x-python",
   "name": "python",
   "nbconvert_exporter": "python",
   "pygments_lexer": "ipython3",
   "version": "3.6.7"
  }
 },
 "nbformat": 4,
 "nbformat_minor": 1
}
